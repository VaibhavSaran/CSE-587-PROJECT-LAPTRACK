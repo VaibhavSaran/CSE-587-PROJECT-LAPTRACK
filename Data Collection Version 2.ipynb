{
 "cells": [
  {
   "cell_type": "markdown",
   "id": "fb5ac5de-f07d-4c7f-8572-63176966c47c",
   "metadata": {},
   "source": [
    "# 1. Importing Modules"
   ]
  },
  {
   "cell_type": "code",
   "execution_count": 1,
   "id": "16e7602e-69d9-4866-a38b-bb23f77fd998",
   "metadata": {},
   "outputs": [],
   "source": [
    "import numpy as np\n",
    "import pandas as pd\n",
    "import re\n",
    "import random\n",
    "import time\n",
    "import requests\n",
    "from bs4 import BeautifulSoup\n",
    "from urllib.parse import urljoin\n",
    "import os"
   ]
  },
  {
   "cell_type": "code",
   "execution_count": 2,
   "id": "8b23b8c7-ee41-4b7e-90c3-152fcd6909e6",
   "metadata": {},
   "outputs": [
    {
     "data": {
      "text/plain": [
       "'D:\\\\University at Buffalo\\\\Sem 1\\\\CSE 587 Data Intensive Computing\\\\CSE 587 PROJECT LAPTRACK'"
      ]
     },
     "execution_count": 2,
     "metadata": {},
     "output_type": "execute_result"
    }
   ],
   "source": [
    "# Checking the current working directory\n",
    "os.getcwd()"
   ]
  },
  {
   "cell_type": "markdown",
   "id": "cfc9645f-5efa-4410-8415-9dfc1eed9e53",
   "metadata": {},
   "source": [
    "# 2. Data Collection"
   ]
  },
  {
   "cell_type": "markdown",
   "id": "d3924137-4642-4c17-a1d9-7fbfb5f2d215",
   "metadata": {},
   "source": [
    "## Flipkart"
   ]
  },
  {
   "cell_type": "markdown",
   "id": "10fdef1a-2836-403a-bcc4-437d72227a28",
   "metadata": {},
   "source": [
    "1. For Flipkart, first we will collect the URLs of product\n",
    "2. The for each product page, we will scrape information from that page"
   ]
  },
  {
   "cell_type": "code",
   "execution_count": 3,
   "id": "99e4510b-8133-4e13-99fe-af4dce04d1bc",
   "metadata": {},
   "outputs": [],
   "source": [
    "# Defining Request Headers to scrape the data\n",
    "request_header = {\n",
    "    'Content-Type': 'text/html; charset=UTF-8',\n",
    "    'User-Agent': 'Mozilla/5.0 (Windows NT 10.0; Win64; x64; rv:109.0) Gecko/20100101 Firefox/119.0',\n",
    "    'Accept-Encoding': 'gzip, deflate, br',\n",
    "    'Referer': 'https://www.flipkart.com/',\n",
    "    'Origin': 'https://www.flipkart.com',\n",
    "    'Accept-Language': 'en-US,en;q=0.9'\n",
    "}"
   ]
  },
  {
   "cell_type": "code",
   "execution_count": 4,
   "id": "7506b82e-55c3-4fe8-abb8-2eafc9c72a88",
   "metadata": {},
   "outputs": [],
   "source": [
    "# Storing the URL as f string\n",
    "page = 1\n",
    "URL = f\"https://www.flipkart.com/search?q=laptop&sid=6bo%2Cb5g&as=on&as-show=on&otracker=AS_QueryStore_OrganicAutoSuggest_2_2_na_na_na&otracker1=AS_QueryStore_OrganicAutoSuggest_2_2_na_na_na&as-pos=2&as-type=RECENT&suggestionId=laptop%7CLaptops&requestId=ad586044-bac6-4f4f-93c7-456f2161e745&as-backfill=on&page={page}\""
   ]
  },
  {
   "cell_type": "markdown",
   "id": "01afc891-fb04-47cb-a959-207580263db0",
   "metadata": {},
   "source": [
    "Flipkart referencce URL: https://www.flipkart.com/search?q=laptop&sid=6bo%2Cb5g&as=on&as-show=on&otracker=AS_QueryStore_OrganicAutoSuggest_2_2_na_na_na&otracker1=AS_QueryStore_OrganicAutoSuggest_2_2_na_na_na&as-pos=2&as-type=RECENT&suggestionId=laptop%7CLaptops&requestId=ad586044-bac6-4f4f-93c7-456f2161e745&as-backfill=on&page=2"
   ]
  },
  {
   "cell_type": "code",
   "execution_count": 5,
   "id": "a16f8666-8099-4a3d-bab5-9c2fb27b4105",
   "metadata": {
    "scrolled": true
   },
   "outputs": [
    {
     "name": "stdout",
     "output_type": "stream",
     "text": [
      "Time Delay: 5 seconds    : Page 1  status: <Response [200]>\n",
      "Time Delay: 5 seconds    : Page 2  status: <Response [200]>\n",
      "Time Delay: 10 seconds    : Page 3  status: <Response [200]>\n",
      "Time Delay: 10 seconds    : Page 4  status: <Response [200]>\n",
      "Time Delay: 6 seconds    : Page 5  status: <Response [200]>\n",
      "Time Delay: 7 seconds    : Page 6  status: <Response [200]>\n",
      "Time Delay: 5 seconds    : Page 7  status: <Response [200]>\n",
      "Time Delay: 9 seconds    : Page 8  status: <Response [200]>\n",
      "Time Delay: 6 seconds    : Page 9  status: <Response [200]>\n",
      "Time Delay: 8 seconds    : Page 10  status: <Response [200]>\n",
      "Time Delay: 8 seconds    : Page 11  status: <Response [200]>\n",
      "Time Delay: 8 seconds    : Page 12  status: <Response [200]>\n",
      "Time Delay: 8 seconds    : Page 13  status: <Response [200]>\n",
      "Time Delay: 6 seconds    : Page 14  status: <Response [200]>\n",
      "Time Delay: 6 seconds    : Page 15  status: <Response [200]>\n",
      "Time Delay: 10 seconds    : Page 16  status: <Response [200]>\n",
      "Time Delay: 5 seconds    : Page 17  status: <Response [200]>\n",
      "Time Delay: 10 seconds    : Page 18  status: <Response [200]>\n",
      "Time Delay: 10 seconds    : Page 19  status: <Response [200]>\n",
      "Time Delay: 6 seconds    : Page 20  status: <Response [200]>\n",
      "Time Delay: 10 seconds    : Page 21  status: <Response [200]>\n",
      "Time Delay: 8 seconds    : Page 22  status: <Response [200]>\n",
      "Time Delay: 5 seconds    : Page 23  status: <Response [200]>\n",
      "Time Delay: 5 seconds    : Page 24  status: <Response [200]>\n",
      "Time Delay: 10 seconds    : Page 25  status: <Response [200]>\n",
      "Time Delay: 5 seconds    : Page 26  status: <Response [200]>\n",
      "Time Delay: 10 seconds    : Page 27  status: <Response [200]>\n",
      "Time Delay: 8 seconds    : Page 28  status: <Response [200]>\n",
      "Time Delay: 6 seconds    : Page 29  status: <Response [200]>\n",
      "Time Delay: 8 seconds    : Page 30  status: <Response [200]>\n",
      "Time Delay: 9 seconds    : Page 31  status: <Response [200]>\n",
      "Time Delay: 8 seconds    : Page 32  status: <Response [200]>\n",
      "Time Delay: 9 seconds    : Page 33  status: <Response [200]>\n",
      "Time Delay: 5 seconds    : Page 34  status: <Response [200]>\n",
      "Time Delay: 8 seconds    : Page 35  status: <Response [200]>\n",
      "Time Delay: 8 seconds    : Page 36  status: <Response [200]>\n",
      "Time Delay: 6 seconds    : Page 37  status: <Response [200]>\n",
      "Time Delay: 10 seconds    : Page 38  status: <Response [200]>\n",
      "Time Delay: 6 seconds    : Page 39  status: <Response [200]>\n",
      "Time Delay: 6 seconds    : Page 40  status: <Response [200]>\n",
      "Time Delay: 8 seconds    : Page 41  status: <Response [200]>\n",
      "Time Delay: 9 seconds    : Page 42  status: <Response [200]>\n",
      "Time Delay: 5 seconds    : Page 43  status: <Response [200]>\n",
      "Time Delay: 5 seconds    : Page 44  status: <Response [200]>\n",
      "Time Delay: 9 seconds    : Page 45  status: <Response [200]>\n",
      "Time Delay: 9 seconds    : Page 46  status: <Response [200]>\n",
      "Time Delay: 5 seconds    : Page 47  status: <Response [200]>\n",
      "Time Delay: 7 seconds    : Page 48  status: <Response [200]>\n",
      "Time Delay: 7 seconds    : Page 49  status: <Response [200]>\n",
      "Time Delay: 7 seconds    : Page 50  status: <Response [200]>\n",
      "Time Delay: 7 seconds    : Page 51  status: <Response [200]>\n",
      "Time Delay: 6 seconds    : Page 52  status: <Response [200]>\n",
      "Time Delay: 8 seconds    : Page 53  status: <Response [200]>\n",
      "Time Delay: 5 seconds    : Page 54  status: <Response [200]>\n",
      "Time Delay: 6 seconds    : Page 55  status: <Response [200]>\n",
      "Time Delay: 10 seconds    : Page 56  status: <Response [200]>\n",
      "Time Delay: 9 seconds    : Page 57  status: <Response [200]>\n",
      "Time Delay: 10 seconds    : Page 58  status: <Response [200]>\n",
      "Time Delay: 5 seconds    : Page 59  status: <Response [200]>\n",
      "Time Delay: 9 seconds    : Page 60  status: <Response [200]>\n",
      "Time Delay: 6 seconds    : Page 61  status: <Response [200]>\n",
      "Time Delay: 10 seconds    : Page 62  status: <Response [200]>\n",
      "Time Delay: 9 seconds    : Page 63  status: <Response [200]>\n",
      "Time Delay: 9 seconds    : Page 64  status: <Response [200]>\n",
      "Time Delay: 8 seconds    : Page 65  status: <Response [200]>\n",
      "Time Delay: 10 seconds    : Page 66  status: <Response [200]>\n",
      "Time Delay: 8 seconds    : Page 67  status: <Response [200]>\n",
      "Time Delay: 10 seconds    : Page 68  status: <Response [200]>\n",
      "Time Delay: 10 seconds    : Page 69  status: <Response [200]>\n",
      "Time Delay: 5 seconds    : Page 70  status: <Response [200]>\n",
      "Time Delay: 6 seconds    : Page 71  status: <Response [200]>\n",
      "Time Delay: 10 seconds    : Page 72  status: <Response [200]>\n",
      "Time Delay: 6 seconds    : Page 73  status: <Response [200]>\n",
      "Time Delay: 8 seconds    : Page 74  status: <Response [200]>\n",
      "Time Delay: 5 seconds    : Page 75  status: <Response [200]>\n",
      "Time Delay: 9 seconds    : Page 76  status: <Response [200]>\n",
      "Time Delay: 7 seconds    : Page 77  status: <Response [200]>\n",
      "Time Delay: 9 seconds    : Page 78  status: <Response [200]>\n",
      "Time Delay: 7 seconds    : Page 79  status: <Response [200]>\n",
      "Time Delay: 8 seconds    : Page 80  status: <Response [200]>\n",
      "Time Delay: 9 seconds    : Page 81  status: <Response [200]>\n",
      "Time Delay: 6 seconds    : Page 82  status: <Response [200]>\n",
      "Time Delay: 9 seconds    : Page 83  status: <Response [200]>\n",
      "Time Delay: 9 seconds    : Page 84  status: <Response [200]>\n",
      "Time Delay: 5 seconds    : Page 85  status: <Response [200]>\n",
      "Time Delay: 6 seconds    : Page 86  status: <Response [200]>\n",
      "Time Delay: 6 seconds    : Page 87  status: <Response [200]>\n",
      "Time Delay: 6 seconds    : Page 88  status: <Response [200]>\n"
     ]
    }
   ],
   "source": [
    "# Scraping Code\n",
    "\n",
    "total_pages = 88 # Total number of pages being scraped\n",
    "i = 1 # Counter to self verify the pages being scraped successfully\n",
    "raw_text = [] # List to store all the raw html code\n",
    "\n",
    "# Loop to iterate over all the pages by changing the f-string URL\n",
    "for page in range (1, total_pages+1):\n",
    "\n",
    "    # Fetching the data from URL based on the above request headers\n",
    "    response = requests.get(URL, headers=request_header)\n",
    "\n",
    "    # Random number to be used as time delay in order to make the script behaviour more human like\n",
    "    delay = random.randint(5,10)\n",
    "    print(\"Time Delay:\",delay,end=\" seconds    : \")\n",
    "\n",
    "    # While Loop: covers the edge case wherein the first attempt to fetch the data failed, \n",
    "    # by continuously requesting the data at irregular time intervals in order to mimic human behavior\n",
    "    while response.status_code!=200:\n",
    "        time.sleep(delay)\n",
    "        response = requests.get(URL,headers=request_header)\n",
    "\n",
    "    # Confirmation Message of Successful Scrape\n",
    "    print(\"Page\",i,\" status:\",response)\n",
    "\n",
    "    # Incrementing Page Counter\n",
    "    i+=1  \n",
    "\n",
    "    # Appending the raw HTML code in the list\n",
    "    raw_text.append(response.text)\n",
    "\n",
    "    # A random delay before requesting the data from next page\n",
    "    time.sleep(delay)"
   ]
  },
  {
   "cell_type": "code",
   "execution_count": 6,
   "id": "d22b80e0-625f-47b1-9cdb-e15d99bd8355",
   "metadata": {},
   "outputs": [
    {
     "data": {
      "text/html": [
       "<div>\n",
       "<style scoped>\n",
       "    .dataframe tbody tr th:only-of-type {\n",
       "        vertical-align: middle;\n",
       "    }\n",
       "\n",
       "    .dataframe tbody tr th {\n",
       "        vertical-align: top;\n",
       "    }\n",
       "\n",
       "    .dataframe thead th {\n",
       "        text-align: right;\n",
       "    }\n",
       "</style>\n",
       "<table border=\"1\" class=\"dataframe\">\n",
       "  <thead>\n",
       "    <tr style=\"text-align: right;\">\n",
       "      <th></th>\n",
       "      <th>Raw Data</th>\n",
       "    </tr>\n",
       "  </thead>\n",
       "  <tbody>\n",
       "    <tr>\n",
       "      <th>0</th>\n",
       "      <td>&lt;!doctype html&gt;&lt;html lang=\"en\"&gt;&lt;head&gt;&lt;link hre...</td>\n",
       "    </tr>\n",
       "    <tr>\n",
       "      <th>1</th>\n",
       "      <td>&lt;!doctype html&gt;&lt;html lang=\"en\"&gt;&lt;head&gt;&lt;link hre...</td>\n",
       "    </tr>\n",
       "    <tr>\n",
       "      <th>2</th>\n",
       "      <td>&lt;!doctype html&gt;&lt;html lang=\"en\"&gt;&lt;head&gt;&lt;link hre...</td>\n",
       "    </tr>\n",
       "    <tr>\n",
       "      <th>3</th>\n",
       "      <td>&lt;!doctype html&gt;&lt;html lang=\"en\"&gt;&lt;head&gt;&lt;link hre...</td>\n",
       "    </tr>\n",
       "    <tr>\n",
       "      <th>4</th>\n",
       "      <td>&lt;!doctype html&gt;&lt;html lang=\"en\"&gt;&lt;head&gt;&lt;link hre...</td>\n",
       "    </tr>\n",
       "  </tbody>\n",
       "</table>\n",
       "</div>"
      ],
      "text/plain": [
       "                                            Raw Data\n",
       "0  <!doctype html><html lang=\"en\"><head><link hre...\n",
       "1  <!doctype html><html lang=\"en\"><head><link hre...\n",
       "2  <!doctype html><html lang=\"en\"><head><link hre...\n",
       "3  <!doctype html><html lang=\"en\"><head><link hre...\n",
       "4  <!doctype html><html lang=\"en\"><head><link hre..."
      ]
     },
     "execution_count": 6,
     "metadata": {},
     "output_type": "execute_result"
    }
   ],
   "source": [
    "# Converting the list to Data Frame\n",
    "df = pd.DataFrame(raw_text,columns=[\"Raw Data\"])\n",
    "\n",
    "# Printing a sample to ensure correct data format\n",
    "df.head()"
   ]
  },
  {
   "cell_type": "code",
   "execution_count": 7,
   "id": "cfa8df80-cc88-46e7-8679-945001b08379",
   "metadata": {},
   "outputs": [],
   "source": [
    "# Dataframe has been created successfully and can now be saved in a CSV file\n",
    "df.to_csv(r\"new data\\flipkart\\rawPage.csv\")"
   ]
  },
  {
   "cell_type": "markdown",
   "id": "1d450506-c3fc-4f86-8838-1807d9a6a307",
   "metadata": {},
   "source": [
    "## Scraping laptop - Flipkart"
   ]
  },
  {
   "cell_type": "code",
   "execution_count": 8,
   "id": "82c6d2be-9cf5-4e67-b15b-eb1b3e5e3655",
   "metadata": {},
   "outputs": [
    {
     "data": {
      "text/html": [
       "<div>\n",
       "<style scoped>\n",
       "    .dataframe tbody tr th:only-of-type {\n",
       "        vertical-align: middle;\n",
       "    }\n",
       "\n",
       "    .dataframe tbody tr th {\n",
       "        vertical-align: top;\n",
       "    }\n",
       "\n",
       "    .dataframe thead th {\n",
       "        text-align: right;\n",
       "    }\n",
       "</style>\n",
       "<table border=\"1\" class=\"dataframe\">\n",
       "  <thead>\n",
       "    <tr style=\"text-align: right;\">\n",
       "      <th></th>\n",
       "      <th>Unnamed: 0</th>\n",
       "      <th>Raw Data</th>\n",
       "    </tr>\n",
       "  </thead>\n",
       "  <tbody>\n",
       "    <tr>\n",
       "      <th>0</th>\n",
       "      <td>0</td>\n",
       "      <td>&lt;!doctype html&gt;&lt;html lang=\"en\"&gt;&lt;head&gt;&lt;link hre...</td>\n",
       "    </tr>\n",
       "    <tr>\n",
       "      <th>1</th>\n",
       "      <td>1</td>\n",
       "      <td>&lt;!doctype html&gt;&lt;html lang=\"en\"&gt;&lt;head&gt;&lt;link hre...</td>\n",
       "    </tr>\n",
       "    <tr>\n",
       "      <th>2</th>\n",
       "      <td>2</td>\n",
       "      <td>&lt;!doctype html&gt;&lt;html lang=\"en\"&gt;&lt;head&gt;&lt;link hre...</td>\n",
       "    </tr>\n",
       "    <tr>\n",
       "      <th>3</th>\n",
       "      <td>3</td>\n",
       "      <td>&lt;!doctype html&gt;&lt;html lang=\"en\"&gt;&lt;head&gt;&lt;link hre...</td>\n",
       "    </tr>\n",
       "    <tr>\n",
       "      <th>4</th>\n",
       "      <td>4</td>\n",
       "      <td>&lt;!doctype html&gt;&lt;html lang=\"en\"&gt;&lt;head&gt;&lt;link hre...</td>\n",
       "    </tr>\n",
       "  </tbody>\n",
       "</table>\n",
       "</div>"
      ],
      "text/plain": [
       "   Unnamed: 0                                           Raw Data\n",
       "0           0  <!doctype html><html lang=\"en\"><head><link hre...\n",
       "1           1  <!doctype html><html lang=\"en\"><head><link hre...\n",
       "2           2  <!doctype html><html lang=\"en\"><head><link hre...\n",
       "3           3  <!doctype html><html lang=\"en\"><head><link hre...\n",
       "4           4  <!doctype html><html lang=\"en\"><head><link hre..."
      ]
     },
     "execution_count": 8,
     "metadata": {},
     "output_type": "execute_result"
    }
   ],
   "source": [
    "# Loading the raw page CSV\n",
    "df = pd.read_csv(r\"new data\\flipkart\\rawPage.csv\")\n",
    "df.head()"
   ]
  },
  {
   "cell_type": "code",
   "execution_count": 9,
   "id": "dc576cc0-962d-47d1-8986-1314196018c3",
   "metadata": {},
   "outputs": [],
   "source": [
    "pages = []\n",
    "for i,j in df.iterrows():\n",
    "    pages.append(j[\"Raw Data\"])"
   ]
  },
  {
   "cell_type": "code",
   "execution_count": 47,
   "id": "20ad160f-b95e-4e59-933b-b5f542ddf5d2",
   "metadata": {
    "scrolled": true
   },
   "outputs": [
    {
     "name": "stdout",
     "output_type": "stream",
     "text": [
      "['https://www.bestbuy.com/site/asus-proart-p16-16-4k-touch-screen-laptop-copilot-pc-amd-ryzen-ai-9-hx-370-32gb-memory-rtx-4060-1tb-ssd-nano-black/6584438.p?skuId=6584438', 'https://www.bestbuy.com/site/dell-xps-16-16-3-fhd-laptop-intel-core-ultra-7-evo-edition-16gb-memory-nvidia-geforce-rtx-4050-1tb-ssd-platinum/6575148.p?skuId=6575148', 'https://www.bestbuy.com/site/hp-envy-16-wide-ultra-xga-touch-screen-laptop-intel-core-i7-16gb-memory-nvidia-geforce-rtx-4060-1tb-ssd-natural-silver/6572058.p?skuId=6572058', 'https://www.bestbuy.com/site/lenovo-yoga-pro-9i-16-3-2k-touchscreen-laptop-intel-core-ultra-9-185h-with-32gb-memory-nvidia-geforce-rtx-4050-1tb-ssd-luna-grey/6571367.p?skuId=6571367']\n"
     ]
    }
   ],
   "source": [
    "# Iterating over all pages and for each page filtering out the product URLs\n",
    "product_url = []\n",
    "for page in pages:\n",
    "    soup = BeautifulSoup(page, 'html.parser')\n",
    "    \n",
    "    product_links = soup.find_all('a', class_='sku-title')\n",
    "    \n",
    "    # Extract the href attributes from the found anchor tags\n",
    "    laptop_url = [link.get('href') for link in product_links if link.get('href')]\n",
    "    \n",
    "    # Best Buy URLs are relative, so prepend with the base URL\n",
    "    laptop_url = ['https://www.bestbuy.com' + url if url.startswith('/site') else url for url in laptop_url]\n",
    "    \n",
    "    product_url.extend(laptop_url)\n",
    "    print(product_url)\n",
    "    break"
   ]
  },
  {
   "cell_type": "code",
   "execution_count": 25,
   "id": "71f9198b-8591-4cf1-a85b-614209b864c1",
   "metadata": {},
   "outputs": [
    {
     "name": "stdout",
     "output_type": "stream",
     "text": [
      "25\n"
     ]
    }
   ],
   "source": []
  },
  {
   "cell_type": "code",
   "execution_count": null,
   "id": "bdb7dc57-5d5c-4928-893b-1aaf6edb760e",
   "metadata": {},
   "outputs": [],
   "source": []
  },
  {
   "cell_type": "code",
   "execution_count": null,
   "id": "5ed68eaf-6206-4985-85bc-a067e4804a58",
   "metadata": {},
   "outputs": [],
   "source": []
  },
  {
   "cell_type": "markdown",
   "id": "5a0fc0f3-3195-4dc5-ac5d-bc654c3c1d4c",
   "metadata": {},
   "source": [
    "## Best Buy"
   ]
  },
  {
   "cell_type": "code",
   "execution_count": 32,
   "id": "67e7a8d6-ee3f-435f-a71c-1589d30a8483",
   "metadata": {},
   "outputs": [],
   "source": [
    "headers = {'User-Agent': 'Mozilla/5.0'}"
   ]
  },
  {
   "cell_type": "code",
   "execution_count": 33,
   "id": "ad5830a5-6a16-4b6e-803e-07197b8dcbb1",
   "metadata": {},
   "outputs": [],
   "source": [
    "# Storing the URL as f string\n",
    "page = 1\n",
    "URL = f\"https://www.bestbuy.com/site/searchpage.jsp?cp={page}&id=pcat17071&st=laptop\""
   ]
  },
  {
   "cell_type": "markdown",
   "id": "1252aed7-20c2-484f-9217-e13161dd54b0",
   "metadata": {},
   "source": [
    "Reference URL:https://www.bestbuy.com/site/searchpage.jsp?cp=3&id=pcat17071&st=laptop"
   ]
  },
  {
   "cell_type": "code",
   "execution_count": 34,
   "id": "6b685593-cd68-48ba-ae14-64cb4e99eb9a",
   "metadata": {
    "scrolled": true
   },
   "outputs": [
    {
     "name": "stdout",
     "output_type": "stream",
     "text": [
      "Time Delay: 8 seconds    : Page 1  status: <Response [200]>\n",
      "Time Delay: 6 seconds    : Page 2  status: <Response [200]>\n",
      "Time Delay: 10 seconds    : Page 3  status: <Response [200]>\n",
      "Time Delay: 10 seconds    : Page 4  status: <Response [200]>\n",
      "Time Delay: 5 seconds    : Page 5  status: <Response [200]>\n",
      "Time Delay: 8 seconds    : Page 6  status: <Response [200]>\n",
      "Time Delay: 10 seconds    : Page 7  status: <Response [200]>\n",
      "Time Delay: 8 seconds    : Page 8  status: <Response [200]>\n",
      "Time Delay: 7 seconds    : Page 9  status: <Response [200]>\n",
      "Time Delay: 6 seconds    : Page 10  status: <Response [200]>\n",
      "Time Delay: 9 seconds    : Page 11  status: <Response [200]>\n",
      "Time Delay: 5 seconds    : Page 12  status: <Response [200]>\n",
      "Time Delay: 9 seconds    : Page 13  status: <Response [200]>\n",
      "Time Delay: 5 seconds    : Page 14  status: <Response [200]>\n",
      "Time Delay: 8 seconds    : Page 15  status: <Response [200]>\n",
      "Time Delay: 5 seconds    : Page 16  status: <Response [200]>\n",
      "Time Delay: 9 seconds    : Page 17  status: <Response [200]>\n",
      "Time Delay: 8 seconds    : Page 18  status: <Response [200]>\n",
      "Time Delay: 9 seconds    : Page 19  status: <Response [200]>\n",
      "Time Delay: 8 seconds    : Page 20  status: <Response [200]>\n",
      "Time Delay: 5 seconds    : Page 21  status: <Response [200]>\n",
      "Time Delay: 8 seconds    : Page 22  status: <Response [200]>\n",
      "Time Delay: 6 seconds    : Page 23  status: <Response [200]>\n",
      "Time Delay: 8 seconds    : Page 24  status: <Response [200]>\n",
      "Time Delay: 8 seconds    : Page 25  status: <Response [200]>\n",
      "Time Delay: 5 seconds    : Page 26  status: <Response [200]>\n",
      "Time Delay: 9 seconds    : Page 27  status: <Response [200]>\n",
      "Time Delay: 10 seconds    : Page 28  status: <Response [200]>\n",
      "Time Delay: 10 seconds    : Page 29  status: <Response [200]>\n",
      "Time Delay: 7 seconds    : Page 30  status: <Response [200]>\n",
      "Time Delay: 10 seconds    : Page 31  status: <Response [200]>\n",
      "Time Delay: 9 seconds    : Page 32  status: <Response [200]>\n",
      "Time Delay: 6 seconds    : Page 33  status: <Response [200]>\n",
      "Time Delay: 10 seconds    : Page 34  status: <Response [200]>\n",
      "Time Delay: 6 seconds    : Page 35  status: <Response [200]>\n",
      "Time Delay: 10 seconds    : Page 36  status: <Response [200]>\n",
      "Time Delay: 5 seconds    : Page 37  status: <Response [200]>\n",
      "Time Delay: 8 seconds    : Page 38  status: <Response [200]>\n",
      "Time Delay: 10 seconds    : Page 39  status: <Response [200]>\n",
      "Time Delay: 5 seconds    : Page 40  status: <Response [200]>\n",
      "Time Delay: 6 seconds    : Page 41  status: <Response [200]>\n",
      "Time Delay: 6 seconds    : Page 42  status: <Response [200]>\n",
      "Time Delay: 7 seconds    : Page 43  status: <Response [200]>\n",
      "Time Delay: 9 seconds    : Page 44  status: <Response [200]>\n",
      "Time Delay: 10 seconds    : Page 45  status: <Response [200]>\n",
      "Time Delay: 7 seconds    : Page 46  status: <Response [200]>\n",
      "Time Delay: 9 seconds    : Page 47  status: <Response [200]>\n",
      "Time Delay: 6 seconds    : Page 48  status: <Response [200]>\n",
      "Time Delay: 9 seconds    : Page 49  status: <Response [200]>\n",
      "Time Delay: 8 seconds    : Page 50  status: <Response [200]>\n",
      "Time Delay: 7 seconds    : Page 51  status: <Response [200]>\n",
      "Time Delay: 5 seconds    : Page 52  status: <Response [200]>\n",
      "Time Delay: 8 seconds    : Page 53  status: <Response [200]>\n",
      "Time Delay: 6 seconds    : Page 54  status: <Response [200]>\n",
      "Time Delay: 8 seconds    : Page 55  status: <Response [200]>\n",
      "Time Delay: 8 seconds    : Page 56  status: <Response [200]>\n",
      "Time Delay: 9 seconds    : Page 57  status: <Response [200]>\n",
      "Time Delay: 5 seconds    : Page 58  status: <Response [200]>\n",
      "Time Delay: 7 seconds    : Page 59  status: <Response [200]>\n",
      "Time Delay: 8 seconds    : Page 60  status: <Response [200]>\n",
      "Time Delay: 8 seconds    : Page 61  status: <Response [200]>\n",
      "Time Delay: 5 seconds    : Page 62  status: <Response [200]>\n",
      "Time Delay: 10 seconds    : Page 63  status: <Response [200]>\n",
      "Time Delay: 9 seconds    : Page 64  status: <Response [200]>\n",
      "Time Delay: 8 seconds    : Page 65  status: <Response [200]>\n",
      "Time Delay: 7 seconds    : Page 66  status: <Response [200]>\n",
      "Time Delay: 10 seconds    : Page 67  status: <Response [200]>\n",
      "Time Delay: 7 seconds    : Page 68  status: <Response [200]>\n",
      "Time Delay: 6 seconds    : Page 69  status: <Response [200]>\n",
      "Time Delay: 8 seconds    : Page 70  status: <Response [200]>\n",
      "Time Delay: 9 seconds    : Page 71  status: <Response [200]>\n"
     ]
    }
   ],
   "source": [
    "# Scraping Code\n",
    "\n",
    "total_pages = 71 # Total number of pages being scraped\n",
    "i = 1 # Counter to self verify the pages being scraped successfully\n",
    "raw_text = [] # List to store all the raw html code\n",
    "\n",
    "# Loop to iterate over all the pages by changing the f-string URL\n",
    "for page in range (1, total_pages+1):\n",
    "\n",
    "    # Fetching the data from URL based on the above request headers\n",
    "    response = requests.get(URL, headers=request_header)\n",
    "\n",
    "    # Random number to be used as time delay in order to make the script behaviour more human like\n",
    "    delay = random.randint(5,10)\n",
    "    print(\"Time Delay:\",delay,end=\" seconds    : \")\n",
    "\n",
    "    # While Loop: covers the edge case wherein the first attempt to fetch the data failed, \n",
    "    # by continuously requesting the data at irregular time intervals in order to mimic human behavior\n",
    "    while response.status_code!=200:\n",
    "        time.sleep(delay)\n",
    "        response = requests.get(URL,headers=request_header)\n",
    "\n",
    "    # Confirmation Message of Successful Scrape\n",
    "    print(\"Page\",i,\" status:\",response)\n",
    "\n",
    "    # Incrementing Page Counter\n",
    "    i+=1  \n",
    "\n",
    "    # Appending the raw HTML code in the list\n",
    "    raw_text.append(response.text)\n",
    "\n",
    "    # A random delay before requesting the data from next page\n",
    "    time.sleep(delay)"
   ]
  },
  {
   "cell_type": "code",
   "execution_count": 35,
   "id": "4eeffa53-1144-4060-b867-1227260301c5",
   "metadata": {},
   "outputs": [
    {
     "data": {
      "text/html": [
       "<div>\n",
       "<style scoped>\n",
       "    .dataframe tbody tr th:only-of-type {\n",
       "        vertical-align: middle;\n",
       "    }\n",
       "\n",
       "    .dataframe tbody tr th {\n",
       "        vertical-align: top;\n",
       "    }\n",
       "\n",
       "    .dataframe thead th {\n",
       "        text-align: right;\n",
       "    }\n",
       "</style>\n",
       "<table border=\"1\" class=\"dataframe\">\n",
       "  <thead>\n",
       "    <tr style=\"text-align: right;\">\n",
       "      <th></th>\n",
       "      <th>Raw Data</th>\n",
       "    </tr>\n",
       "  </thead>\n",
       "  <tbody>\n",
       "    <tr>\n",
       "      <th>0</th>\n",
       "      <td>\\n                            \\n              ...</td>\n",
       "    </tr>\n",
       "    <tr>\n",
       "      <th>1</th>\n",
       "      <td>\\n                            \\n              ...</td>\n",
       "    </tr>\n",
       "    <tr>\n",
       "      <th>2</th>\n",
       "      <td>\\n                            \\n              ...</td>\n",
       "    </tr>\n",
       "    <tr>\n",
       "      <th>3</th>\n",
       "      <td>\\n                            \\n              ...</td>\n",
       "    </tr>\n",
       "    <tr>\n",
       "      <th>4</th>\n",
       "      <td>\\n                            \\n              ...</td>\n",
       "    </tr>\n",
       "  </tbody>\n",
       "</table>\n",
       "</div>"
      ],
      "text/plain": [
       "                                            Raw Data\n",
       "0  \\n                            \\n              ...\n",
       "1  \\n                            \\n              ...\n",
       "2  \\n                            \\n              ...\n",
       "3  \\n                            \\n              ...\n",
       "4  \\n                            \\n              ..."
      ]
     },
     "execution_count": 35,
     "metadata": {},
     "output_type": "execute_result"
    }
   ],
   "source": [
    "# Converting the list to Data Frame\n",
    "df = pd.DataFrame(raw_text,columns=[\"Raw Data\"])\n",
    "\n",
    "# Printing a sample to ensure correct data format\n",
    "df.head()"
   ]
  },
  {
   "cell_type": "code",
   "execution_count": 36,
   "id": "6811c31b-26e3-4818-9db1-8244957a0e79",
   "metadata": {},
   "outputs": [],
   "source": [
    "# Dataframe has been created successfully and can now be saved in a CSV file\n",
    "df.to_csv(r\"new data\\bestBuy\\rawPageBestBuy.csv\")"
   ]
  },
  {
   "cell_type": "markdown",
   "id": "3235866a-63c6-4063-8b35-3214eeb2c91e",
   "metadata": {},
   "source": [
    "Scraping Laptops: BestBuy"
   ]
  },
  {
   "cell_type": "code",
   "execution_count": 37,
   "id": "e4b293b4-23f3-4867-bf17-80993c4d4b93",
   "metadata": {},
   "outputs": [
    {
     "data": {
      "text/html": [
       "<div>\n",
       "<style scoped>\n",
       "    .dataframe tbody tr th:only-of-type {\n",
       "        vertical-align: middle;\n",
       "    }\n",
       "\n",
       "    .dataframe tbody tr th {\n",
       "        vertical-align: top;\n",
       "    }\n",
       "\n",
       "    .dataframe thead th {\n",
       "        text-align: right;\n",
       "    }\n",
       "</style>\n",
       "<table border=\"1\" class=\"dataframe\">\n",
       "  <thead>\n",
       "    <tr style=\"text-align: right;\">\n",
       "      <th></th>\n",
       "      <th>Unnamed: 0</th>\n",
       "      <th>Raw Data</th>\n",
       "    </tr>\n",
       "  </thead>\n",
       "  <tbody>\n",
       "    <tr>\n",
       "      <th>0</th>\n",
       "      <td>0</td>\n",
       "      <td>\\n                            \\n              ...</td>\n",
       "    </tr>\n",
       "    <tr>\n",
       "      <th>1</th>\n",
       "      <td>1</td>\n",
       "      <td>\\n                            \\n              ...</td>\n",
       "    </tr>\n",
       "    <tr>\n",
       "      <th>2</th>\n",
       "      <td>2</td>\n",
       "      <td>\\n                            \\n              ...</td>\n",
       "    </tr>\n",
       "    <tr>\n",
       "      <th>3</th>\n",
       "      <td>3</td>\n",
       "      <td>\\n                            \\n              ...</td>\n",
       "    </tr>\n",
       "    <tr>\n",
       "      <th>4</th>\n",
       "      <td>4</td>\n",
       "      <td>\\n                            \\n              ...</td>\n",
       "    </tr>\n",
       "  </tbody>\n",
       "</table>\n",
       "</div>"
      ],
      "text/plain": [
       "   Unnamed: 0                                           Raw Data\n",
       "0           0  \\n                            \\n              ...\n",
       "1           1  \\n                            \\n              ...\n",
       "2           2  \\n                            \\n              ...\n",
       "3           3  \\n                            \\n              ...\n",
       "4           4  \\n                            \\n              ..."
      ]
     },
     "execution_count": 37,
     "metadata": {},
     "output_type": "execute_result"
    }
   ],
   "source": [
    "# Loading the raw page CSV\n",
    "df = pd.read_csv(r\"new data\\bestBuy\\rawPageBestBuy.csv\")\n",
    "df.head()"
   ]
  },
  {
   "cell_type": "code",
   "execution_count": 38,
   "id": "5203cad0-dc45-415c-b33d-5f942f8c3ad4",
   "metadata": {},
   "outputs": [],
   "source": [
    "pages = []\n",
    "for i,j in df.iterrows():\n",
    "    pages.append(j[\"Raw Data\"])"
   ]
  },
  {
   "cell_type": "code",
   "execution_count": 49,
   "id": "69c37b39-7bc8-4e4e-9969-a610e218da04",
   "metadata": {},
   "outputs": [],
   "source": [
    "# Iterating over all pages and for each page filtering out the product URLs\n",
    "product_url = []\n",
    "for page in pages:\n",
    "    soup = BeautifulSoup(page, 'html.parser')\n",
    "    \n",
    "    # Update the class name to reflect the Best Buy HTML structure\n",
    "    product_links = soup.find_all('a', class_='sku-title')\n",
    "    \n",
    "    # Extract the href attributes from the found anchor tags\n",
    "    laptop_url = [link.get('href') for link in product_links if link.get('href')]\n",
    "    \n",
    "    # Best Buy URLs are relative, so prepend with the base URL\n",
    "    laptop_url = ['https://www.bestbuy.com' + url if url.startswith('/site') else url for url in laptop_url]\n",
    "    \n",
    "    product_url.extend(laptop_url)"
   ]
  },
  {
   "cell_type": "code",
   "execution_count": 50,
   "id": "f1bfde9c-51e3-4224-8e91-c316993c7e6e",
   "metadata": {},
   "outputs": [
    {
     "data": {
      "text/plain": [
       "284"
      ]
     },
     "execution_count": 50,
     "metadata": {},
     "output_type": "execute_result"
    }
   ],
   "source": [
    "len(product_url)"
   ]
  },
  {
   "cell_type": "code",
   "execution_count": null,
   "id": "3fccd441-ea62-4234-ad4f-30fb9cfe5c77",
   "metadata": {},
   "outputs": [],
   "source": []
  }
 ],
 "metadata": {
  "kernelspec": {
   "display_name": "ubEnv",
   "language": "python",
   "name": "ubenv"
  },
  "language_info": {
   "codemirror_mode": {
    "name": "ipython",
    "version": 3
   },
   "file_extension": ".py",
   "mimetype": "text/x-python",
   "name": "python",
   "nbconvert_exporter": "python",
   "pygments_lexer": "ipython3",
   "version": "3.10.0"
  }
 },
 "nbformat": 4,
 "nbformat_minor": 5
}
