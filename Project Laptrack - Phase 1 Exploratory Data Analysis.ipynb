{
 "cells": [
  {
   "cell_type": "code",
   "execution_count": null,
   "id": "6935a260-8068-459e-b91c-d18c3c6d47a4",
   "metadata": {},
   "outputs": [],
   "source": []
  }
 ],
 "metadata": {
  "kernelspec": {
   "display_name": "",
   "name": ""
  },
  "language_info": {
   "name": ""
  }
 },
 "nbformat": 4,
 "nbformat_minor": 5
}
