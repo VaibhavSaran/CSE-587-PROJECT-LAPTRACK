{
 "cells": [
  {
   "cell_type": "markdown",
   "id": "eb4f2584-2656-4352-85ca-e106bfc7bc8a",
   "metadata": {},
   "source": [
    "# 1. Importing Libraries"
   ]
  },
  {
   "cell_type": "code",
   "execution_count": 1,
   "id": "1140d69c-83d1-4c01-ada4-7eccd92b4666",
   "metadata": {},
   "outputs": [],
   "source": [
    "import numpy as np\n",
    "import pandas as pd\n",
    "import matplotlib.pyplot as plt\n",
    "import warnings\n",
    "warnings.filterwarnings('ignore')"
   ]
  },
  {
   "cell_type": "markdown",
   "id": "7fd275af-cc41-4dfa-bff4-1f28669ec496",
   "metadata": {},
   "source": [
    "# 2. Loading the Dataset"
   ]
  },
  {
   "cell_type": "code",
   "execution_count": 2,
   "id": "10f957dc-e537-4806-93d4-08d279d2b570",
   "metadata": {},
   "outputs": [
    {
     "data": {
      "text/html": [
       "<div>\n",
       "<style scoped>\n",
       "    .dataframe tbody tr th:only-of-type {\n",
       "        vertical-align: middle;\n",
       "    }\n",
       "\n",
       "    .dataframe tbody tr th {\n",
       "        vertical-align: top;\n",
       "    }\n",
       "\n",
       "    .dataframe thead th {\n",
       "        text-align: right;\n",
       "    }\n",
       "</style>\n",
       "<table border=\"1\" class=\"dataframe\">\n",
       "  <thead>\n",
       "    <tr style=\"text-align: right;\">\n",
       "      <th></th>\n",
       "      <th>Laptop_Brand</th>\n",
       "      <th>Laptop_Name</th>\n",
       "      <th>Processor_Company</th>\n",
       "      <th>Operating_System</th>\n",
       "      <th>Processor</th>\n",
       "      <th>Number_of_Reviews</th>\n",
       "      <th>Price</th>\n",
       "      <th>Storage_Type</th>\n",
       "      <th>Storage</th>\n",
       "      <th>Rating</th>\n",
       "      <th>Screen_Size</th>\n",
       "      <th>RAM</th>\n",
       "      <th>Source</th>\n",
       "    </tr>\n",
       "  </thead>\n",
       "  <tbody>\n",
       "    <tr>\n",
       "      <th>0</th>\n",
       "      <td>ZHAOHUIXIN</td>\n",
       "      <td>PC1068</td>\n",
       "      <td>Alwinner</td>\n",
       "      <td>Android</td>\n",
       "      <td>1.8 GHz a13</td>\n",
       "      <td>1</td>\n",
       "      <td>119.99</td>\n",
       "      <td>EMMC</td>\n",
       "      <td>64</td>\n",
       "      <td>4.5</td>\n",
       "      <td>10.1</td>\n",
       "      <td>2</td>\n",
       "      <td>Amazon</td>\n",
       "    </tr>\n",
       "    <tr>\n",
       "      <th>1</th>\n",
       "      <td>TPV</td>\n",
       "      <td>AceBook</td>\n",
       "      <td>Intel</td>\n",
       "      <td>Windows 11 Pro</td>\n",
       "      <td>Core i5</td>\n",
       "      <td>13</td>\n",
       "      <td>309.99</td>\n",
       "      <td>SSD</td>\n",
       "      <td>512</td>\n",
       "      <td>4.5</td>\n",
       "      <td>15.6</td>\n",
       "      <td>16</td>\n",
       "      <td>Amazon</td>\n",
       "    </tr>\n",
       "    <tr>\n",
       "      <th>2</th>\n",
       "      <td>HP</td>\n",
       "      <td>Elitebook</td>\n",
       "      <td>Intel</td>\n",
       "      <td>Windows 11 Pro</td>\n",
       "      <td>Intel Core i7</td>\n",
       "      <td>5</td>\n",
       "      <td>1079</td>\n",
       "      <td>SSD</td>\n",
       "      <td>2048</td>\n",
       "      <td>4</td>\n",
       "      <td>16.0</td>\n",
       "      <td>32</td>\n",
       "      <td>Amazon</td>\n",
       "    </tr>\n",
       "    <tr>\n",
       "      <th>3</th>\n",
       "      <td>Apple</td>\n",
       "      <td>MacBook Air</td>\n",
       "      <td>Apple</td>\n",
       "      <td>Mac OS</td>\n",
       "      <td>Apple M3</td>\n",
       "      <td>0</td>\n",
       "      <td>929</td>\n",
       "      <td>SSD</td>\n",
       "      <td>256</td>\n",
       "      <td>4</td>\n",
       "      <td>13.6</td>\n",
       "      <td>8</td>\n",
       "      <td>Amazon</td>\n",
       "    </tr>\n",
       "    <tr>\n",
       "      <th>4</th>\n",
       "      <td>Apple</td>\n",
       "      <td>MacBook Air</td>\n",
       "      <td>Apple</td>\n",
       "      <td>Mac OS</td>\n",
       "      <td>Apple M3</td>\n",
       "      <td>0</td>\n",
       "      <td>1449</td>\n",
       "      <td>SSD</td>\n",
       "      <td>512</td>\n",
       "      <td>4</td>\n",
       "      <td>15.3</td>\n",
       "      <td>16</td>\n",
       "      <td>Amazon</td>\n",
       "    </tr>\n",
       "  </tbody>\n",
       "</table>\n",
       "</div>"
      ],
      "text/plain": [
       "  Laptop_Brand  Laptop_Name Processor_Company Operating_System      Processor  \\\n",
       "0   ZHAOHUIXIN       PC1068          Alwinner          Android    1.8 GHz a13   \n",
       "1          TPV      AceBook             Intel   Windows 11 Pro        Core i5   \n",
       "2           HP    Elitebook             Intel   Windows 11 Pro  Intel Core i7   \n",
       "3        Apple  MacBook Air             Apple           Mac OS       Apple M3   \n",
       "4        Apple  MacBook Air             Apple           Mac OS       Apple M3   \n",
       "\n",
       "   Number_of_Reviews   Price Storage_Type Storage Rating  Screen_Size  RAM  \\\n",
       "0                  1  119.99         EMMC      64    4.5         10.1    2   \n",
       "1                 13  309.99          SSD     512    4.5         15.6   16   \n",
       "2                  5    1079          SSD    2048      4         16.0   32   \n",
       "3                  0     929          SSD     256      4         13.6    8   \n",
       "4                  0    1449          SSD     512      4         15.3   16   \n",
       "\n",
       "   Source  \n",
       "0  Amazon  \n",
       "1  Amazon  \n",
       "2  Amazon  \n",
       "3  Amazon  \n",
       "4  Amazon  "
      ]
     },
     "execution_count": 2,
     "metadata": {},
     "output_type": "execute_result"
    }
   ],
   "source": [
    "df = pd.read_csv(r\"data\\laptrack.csv\")\n",
    "df.head()"
   ]
  },
  {
   "cell_type": "markdown",
   "id": "2c07f99a-d8e3-4981-b576-7e15935dce8a",
   "metadata": {},
   "source": [
    "# 3. Exploratory Data Analysis"
   ]
  },
  {
   "cell_type": "markdown",
   "id": "0b9b03f7-57c4-4b81-ae28-5a005b2ee140",
   "metadata": {},
   "source": [
    "## 3.1 Exploring the Meta Data information"
   ]
  },
  {
   "cell_type": "code",
   "execution_count": 3,
   "id": "7b690620-a481-454b-a227-a994e7efc17e",
   "metadata": {},
   "outputs": [
    {
     "name": "stdout",
     "output_type": "stream",
     "text": [
      "<class 'pandas.core.frame.DataFrame'>\n",
      "RangeIndex: 4838 entries, 0 to 4837\n",
      "Data columns (total 13 columns):\n",
      " #   Column             Non-Null Count  Dtype  \n",
      "---  ------             --------------  -----  \n",
      " 0   Laptop_Brand       4838 non-null   object \n",
      " 1   Laptop_Name        4838 non-null   object \n",
      " 2   Processor_Company  4838 non-null   object \n",
      " 3   Operating_System   4838 non-null   object \n",
      " 4   Processor          4838 non-null   object \n",
      " 5   Number_of_Reviews  4838 non-null   int64  \n",
      " 6   Price              4838 non-null   object \n",
      " 7   Storage_Type       4838 non-null   object \n",
      " 8   Storage            4838 non-null   object \n",
      " 9   Rating             4836 non-null   object \n",
      " 10  Screen_Size        4838 non-null   float64\n",
      " 11  RAM                4838 non-null   int64  \n",
      " 12  Source             4838 non-null   object \n",
      "dtypes: float64(1), int64(2), object(10)\n",
      "memory usage: 491.5+ KB\n"
     ]
    }
   ],
   "source": [
    "df.info()"
   ]
  },
  {
   "cell_type": "markdown",
   "id": "44352640-980f-4d7b-b09a-1bd0765d6d06",
   "metadata": {},
   "source": [
    "### Observation\n",
    "- There are only 2 null values in rating, which will be handled later.\n",
    "- The data type for the column: `Rating`, `Storage`, `Price` are in object which needs to be changed to numbers(or appropriate datatype)."
   ]
  },
  {
   "cell_type": "code",
   "execution_count": 4,
   "id": "a7001b70-3da3-4efd-a537-997fda6e1b3b",
   "metadata": {},
   "outputs": [
    {
     "name": "stdout",
     "output_type": "stream",
     "text": [
      "Unique values in Rating : ['4.5' '4' '4.3' '4.4' '4.6' '4.1' '4.2' '3.8' '3.4' '1' '5' '3' '3.9'\n",
      " '4.7' '3.5' '2.6' '3.7' '3.3' '3.6' '4.8' nan '0' '4.9' '0 Reviews' '2'\n",
      " '2.7' '3.2' '2.5' '2.2' '2.8' '2.4' '1.7' '2.9' '2.3' '1.5']\n",
      "\n",
      "Unique values in Storage : ['64' '512' '2048' '256' '128' '8192' '4096' '1000' '32' '16' '4' '640'\n",
      " '250' '500' '192' '320' '2' '1048576' '16384' '576' '1024' '64eMMC'\n",
      " '128eMMC' '128GeMMC' '128UFS' '512PCIe' '256UFS' '32eMMC' '750']\n",
      "\n",
      "Unique values in Price : ['119.99' '309.99' '1079' ... '3149.99' '589.99' '4149.99']\n",
      "\n"
     ]
    }
   ],
   "source": [
    "# Looking at the unique values in Rating Storage and Price to see if there are any wrong values\n",
    "cols = [\"Rating\",\"Storage\",\"Price\"]\n",
    "\n",
    "for feature in cols:\n",
    "    print(\"Unique values in\",feature,\":\",df[feature].unique())\n",
    "    print()"
   ]
  },
  {
   "cell_type": "code",
   "execution_count": 5,
   "id": "b00aaa44-0215-4df0-a71b-5798917f29fb",
   "metadata": {},
   "outputs": [],
   "source": [
    "# Handling above values by extracting numbers\n",
    "df['Storage'] = df['Storage'].str.extract('(\\d+)', expand=False)\n",
    "\n",
    "df['Rating'] = df['Rating'].str.replace(' Reviews', '', regex=False)\n",
    "df['Rating'] = pd.to_numeric(df['Rating'], errors='coerce')\n",
    "\n",
    "df['Price'] = pd.to_numeric(df['Price'], errors='coerce')"
   ]
  },
  {
   "cell_type": "code",
   "execution_count": 6,
   "id": "fc2c4673-8d47-476b-88f0-d5d9ff8fc43f",
   "metadata": {},
   "outputs": [
    {
     "name": "stdout",
     "output_type": "stream",
     "text": [
      "<class 'pandas.core.frame.DataFrame'>\n",
      "RangeIndex: 4838 entries, 0 to 4837\n",
      "Data columns (total 13 columns):\n",
      " #   Column             Non-Null Count  Dtype  \n",
      "---  ------             --------------  -----  \n",
      " 0   Laptop_Brand       4838 non-null   object \n",
      " 1   Laptop_Name        4838 non-null   object \n",
      " 2   Processor_Company  4838 non-null   object \n",
      " 3   Operating_System   4838 non-null   object \n",
      " 4   Processor          4838 non-null   object \n",
      " 5   Number_of_Reviews  4838 non-null   int64  \n",
      " 6   Price              4817 non-null   float64\n",
      " 7   Storage_Type       4838 non-null   object \n",
      " 8   Storage            4838 non-null   object \n",
      " 9   Rating             4836 non-null   float64\n",
      " 10  Screen_Size        4838 non-null   float64\n",
      " 11  RAM                4838 non-null   int64  \n",
      " 12  Source             4838 non-null   object \n",
      "dtypes: float64(3), int64(2), object(8)\n",
      "memory usage: 491.5+ KB\n"
     ]
    }
   ],
   "source": [
    "df.info()"
   ]
  },
  {
   "cell_type": "markdown",
   "id": "649bcc67-c517-4710-baf1-8e541a8e4450",
   "metadata": {},
   "source": [
    "### Observation\n",
    "- All the columns are now in correct data format.\n",
    "- Since the number of null values are very small the data will be dropped."
   ]
  },
  {
   "cell_type": "code",
   "execution_count": 9,
   "id": "a50a7f20-1d04-4793-b1ee-1009dd33f1ec",
   "metadata": {},
   "outputs": [
    {
     "name": "stdout",
     "output_type": "stream",
     "text": [
      "<class 'pandas.core.frame.DataFrame'>\n",
      "Index: 4815 entries, 0 to 4837\n",
      "Data columns (total 13 columns):\n",
      " #   Column             Non-Null Count  Dtype  \n",
      "---  ------             --------------  -----  \n",
      " 0   Laptop_Brand       4815 non-null   object \n",
      " 1   Laptop_Name        4815 non-null   object \n",
      " 2   Processor_Company  4815 non-null   object \n",
      " 3   Operating_System   4815 non-null   object \n",
      " 4   Processor          4815 non-null   object \n",
      " 5   Number_of_Reviews  4815 non-null   int64  \n",
      " 6   Price              4815 non-null   float64\n",
      " 7   Storage_Type       4815 non-null   object \n",
      " 8   Storage            4815 non-null   object \n",
      " 9   Rating             4815 non-null   float64\n",
      " 10  Screen_Size        4815 non-null   float64\n",
      " 11  RAM                4815 non-null   int64  \n",
      " 12  Source             4815 non-null   object \n",
      "dtypes: float64(3), int64(2), object(8)\n",
      "memory usage: 526.6+ KB\n"
     ]
    }
   ],
   "source": [
    "# Dropping Null values\n",
    "df.dropna(inplace=True)\n",
    "\n",
    "df.info()"
   ]
  },
  {
   "cell_type": "code",
   "execution_count": 10,
   "id": "7b5c695b-f9ce-4806-9569-81c4a75bf71a",
   "metadata": {},
   "outputs": [
    {
     "name": "stdout",
     "output_type": "stream",
     "text": [
      "The total data loss (in %) is: 0.475403059115337\n"
     ]
    }
   ],
   "source": [
    "# Percent of data loss\n",
    "loss_per = (4838 - 4815)/4838\n",
    "loss_per*=100\n",
    "print(\"The total data loss (in %) is:\",loss_per)"
   ]
  },
  {
   "cell_type": "markdown",
   "id": "d63990a4-bbe8-4744-b0d2-ee8eba4be9b0",
   "metadata": {},
   "source": [
    "- Now with the data all cleaned and ready lets proceed for analyzing the data"
   ]
  },
  {
   "cell_type": "code",
   "execution_count": null,
   "id": "d620e52f-88e8-4b36-b0a3-231ec486bd37",
   "metadata": {},
   "outputs": [],
   "source": []
  },
  {
   "cell_type": "code",
   "execution_count": null,
   "id": "2b7745ad-7d2e-4066-8094-985169588466",
   "metadata": {},
   "outputs": [],
   "source": []
  },
  {
   "cell_type": "code",
   "execution_count": null,
   "id": "2e9df940-5d53-4662-b9c1-b523ca3ddbbf",
   "metadata": {},
   "outputs": [],
   "source": []
  },
  {
   "cell_type": "code",
   "execution_count": null,
   "id": "d8937403-7122-42b3-af07-c9f79d911d30",
   "metadata": {},
   "outputs": [],
   "source": []
  },
  {
   "cell_type": "code",
   "execution_count": null,
   "id": "2a66811c-10e8-4a84-9a42-1902827cdc65",
   "metadata": {},
   "outputs": [],
   "source": []
  },
  {
   "cell_type": "code",
   "execution_count": null,
   "id": "ace74685-a119-4187-bcfc-02e5846aa42b",
   "metadata": {},
   "outputs": [],
   "source": []
  },
  {
   "cell_type": "code",
   "execution_count": null,
   "id": "e3f4c6cb-dd53-43f9-9331-5292b36d52d9",
   "metadata": {},
   "outputs": [],
   "source": []
  },
  {
   "cell_type": "code",
   "execution_count": null,
   "id": "2e5dee32-4e07-4820-9920-7735367518a5",
   "metadata": {},
   "outputs": [],
   "source": []
  },
  {
   "cell_type": "code",
   "execution_count": null,
   "id": "c8a4214f-4aba-405d-a63a-588d1c456e01",
   "metadata": {},
   "outputs": [],
   "source": []
  },
  {
   "cell_type": "code",
   "execution_count": null,
   "id": "bb2086da-b8b5-4e83-8e85-6b19f5a86c0c",
   "metadata": {},
   "outputs": [],
   "source": []
  },
  {
   "cell_type": "code",
   "execution_count": null,
   "id": "85ce32b9-1b1b-4ff6-837b-2b82a2f0e412",
   "metadata": {},
   "outputs": [],
   "source": []
  },
  {
   "cell_type": "code",
   "execution_count": null,
   "id": "c0341990-6900-4c5b-972e-e8ea86ab87cf",
   "metadata": {},
   "outputs": [],
   "source": []
  },
  {
   "cell_type": "markdown",
   "id": "3063041c-3f55-4e2d-b11c-6645f3e67133",
   "metadata": {},
   "source": [
    "# References\n",
    "1. "
   ]
  }
 ],
 "metadata": {
  "kernelspec": {
   "display_name": "ubEnv",
   "language": "python",
   "name": "ubenv"
  },
  "language_info": {
   "codemirror_mode": {
    "name": "ipython",
    "version": 3
   },
   "file_extension": ".py",
   "mimetype": "text/x-python",
   "name": "python",
   "nbconvert_exporter": "python",
   "pygments_lexer": "ipython3",
   "version": "3.10.0"
  }
 },
 "nbformat": 4,
 "nbformat_minor": 5
}
