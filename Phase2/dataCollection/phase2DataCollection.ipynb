{
 "cells": [
  {
   "cell_type": "code",
   "execution_count": 15,
   "id": "202678fc-a3ea-4809-9078-3826037401d1",
   "metadata": {},
   "outputs": [
    {
     "name": "stdout",
     "output_type": "stream",
     "text": [
      "The history saving thread hit an unexpected error (OperationalError('attempt to write a readonly database')).History will not be written to the database.\n"
     ]
    }
   ],
   "source": [
    "import pandas as pd\n",
    "\n",
    "# Set the display options\n",
    "pd.set_option('display.max_columns', None)  \n",
    "pd.set_option('display.max_colwidth', None)\n",
    "pd.set_option('display.expand_frame_repr', False)\n",
    "pd.set_option('future.no_silent_downcasting', True)\n",
    "\n",
    "amazonDataFilePath = '/Users/shauryamathur/Documents/CSE587/Laptrack/Laptrack/.venv/src/amazon/amazon_clean.csv'\n",
    "bestbuyDataFilePath = '/Users/shauryamathur/Documents/CSE587/Laptrack/Laptrack/.venv/src/ bestbuy/bestbuy_clean.csv'\n",
    "flipkartDataFilePath = '/Users/shauryamathur/Documents/CSE587/Laptrack/Laptrack/.venv/src/flipkart/flipkart_clean.csv'\n",
    "\n",
    "amazonDF = pd.read_csv(amazonDataFilePath)\n",
    "bestbuyDF = pd.read_csv(bestbuyDataFilePath)\n",
    "flipkartDF = pd.read_csv(flipkartDataFilePath)\n"
   ]
  },
  {
   "cell_type": "code",
   "execution_count": 16,
   "id": "faf7cf74-a7b2-414d-8847-e1adfc5127a1",
   "metadata": {},
   "outputs": [
    {
     "data": {
      "text/html": [
       "<div>\n",
       "<style scoped>\n",
       "    .dataframe tbody tr th:only-of-type {\n",
       "        vertical-align: middle;\n",
       "    }\n",
       "\n",
       "    .dataframe tbody tr th {\n",
       "        vertical-align: top;\n",
       "    }\n",
       "\n",
       "    .dataframe thead th {\n",
       "        text-align: right;\n",
       "    }\n",
       "</style>\n",
       "<table border=\"1\" class=\"dataframe\">\n",
       "  <thead>\n",
       "    <tr style=\"text-align: right;\">\n",
       "      <th></th>\n",
       "      <th>Brand</th>\n",
       "      <th>Laptop_Model_Name</th>\n",
       "      <th>Laptop_Model_Number</th>\n",
       "      <th>Processor_Brand</th>\n",
       "      <th>Processor_Model</th>\n",
       "      <th>Storage_Type</th>\n",
       "      <th>Operating_System</th>\n",
       "      <th>Display_Resolution</th>\n",
       "      <th>Extracted_Rating</th>\n",
       "      <th>Battery_Life(Hours_Upto)</th>\n",
       "      <th>Price</th>\n",
       "      <th>Stock</th>\n",
       "      <th>Time_Of_Extraction</th>\n",
       "      <th>URL</th>\n",
       "      <th>Source</th>\n",
       "      <th>Storage_Capacity(GB)</th>\n",
       "      <th>Display_Size(Inches)</th>\n",
       "      <th>RAM(GB)</th>\n",
       "      <th>No_Of_Reviews</th>\n",
       "      <th>Laptop_Dimensions</th>\n",
       "      <th>Laptop_Weight(Pounds)</th>\n",
       "      <th>No_of_Reviews</th>\n",
       "    </tr>\n",
       "  </thead>\n",
       "  <tbody>\n",
       "    <tr>\n",
       "      <th>0</th>\n",
       "      <td>Dell</td>\n",
       "      <td>Latitude 3540 Laptop</td>\n",
       "      <td>NaN</td>\n",
       "      <td>Intel</td>\n",
       "      <td>1355U</td>\n",
       "      <td>SSD</td>\n",
       "      <td>Windows 11 Professional</td>\n",
       "      <td>1920x1080 MP</td>\n",
       "      <td>NaN</td>\n",
       "      <td>NaN</td>\n",
       "      <td>1772.95</td>\n",
       "      <td>Yes</td>\n",
       "      <td>2024-11-04 18:23:39</td>\n",
       "      <td>https://www.amazon.com/sspa/click?ie=UTF8&amp;spc=MTo4NDkxNTk5NDMzNDA3NDI6MTczMDY3NjY2NTpzcF9hdGZfYnJvd3NlOjMwMDUwMTQ3MTcwNDIwMjo6MDo6&amp;url=%2FDell-Latitude-3540-Laptop-1920x1080%2Fdp%2FB0D7BNFZV3%2Fref%3Dsr_1_625_sspa%3Fdib%3DeyJ2IjoiMSJ9.V_7cZqgbAZmLoo0gHJVQ9q3_UsTKPr45oTho_8mXksP_yyWU3-PYIaezdIXerWZH5jjwBh7Vn7y5HdGQxR401VieExF4yOdAzHLbAsEadwYfL35A1yhgJ6Wrud9CGiWyOC30B6XLLnP4bp-89DKNdIPOcUHQt65FKFPlPifqxxBq6Ic4Zgwq9FBiXJP5_vBqeFnmpwE5yKy_hq3DTyHfU2TNz13yStMZuLX5PU79YIgJOa2F3UVpj-I10dt5Uon18QzJCPPszkSlGYMNvPSQT6zyEty4j_uOFrTKROsGXkI.B9qdh59aAPi7HsIj_Z9lgV7UqyC6heNiv1ICehBb4Vw%26dib_tag%3Dse%26qid%3D1730676665%26s%3Dpc%26sr%3D1-625-spons%26sp_csd%3Dd2lkZ2V0TmFtZT1zcF9hdGZfYnJvd3Nl%26psc%3D1</td>\n",
       "      <td>Amazon</td>\n",
       "      <td>4000</td>\n",
       "      <td>15.6</td>\n",
       "      <td>64</td>\n",
       "      <td>0</td>\n",
       "      <td>0.71 x 14.13 x 9.44 inches</td>\n",
       "      <td>4.00</td>\n",
       "      <td>NaN</td>\n",
       "    </tr>\n",
       "    <tr>\n",
       "      <th>1</th>\n",
       "      <td>HP</td>\n",
       "      <td>17t-cn3004</td>\n",
       "      <td>17t-cn3004208</td>\n",
       "      <td>Intel</td>\n",
       "      <td>Intel Core i5</td>\n",
       "      <td>SSD</td>\n",
       "      <td>Windows 11 Pro</td>\n",
       "      <td>1600x900 Pixels</td>\n",
       "      <td>5.0</td>\n",
       "      <td>NaN</td>\n",
       "      <td>788.00</td>\n",
       "      <td>Yes</td>\n",
       "      <td>2024-11-04 18:23:42</td>\n",
       "      <td>https://www.amazon.com/sspa/click?ie=UTF8&amp;spc=MTo4NDkxNTk5NDMzNDA3NDI6MTczMDY3NjY2NTpzcF9hdGZfYnJvd3NlOjMwMDQxMDU1NTY5MzMwMjo6MDo6&amp;url=%2FHP-Business-Student-i5-1334U-Lifetime%2Fdp%2FB0D8V4X2NK%2Fref%3Dsr_1_626_sspa%3Fdib%3DeyJ2IjoiMSJ9.V_7cZqgbAZmLoo0gHJVQ9q3_UsTKPr45oTho_8mXksP_yyWU3-PYIaezdIXerWZH5jjwBh7Vn7y5HdGQxR401VieExF4yOdAzHLbAsEadwYfL35A1yhgJ6Wrud9CGiWyOC30B6XLLnP4bp-89DKNdIPOcUHQt65FKFPlPifqxxBq6Ic4Zgwq9FBiXJP5_vBqeFnmpwE5yKy_hq3DTyHfU2TNz13yStMZuLX5PU79YIgJOa2F3UVpj-I10dt5Uon18QzJCPPszkSlGYMNvPSQT6zyEty4j_uOFrTKROsGXkI.B9qdh59aAPi7HsIj_Z9lgV7UqyC6heNiv1ICehBb4Vw%26dib_tag%3Dse%26qid%3D1730676665%26s%3Dpc%26sr%3D1-626-spons%26sp_csd%3Dd2lkZ2V0TmFtZT1zcF9hdGZfYnJvd3Nl%26psc%3D1</td>\n",
       "      <td>Amazon</td>\n",
       "      <td>4096</td>\n",
       "      <td>17.3</td>\n",
       "      <td>64</td>\n",
       "      <td>1</td>\n",
       "      <td>0.81 x 10.15 x 15.78 inches</td>\n",
       "      <td>5.00</td>\n",
       "      <td>NaN</td>\n",
       "    </tr>\n",
       "    <tr>\n",
       "      <th>2</th>\n",
       "      <td>Dell</td>\n",
       "      <td>Dell Inspiron 15.6\" Touchscreen Laptop</td>\n",
       "      <td>NaN</td>\n",
       "      <td>Intel</td>\n",
       "      <td>1355U</td>\n",
       "      <td>SSD</td>\n",
       "      <td>Windows 11 Pro</td>\n",
       "      <td>1920x1080 Pixels</td>\n",
       "      <td>NaN</td>\n",
       "      <td>NaN</td>\n",
       "      <td>1099.99</td>\n",
       "      <td>Yes</td>\n",
       "      <td>2024-11-04 18:23:45</td>\n",
       "      <td>https://www.amazon.com/sspa/click?ie=UTF8&amp;spc=MTo4NDkxNTk5NDMzNDA3NDI6MTczMDY3NjY2NTpzcF9hdGZfYnJvd3NlOjMwMDQ0NjYyNTU4OTMwMjo6MDo6&amp;url=%2FDell-Inspiron-Touchscreen-Laptop-Microsoft%2Fdp%2FB0C6PTN9GH%2Fref%3Dsr_1_627_sspa%3Fdib%3DeyJ2IjoiMSJ9.V_7cZqgbAZmLoo0gHJVQ9q3_UsTKPr45oTho_8mXksP_yyWU3-PYIaezdIXerWZH5jjwBh7Vn7y5HdGQxR401VieExF4yOdAzHLbAsEadwYfL35A1yhgJ6Wrud9CGiWyOC30B6XLLnP4bp-89DKNdIPOcUHQt65FKFPlPifqxxBq6Ic4Zgwq9FBiXJP5_vBqeFnmpwE5yKy_hq3DTyHfU2TNz13yStMZuLX5PU79YIgJOa2F3UVpj-I10dt5Uon18QzJCPPszkSlGYMNvPSQT6zyEty4j_uOFrTKROsGXkI.B9qdh59aAPi7HsIj_Z9lgV7UqyC6heNiv1ICehBb4Vw%26dib_tag%3Dse%26qid%3D1730676665%26s%3Dpc%26sr%3D1-627-spons%26sp_csd%3Dd2lkZ2V0TmFtZT1zcF9hdGZfYnJvd3Nl%26psc%3D1</td>\n",
       "      <td>Amazon</td>\n",
       "      <td>4096</td>\n",
       "      <td>15.6</td>\n",
       "      <td>32</td>\n",
       "      <td>0</td>\n",
       "      <td>9.25 x 0.75 x 14.11 inches</td>\n",
       "      <td>3.60</td>\n",
       "      <td>NaN</td>\n",
       "    </tr>\n",
       "    <tr>\n",
       "      <th>3</th>\n",
       "      <td>Apple</td>\n",
       "      <td>MacBook Pro</td>\n",
       "      <td>Mvvm2ll/a</td>\n",
       "      <td>Intel</td>\n",
       "      <td>Core i9</td>\n",
       "      <td>SSD</td>\n",
       "      <td>Mac OS X 10.0 Cheetah</td>\n",
       "      <td>2560 x 1600 Pixels</td>\n",
       "      <td>4.0</td>\n",
       "      <td>11.0</td>\n",
       "      <td>571.99</td>\n",
       "      <td>Yes</td>\n",
       "      <td>2024-11-04 18:23:54</td>\n",
       "      <td>https://www.amazon.com/2019-Apple-MacBook-16-inch-1TB-SSD-Storage/dp/B08DDB4R6T/ref=sr_1_629?dib=eyJ2IjoiMSJ9.V_7cZqgbAZmLoo0gHJVQ9q3_UsTKPr45oTho_8mXksP_yyWU3-PYIaezdIXerWZH5jjwBh7Vn7y5HdGQxR401VieExF4yOdAzHLbAsEadwYfL35A1yhgJ6Wrud9CGiWyOC30B6XLLnP4bp-89DKNdIPOcUHQt65FKFPlPifqxxBq6Ic4Zgwq9FBiXJP5_vBqeFnmpwE5yKy_hq3DTyHfU2TNz13yStMZuLX5PU79YIgJOa2F3UVpj-I10dt5Uon18QzJCPPszkSlGYMNvPSQT6zyEty4j_uOFrTKROsGXkI.B9qdh59aAPi7HsIj_Z9lgV7UqyC6heNiv1ICehBb4Vw&amp;dib_tag=se&amp;qid=1730676665&amp;s=pc&amp;sr=1-629</td>\n",
       "      <td>Amazon</td>\n",
       "      <td>2048</td>\n",
       "      <td>16.0</td>\n",
       "      <td>16</td>\n",
       "      <td>109</td>\n",
       "      <td>15.63 x 2.40 x 11.14 inches</td>\n",
       "      <td>5.68</td>\n",
       "      <td>NaN</td>\n",
       "    </tr>\n",
       "    <tr>\n",
       "      <th>4</th>\n",
       "      <td>HP</td>\n",
       "      <td>TPN-Q279</td>\n",
       "      <td>TPN-Q279</td>\n",
       "      <td>AMD</td>\n",
       "      <td>Ryzen 5</td>\n",
       "      <td>SSD</td>\n",
       "      <td>Windows 11 Home</td>\n",
       "      <td>1920 x 1080 Pixels</td>\n",
       "      <td>3.8</td>\n",
       "      <td>NaN</td>\n",
       "      <td>755.98</td>\n",
       "      <td>Yes</td>\n",
       "      <td>2024-11-04 18:23:57</td>\n",
       "      <td>https://www.amazon.com/HP-i7-1355U-i5-14400F-GeForce-Backlit/dp/B0D9KHZ12S/ref=sr_1_630?dib=eyJ2IjoiMSJ9.V_7cZqgbAZmLoo0gHJVQ9q3_UsTKPr45oTho_8mXksP_yyWU3-PYIaezdIXerWZH5jjwBh7Vn7y5HdGQxR401VieExF4yOdAzHLbAsEadwYfL35A1yhgJ6Wrud9CGiWyOC30B6XLLnP4bp-89DKNdIPOcUHQt65FKFPlPifqxxBq6Ic4Zgwq9FBiXJP5_vBqeFnmpwE5yKy_hq3DTyHfU2TNz13yStMZuLX5PU79YIgJOa2F3UVpj-I10dt5Uon18QzJCPPszkSlGYMNvPSQT6zyEty4j_uOFrTKROsGXkI.B9qdh59aAPi7HsIj_Z9lgV7UqyC6heNiv1ICehBb4Vw&amp;dib_tag=se&amp;qid=1730676665&amp;s=pc&amp;sr=1-630</td>\n",
       "      <td>Amazon</td>\n",
       "      <td>2048</td>\n",
       "      <td>15.6</td>\n",
       "      <td>16</td>\n",
       "      <td>7</td>\n",
       "      <td>0.93 x 10.04 x 14.09 inches</td>\n",
       "      <td>7.39</td>\n",
       "      <td>NaN</td>\n",
       "    </tr>\n",
       "  </tbody>\n",
       "</table>\n",
       "</div>"
      ],
      "text/plain": [
       "   Brand                       Laptop_Model_Name Laptop_Model_Number Processor_Brand Processor_Model Storage_Type         Operating_System  Display_Resolution  Extracted_Rating  Battery_Life(Hours_Upto)    Price Stock   Time_Of_Extraction                                                                                                                                                                                                                                                                                                                                                                                                                                                                                                                                                                                                                                                                                                                            URL  Source  Storage_Capacity(GB)  Display_Size(Inches)  RAM(GB) No_Of_Reviews            Laptop_Dimensions  Laptop_Weight(Pounds)  No_of_Reviews\n",
       "0   Dell                    Latitude 3540 Laptop                 NaN           Intel           1355U          SSD  Windows 11 Professional        1920x1080 MP               NaN                       NaN  1772.95   Yes  2024-11-04 18:23:39         https://www.amazon.com/sspa/click?ie=UTF8&spc=MTo4NDkxNTk5NDMzNDA3NDI6MTczMDY3NjY2NTpzcF9hdGZfYnJvd3NlOjMwMDUwMTQ3MTcwNDIwMjo6MDo6&url=%2FDell-Latitude-3540-Laptop-1920x1080%2Fdp%2FB0D7BNFZV3%2Fref%3Dsr_1_625_sspa%3Fdib%3DeyJ2IjoiMSJ9.V_7cZqgbAZmLoo0gHJVQ9q3_UsTKPr45oTho_8mXksP_yyWU3-PYIaezdIXerWZH5jjwBh7Vn7y5HdGQxR401VieExF4yOdAzHLbAsEadwYfL35A1yhgJ6Wrud9CGiWyOC30B6XLLnP4bp-89DKNdIPOcUHQt65FKFPlPifqxxBq6Ic4Zgwq9FBiXJP5_vBqeFnmpwE5yKy_hq3DTyHfU2TNz13yStMZuLX5PU79YIgJOa2F3UVpj-I10dt5Uon18QzJCPPszkSlGYMNvPSQT6zyEty4j_uOFrTKROsGXkI.B9qdh59aAPi7HsIj_Z9lgV7UqyC6heNiv1ICehBb4Vw%26dib_tag%3Dse%26qid%3D1730676665%26s%3Dpc%26sr%3D1-625-spons%26sp_csd%3Dd2lkZ2V0TmFtZT1zcF9hdGZfYnJvd3Nl%26psc%3D1  Amazon                  4000                  15.6       64             0   0.71 x 14.13 x 9.44 inches                   4.00            NaN\n",
       "1     HP                              17t-cn3004       17t-cn3004208           Intel   Intel Core i5          SSD           Windows 11 Pro     1600x900 Pixels               5.0                       NaN   788.00   Yes  2024-11-04 18:23:42       https://www.amazon.com/sspa/click?ie=UTF8&spc=MTo4NDkxNTk5NDMzNDA3NDI6MTczMDY3NjY2NTpzcF9hdGZfYnJvd3NlOjMwMDQxMDU1NTY5MzMwMjo6MDo6&url=%2FHP-Business-Student-i5-1334U-Lifetime%2Fdp%2FB0D8V4X2NK%2Fref%3Dsr_1_626_sspa%3Fdib%3DeyJ2IjoiMSJ9.V_7cZqgbAZmLoo0gHJVQ9q3_UsTKPr45oTho_8mXksP_yyWU3-PYIaezdIXerWZH5jjwBh7Vn7y5HdGQxR401VieExF4yOdAzHLbAsEadwYfL35A1yhgJ6Wrud9CGiWyOC30B6XLLnP4bp-89DKNdIPOcUHQt65FKFPlPifqxxBq6Ic4Zgwq9FBiXJP5_vBqeFnmpwE5yKy_hq3DTyHfU2TNz13yStMZuLX5PU79YIgJOa2F3UVpj-I10dt5Uon18QzJCPPszkSlGYMNvPSQT6zyEty4j_uOFrTKROsGXkI.B9qdh59aAPi7HsIj_Z9lgV7UqyC6heNiv1ICehBb4Vw%26dib_tag%3Dse%26qid%3D1730676665%26s%3Dpc%26sr%3D1-626-spons%26sp_csd%3Dd2lkZ2V0TmFtZT1zcF9hdGZfYnJvd3Nl%26psc%3D1  Amazon                  4096                  17.3       64             1  0.81 x 10.15 x 15.78 inches                   5.00            NaN\n",
       "2   Dell  Dell Inspiron 15.6\" Touchscreen Laptop                 NaN           Intel           1355U          SSD           Windows 11 Pro    1920x1080 Pixels               NaN                       NaN  1099.99   Yes  2024-11-04 18:23:45  https://www.amazon.com/sspa/click?ie=UTF8&spc=MTo4NDkxNTk5NDMzNDA3NDI6MTczMDY3NjY2NTpzcF9hdGZfYnJvd3NlOjMwMDQ0NjYyNTU4OTMwMjo6MDo6&url=%2FDell-Inspiron-Touchscreen-Laptop-Microsoft%2Fdp%2FB0C6PTN9GH%2Fref%3Dsr_1_627_sspa%3Fdib%3DeyJ2IjoiMSJ9.V_7cZqgbAZmLoo0gHJVQ9q3_UsTKPr45oTho_8mXksP_yyWU3-PYIaezdIXerWZH5jjwBh7Vn7y5HdGQxR401VieExF4yOdAzHLbAsEadwYfL35A1yhgJ6Wrud9CGiWyOC30B6XLLnP4bp-89DKNdIPOcUHQt65FKFPlPifqxxBq6Ic4Zgwq9FBiXJP5_vBqeFnmpwE5yKy_hq3DTyHfU2TNz13yStMZuLX5PU79YIgJOa2F3UVpj-I10dt5Uon18QzJCPPszkSlGYMNvPSQT6zyEty4j_uOFrTKROsGXkI.B9qdh59aAPi7HsIj_Z9lgV7UqyC6heNiv1ICehBb4Vw%26dib_tag%3Dse%26qid%3D1730676665%26s%3Dpc%26sr%3D1-627-spons%26sp_csd%3Dd2lkZ2V0TmFtZT1zcF9hdGZfYnJvd3Nl%26psc%3D1  Amazon                  4096                  15.6       32             0   9.25 x 0.75 x 14.11 inches                   3.60            NaN\n",
       "3  Apple                             MacBook Pro           Mvvm2ll/a           Intel         Core i9          SSD    Mac OS X 10.0 Cheetah  2560 x 1600 Pixels               4.0                      11.0   571.99   Yes  2024-11-04 18:23:54                                                                                                                                                                                                                  https://www.amazon.com/2019-Apple-MacBook-16-inch-1TB-SSD-Storage/dp/B08DDB4R6T/ref=sr_1_629?dib=eyJ2IjoiMSJ9.V_7cZqgbAZmLoo0gHJVQ9q3_UsTKPr45oTho_8mXksP_yyWU3-PYIaezdIXerWZH5jjwBh7Vn7y5HdGQxR401VieExF4yOdAzHLbAsEadwYfL35A1yhgJ6Wrud9CGiWyOC30B6XLLnP4bp-89DKNdIPOcUHQt65FKFPlPifqxxBq6Ic4Zgwq9FBiXJP5_vBqeFnmpwE5yKy_hq3DTyHfU2TNz13yStMZuLX5PU79YIgJOa2F3UVpj-I10dt5Uon18QzJCPPszkSlGYMNvPSQT6zyEty4j_uOFrTKROsGXkI.B9qdh59aAPi7HsIj_Z9lgV7UqyC6heNiv1ICehBb4Vw&dib_tag=se&qid=1730676665&s=pc&sr=1-629  Amazon                  2048                  16.0       16           109  15.63 x 2.40 x 11.14 inches                   5.68            NaN\n",
       "4     HP                                TPN-Q279            TPN-Q279             AMD         Ryzen 5          SSD          Windows 11 Home  1920 x 1080 Pixels               3.8                       NaN   755.98   Yes  2024-11-04 18:23:57                                                                                                                                                                                                                       https://www.amazon.com/HP-i7-1355U-i5-14400F-GeForce-Backlit/dp/B0D9KHZ12S/ref=sr_1_630?dib=eyJ2IjoiMSJ9.V_7cZqgbAZmLoo0gHJVQ9q3_UsTKPr45oTho_8mXksP_yyWU3-PYIaezdIXerWZH5jjwBh7Vn7y5HdGQxR401VieExF4yOdAzHLbAsEadwYfL35A1yhgJ6Wrud9CGiWyOC30B6XLLnP4bp-89DKNdIPOcUHQt65FKFPlPifqxxBq6Ic4Zgwq9FBiXJP5_vBqeFnmpwE5yKy_hq3DTyHfU2TNz13yStMZuLX5PU79YIgJOa2F3UVpj-I10dt5Uon18QzJCPPszkSlGYMNvPSQT6zyEty4j_uOFrTKROsGXkI.B9qdh59aAPi7HsIj_Z9lgV7UqyC6heNiv1ICehBb4Vw&dib_tag=se&qid=1730676665&s=pc&sr=1-630  Amazon                  2048                  15.6       16             7  0.93 x 10.04 x 14.09 inches                   7.39            NaN"
      ]
     },
     "execution_count": 16,
     "metadata": {},
     "output_type": "execute_result"
    }
   ],
   "source": [
    "# Combining all the datasets\n",
    "df = pd.concat([amazonDF, flipkartDF,bestbuyDF], ignore_index=True, sort=False)\n",
    "df.head()"
   ]
  },
  {
   "cell_type": "code",
   "execution_count": 17,
   "id": "0b436511-3f40-4d18-863e-ea0996f425a2",
   "metadata": {},
   "outputs": [
    {
     "data": {
      "text/plain": [
       "(4236, 22)"
      ]
     },
     "execution_count": 17,
     "metadata": {},
     "output_type": "execute_result"
    }
   ],
   "source": [
    "df.shape"
   ]
  },
  {
   "cell_type": "code",
   "execution_count": 18,
   "id": "8754f93e-3cdb-4899-8233-7e27b654f2c6",
   "metadata": {},
   "outputs": [
    {
     "data": {
      "text/plain": [
       "Brand                          0\n",
       "Laptop_Model_Name             61\n",
       "Laptop_Model_Number          434\n",
       "Processor_Brand               61\n",
       "Processor_Model               37\n",
       "Storage_Type                   0\n",
       "Operating_System               6\n",
       "Display_Resolution            27\n",
       "Extracted_Rating             740\n",
       "Battery_Life(Hours_Upto)    3088\n",
       "Price                          3\n",
       "Stock                         10\n",
       "Time_Of_Extraction             0\n",
       "URL                            0\n",
       "Source                         0\n",
       "Storage_Capacity(GB)           0\n",
       "Display_Size(Inches)         360\n",
       "RAM(GB)                        0\n",
       "No_Of_Reviews                975\n",
       "Laptop_Dimensions            603\n",
       "Laptop_Weight(Pounds)        372\n",
       "No_of_Reviews               3335\n",
       "dtype: int64"
      ]
     },
     "execution_count": 18,
     "metadata": {},
     "output_type": "execute_result"
    }
   ],
   "source": []
  },
  {
   "cell_type": "code",
   "execution_count": 19,
   "id": "9798b5f1-923f-4cf8-b7c2-6c5e4e4b762e",
   "metadata": {},
   "outputs": [],
   "source": [
    "df['Stock'] = df['Stock'].astype(bool)"
   ]
  },
  {
   "cell_type": "code",
   "execution_count": 20,
   "id": "adc5cf47-1abc-4b88-a3e3-9b5b78ad71dc",
   "metadata": {},
   "outputs": [],
   "source": [
    "df['Time_Of_Extraction'] = pd.to_datetime(df['Time_Of_Extraction'])"
   ]
  },
  {
   "cell_type": "code",
   "execution_count": 21,
   "id": "c6da0cbf-92db-4938-bb95-4c529e8232f2",
   "metadata": {},
   "outputs": [
    {
     "name": "stdout",
     "output_type": "stream",
     "text": [
      "<class 'pandas.core.frame.DataFrame'>\n",
      "RangeIndex: 4236 entries, 0 to 4235\n",
      "Data columns (total 22 columns):\n",
      " #   Column                    Non-Null Count  Dtype         \n",
      "---  ------                    --------------  -----         \n",
      " 0   Brand                     4236 non-null   object        \n",
      " 1   Laptop_Model_Name         4175 non-null   object        \n",
      " 2   Laptop_Model_Number       3802 non-null   object        \n",
      " 3   Processor_Brand           4175 non-null   object        \n",
      " 4   Processor_Model           4199 non-null   object        \n",
      " 5   Storage_Type              4236 non-null   object        \n",
      " 6   Operating_System          4230 non-null   object        \n",
      " 7   Display_Resolution        4209 non-null   object        \n",
      " 8   Extracted_Rating          3496 non-null   float64       \n",
      " 9   Battery_Life(Hours_Upto)  1148 non-null   float64       \n",
      " 10  Price                     4233 non-null   float64       \n",
      " 11  Stock                     4236 non-null   bool          \n",
      " 12  Time_Of_Extraction        4236 non-null   datetime64[ns]\n",
      " 13  URL                       4236 non-null   object        \n",
      " 14  Source                    4236 non-null   object        \n",
      " 15  Storage_Capacity(GB)      4236 non-null   int64         \n",
      " 16  Display_Size(Inches)      3876 non-null   float64       \n",
      " 17  RAM(GB)                   4236 non-null   int64         \n",
      " 18  No_Of_Reviews             3261 non-null   object        \n",
      " 19  Laptop_Dimensions         3633 non-null   object        \n",
      " 20  Laptop_Weight(Pounds)     3864 non-null   float64       \n",
      " 21  No_of_Reviews             901 non-null    float64       \n",
      "dtypes: bool(1), datetime64[ns](1), float64(6), int64(2), object(12)\n",
      "memory usage: 699.2+ KB\n"
     ]
    }
   ],
   "source": [
    "df.info()"
   ]
  },
  {
   "cell_type": "code",
   "execution_count": 23,
   "id": "712b76d2-1515-426f-96eb-ef79ac0c35ac",
   "metadata": {},
   "outputs": [
    {
     "data": {
      "text/html": [
       "<div>\n",
       "<style scoped>\n",
       "    .dataframe tbody tr th:only-of-type {\n",
       "        vertical-align: middle;\n",
       "    }\n",
       "\n",
       "    .dataframe tbody tr th {\n",
       "        vertical-align: top;\n",
       "    }\n",
       "\n",
       "    .dataframe thead th {\n",
       "        text-align: right;\n",
       "    }\n",
       "</style>\n",
       "<table border=\"1\" class=\"dataframe\">\n",
       "  <thead>\n",
       "    <tr style=\"text-align: right;\">\n",
       "      <th></th>\n",
       "      <th>Brand</th>\n",
       "      <th>Laptop_Model_Name</th>\n",
       "      <th>Laptop_Model_Number</th>\n",
       "      <th>Processor_Brand</th>\n",
       "      <th>Processor_Model</th>\n",
       "      <th>Storage_Type</th>\n",
       "      <th>Operating_System</th>\n",
       "      <th>Display_Resolution</th>\n",
       "      <th>Extracted_Rating</th>\n",
       "      <th>Battery_Life(Hours_Upto)</th>\n",
       "      <th>Price</th>\n",
       "      <th>Stock</th>\n",
       "      <th>Time_Of_Extraction</th>\n",
       "      <th>URL</th>\n",
       "      <th>Source</th>\n",
       "      <th>Storage_Capacity(GB)</th>\n",
       "      <th>Display_Size(Inches)</th>\n",
       "      <th>RAM(GB)</th>\n",
       "      <th>No_Of_Reviews</th>\n",
       "      <th>Laptop_Dimensions</th>\n",
       "      <th>Laptop_Weight(Pounds)</th>\n",
       "      <th>No_of_Reviews</th>\n",
       "    </tr>\n",
       "  </thead>\n",
       "  <tbody>\n",
       "    <tr>\n",
       "      <th>1026</th>\n",
       "      <td>FURESTUR</td>\n",
       "      <td>F15</td>\n",
       "      <td>NaN</td>\n",
       "      <td>INTE</td>\n",
       "      <td>N100</td>\n",
       "      <td>SSD</td>\n",
       "      <td>Windows 11 Pro</td>\n",
       "      <td>1920 x 1080 Pixels</td>\n",
       "      <td>5.0</td>\n",
       "      <td>NaN</td>\n",
       "      <td>299.0</td>\n",
       "      <td>True</td>\n",
       "      <td>2024-11-04 19:50:37</td>\n",
       "      <td>https://www.amazon.com/sspa/click?ie=UTF8&amp;spc=MTozMjAxNjYxMDk0MzgwMTk4OjE3MzA2NzY4ODY6c3BfYnRmX2Jyb3dzZTozMDA1MDM5MjgwOTkzMDI6OjA6Og&amp;url=%2FFURESTUR-Computer-Quad-Core-Processor-Laptops%2Fdp%2FB0D929HKPY%2Fref%3Dsr_1_847_sspa%3Fdib%3DeyJ2IjoiMSJ9.TfFOgrOTmndQ6-PTS61ylVbfIRXHov59r-18wENfTUULsQlStMNEBBc_N9N-gPELdaGBTI36LGUqzBvQ_sZvWrQnwjDdzco4d21jVca2ozSwbG5jlO09ZdeM23pxRT7PwdqyCT32nKAVUjobW5WVv09tIn0piQkHPeQGrVigmTt26eRuhKT0-AezEYm-066R0wsTW_o5qClFLTdz3MgvVlK88hebryWimJ2_YGdLkop57vG61H6Wf3F7R5bEkeOpgipWFIGC5XIeN7PDo7FijImcbdv3V1Xvbt0FvJIY_7s.HZNpbdhVFfXNFhY2c0o-WP1m0wg2dDv8WKsHRHVGjp8%26dib_tag%3Dse%26qid%3D1730676886%26s%3Dpc%26sr%3D1-847-spons%26sp_csd%3Dd2lkZ2V0TmFtZT1zcF9idGZfYnJvd3Nl%26psc%3D1</td>\n",
       "      <td>Amazon</td>\n",
       "      <td>512</td>\n",
       "      <td>15.6</td>\n",
       "      <td>16</td>\n",
       "      <td>2</td>\n",
       "      <td>0.38 x 9.10 x 14.00 inches</td>\n",
       "      <td>NaN</td>\n",
       "      <td>NaN</td>\n",
       "    </tr>\n",
       "  </tbody>\n",
       "</table>\n",
       "</div>"
      ],
      "text/plain": [
       "         Brand Laptop_Model_Name Laptop_Model_Number Processor_Brand Processor_Model Storage_Type Operating_System  Display_Resolution  Extracted_Rating  Battery_Life(Hours_Upto)  Price  Stock  Time_Of_Extraction                                                                                                                                                                                                                                                                                                                                                                                                                                                                                                                                                                                                                                                                                                                                 URL  Source  Storage_Capacity(GB)  Display_Size(Inches)  RAM(GB) No_Of_Reviews           Laptop_Dimensions  Laptop_Weight(Pounds)  No_of_Reviews\n",
       "1026  FURESTUR               F15                 NaN            INTE            N100          SSD   Windows 11 Pro  1920 x 1080 Pixels               5.0                       NaN  299.0   True 2024-11-04 19:50:37  https://www.amazon.com/sspa/click?ie=UTF8&spc=MTozMjAxNjYxMDk0MzgwMTk4OjE3MzA2NzY4ODY6c3BfYnRmX2Jyb3dzZTozMDA1MDM5MjgwOTkzMDI6OjA6Og&url=%2FFURESTUR-Computer-Quad-Core-Processor-Laptops%2Fdp%2FB0D929HKPY%2Fref%3Dsr_1_847_sspa%3Fdib%3DeyJ2IjoiMSJ9.TfFOgrOTmndQ6-PTS61ylVbfIRXHov59r-18wENfTUULsQlStMNEBBc_N9N-gPELdaGBTI36LGUqzBvQ_sZvWrQnwjDdzco4d21jVca2ozSwbG5jlO09ZdeM23pxRT7PwdqyCT32nKAVUjobW5WVv09tIn0piQkHPeQGrVigmTt26eRuhKT0-AezEYm-066R0wsTW_o5qClFLTdz3MgvVlK88hebryWimJ2_YGdLkop57vG61H6Wf3F7R5bEkeOpgipWFIGC5XIeN7PDo7FijImcbdv3V1Xvbt0FvJIY_7s.HZNpbdhVFfXNFhY2c0o-WP1m0wg2dDv8WKsHRHVGjp8%26dib_tag%3Dse%26qid%3D1730676886%26s%3Dpc%26sr%3D1-847-spons%26sp_csd%3Dd2lkZ2V0TmFtZT1zcF9idGZfYnJvd3Nl%26psc%3D1  Amazon                   512                  15.6       16             2  0.38 x 9.10 x 14.00 inches                    NaN            NaN"
      ]
     },
     "execution_count": 23,
     "metadata": {},
     "output_type": "execute_result"
    }
   ],
   "source": [
    "f = df[df['Processor_Brand'] == 'INTE']\n"
   ]
  },
  {
   "cell_type": "code",
   "execution_count": 24,
   "id": "e0cc2438-364b-4d44-ac26-915a3006f1ad",
   "metadata": {},
   "outputs": [],
   "source": [
    "df.loc[df['Processor_Brand'] == 'INTE',['Processor_Brand']] = 'Intel'"
   ]
  },
  {
   "cell_type": "code",
   "execution_count": 25,
   "id": "a962602b-278c-4ede-837b-2bc222c9d875",
   "metadata": {},
   "outputs": [
    {
     "data": {
      "text/plain": [
       "array(['Intel', 'AMD', nan, 'Apple', 'MediaTek', 'Qualcomm', 'Ryzen',\n",
       "       'NVIDIA', 'ARM', 'Samsung'], dtype=object)"
      ]
     },
     "execution_count": 25,
     "metadata": {},
     "output_type": "execute_result"
    }
   ],
   "source": [
    "df['Processor_Brand'].unique()"
   ]
  },
  {
   "cell_type": "code",
   "execution_count": 26,
   "id": "4b7cd9e5-07ac-422e-baa9-88f39caad301",
   "metadata": {},
   "outputs": [
    {
     "data": {
      "text/plain": [
       "Brand                          0\n",
       "Laptop_Model_Name             61\n",
       "Laptop_Model_Number          434\n",
       "Processor_Brand               61\n",
       "Processor_Model               37\n",
       "Storage_Type                   0\n",
       "Operating_System               6\n",
       "Display_Resolution            27\n",
       "Extracted_Rating             740\n",
       "Battery_Life(Hours_Upto)    3088\n",
       "Price                          3\n",
       "Stock                          0\n",
       "Time_Of_Extraction             0\n",
       "URL                            0\n",
       "Source                         0\n",
       "Storage_Capacity(GB)           0\n",
       "Display_Size(Inches)         360\n",
       "RAM(GB)                        0\n",
       "No_Of_Reviews                975\n",
       "Laptop_Dimensions            603\n",
       "Laptop_Weight(Pounds)        372\n",
       "No_of_Reviews               3335\n",
       "dtype: int64"
      ]
     },
     "execution_count": 26,
     "metadata": {},
     "output_type": "execute_result"
    }
   ],
   "source": [
    "df.isnull().sum()"
   ]
  },
  {
   "cell_type": "code",
   "execution_count": 27,
   "id": "973cbc46-7d53-48a6-8444-04f15e8c590f",
   "metadata": {},
   "outputs": [],
   "source": [
    "# Export DataFrame to CSV\n",
    "df.to_csv('LaptrackPhase2.csv', index=False)"
   ]
  },
  {
   "cell_type": "code",
   "execution_count": null,
   "id": "e26983b2-7a45-41bf-b2d2-e83d520a7bb7",
   "metadata": {},
   "outputs": [],
   "source": []
  }
 ],
 "metadata": {
  "kernelspec": {
   "display_name": "Python 3 (ipykernel)",
   "language": "python",
   "name": "python3"
  },
  "language_info": {
   "codemirror_mode": {
    "name": "ipython",
    "version": 3
   },
   "file_extension": ".py",
   "mimetype": "text/x-python",
   "name": "python",
   "nbconvert_exporter": "python",
   "pygments_lexer": "ipython3",
   "version": "3.12.5"
  }
 },
 "nbformat": 4,
 "nbformat_minor": 5
}
