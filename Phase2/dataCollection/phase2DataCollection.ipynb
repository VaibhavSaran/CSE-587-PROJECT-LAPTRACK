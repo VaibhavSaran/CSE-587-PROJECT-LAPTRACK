{
 "cells": [
  {
   "cell_type": "code",
   "execution_count": 1,
   "id": "202678fc-a3ea-4809-9078-3826037401d1",
   "metadata": {},
   "outputs": [],
   "source": [
    "import pandas as pd\n",
    "\n",
    "# Set the display options\n",
    "pd.set_option('display.max_columns', None)  \n",
    "pd.set_option('display.max_colwidth', None)\n",
    "pd.set_option('display.expand_frame_repr', False)\n",
    "pd.set_option('future.no_silent_downcasting', True)\n",
    "\n",
    "amazonDataFilePath = '../dataCollection/amazon/amazon_clean.csv'\n",
    "bestbuyDataFilePath = '../dataCollection/bestbuy/bestbuy_clean.csv'\n",
    "flipkartDataFilePath = '../dataCollection/flipkart/flipkart_clean.csv'\n",
    "\n",
    "amazonDF = pd.read_csv(amazonDataFilePath)\n",
    "bestbuyDF = pd.read_csv(bestbuyDataFilePath)\n",
    "flipkartDF = pd.read_csv(flipkartDataFilePath)\n"
   ]
  },
  {
   "cell_type": "code",
   "execution_count": 2,
   "id": "faf7cf74-a7b2-414d-8847-e1adfc5127a1",
   "metadata": {},
   "outputs": [
    {
     "data": {
      "text/html": [
       "<div>\n",
       "<style scoped>\n",
       "    .dataframe tbody tr th:only-of-type {\n",
       "        vertical-align: middle;\n",
       "    }\n",
       "\n",
       "    .dataframe tbody tr th {\n",
       "        vertical-align: top;\n",
       "    }\n",
       "\n",
       "    .dataframe thead th {\n",
       "        text-align: right;\n",
       "    }\n",
       "</style>\n",
       "<table border=\"1\" class=\"dataframe\">\n",
       "  <thead>\n",
       "    <tr style=\"text-align: right;\">\n",
       "      <th></th>\n",
       "      <th>Brand</th>\n",
       "      <th>Laptop_Model_Name</th>\n",
       "      <th>Laptop_Model_Number</th>\n",
       "      <th>Processor_Brand</th>\n",
       "      <th>Processor_Model</th>\n",
       "      <th>Storage_Type</th>\n",
       "      <th>Operating_System</th>\n",
       "      <th>Display_Resolution</th>\n",
       "      <th>Extracted_Rating</th>\n",
       "      <th>Battery_Life(Hours_Upto)</th>\n",
       "      <th>Price</th>\n",
       "      <th>Stock</th>\n",
       "      <th>Time_Of_Extraction</th>\n",
       "      <th>URL</th>\n",
       "      <th>Source</th>\n",
       "      <th>Storage_Capacity(GB)</th>\n",
       "      <th>Display_Size(Inches)</th>\n",
       "      <th>RAM(GB)</th>\n",
       "      <th>No_Of_Reviews</th>\n",
       "      <th>Laptop_Dimensions</th>\n",
       "      <th>Laptop_Weight(Pounds)</th>\n",
       "    </tr>\n",
       "  </thead>\n",
       "  <tbody>\n",
       "    <tr>\n",
       "      <th>0</th>\n",
       "      <td>Dell</td>\n",
       "      <td>Latitude 3540 Laptop</td>\n",
       "      <td>NaN</td>\n",
       "      <td>Intel</td>\n",
       "      <td>1355U</td>\n",
       "      <td>SSD</td>\n",
       "      <td>Windows 11 Professional</td>\n",
       "      <td>1920x1080 MP</td>\n",
       "      <td>NaN</td>\n",
       "      <td>NaN</td>\n",
       "      <td>1772.95</td>\n",
       "      <td>Yes</td>\n",
       "      <td>2024-11-04 18:23:39</td>\n",
       "      <td>https://www.amazon.com/sspa/click?ie=UTF8&amp;spc=MTo4NDkxNTk5NDMzNDA3NDI6MTczMDY3NjY2NTpzcF9hdGZfYnJvd3NlOjMwMDUwMTQ3MTcwNDIwMjo6MDo6&amp;url=%2FDell-Latitude-3540-Laptop-1920x1080%2Fdp%2FB0D7BNFZV3%2Fref%3Dsr_1_625_sspa%3Fdib%3DeyJ2IjoiMSJ9.V_7cZqgbAZmLoo0gHJVQ9q3_UsTKPr45oTho_8mXksP_yyWU3-PYIaezdIXerWZH5jjwBh7Vn7y5HdGQxR401VieExF4yOdAzHLbAsEadwYfL35A1yhgJ6Wrud9CGiWyOC30B6XLLnP4bp-89DKNdIPOcUHQt65FKFPlPifqxxBq6Ic4Zgwq9FBiXJP5_vBqeFnmpwE5yKy_hq3DTyHfU2TNz13yStMZuLX5PU79YIgJOa2F3UVpj-I10dt5Uon18QzJCPPszkSlGYMNvPSQT6zyEty4j_uOFrTKROsGXkI.B9qdh59aAPi7HsIj_Z9lgV7UqyC6heNiv1ICehBb4Vw%26dib_tag%3Dse%26qid%3D1730676665%26s%3Dpc%26sr%3D1-625-spons%26sp_csd%3Dd2lkZ2V0TmFtZT1zcF9hdGZfYnJvd3Nl%26psc%3D1</td>\n",
       "      <td>Amazon</td>\n",
       "      <td>4000</td>\n",
       "      <td>15.6</td>\n",
       "      <td>64</td>\n",
       "      <td>0</td>\n",
       "      <td>0.71 x 14.13 x 9.44 inches</td>\n",
       "      <td>4.00</td>\n",
       "    </tr>\n",
       "    <tr>\n",
       "      <th>1</th>\n",
       "      <td>HP</td>\n",
       "      <td>17t-cn3004</td>\n",
       "      <td>17t-cn3004208</td>\n",
       "      <td>Intel</td>\n",
       "      <td>Intel Core i5</td>\n",
       "      <td>SSD</td>\n",
       "      <td>Windows 11 Pro</td>\n",
       "      <td>1600x900 Pixels</td>\n",
       "      <td>5.0</td>\n",
       "      <td>NaN</td>\n",
       "      <td>788.00</td>\n",
       "      <td>Yes</td>\n",
       "      <td>2024-11-04 18:23:42</td>\n",
       "      <td>https://www.amazon.com/sspa/click?ie=UTF8&amp;spc=MTo4NDkxNTk5NDMzNDA3NDI6MTczMDY3NjY2NTpzcF9hdGZfYnJvd3NlOjMwMDQxMDU1NTY5MzMwMjo6MDo6&amp;url=%2FHP-Business-Student-i5-1334U-Lifetime%2Fdp%2FB0D8V4X2NK%2Fref%3Dsr_1_626_sspa%3Fdib%3DeyJ2IjoiMSJ9.V_7cZqgbAZmLoo0gHJVQ9q3_UsTKPr45oTho_8mXksP_yyWU3-PYIaezdIXerWZH5jjwBh7Vn7y5HdGQxR401VieExF4yOdAzHLbAsEadwYfL35A1yhgJ6Wrud9CGiWyOC30B6XLLnP4bp-89DKNdIPOcUHQt65FKFPlPifqxxBq6Ic4Zgwq9FBiXJP5_vBqeFnmpwE5yKy_hq3DTyHfU2TNz13yStMZuLX5PU79YIgJOa2F3UVpj-I10dt5Uon18QzJCPPszkSlGYMNvPSQT6zyEty4j_uOFrTKROsGXkI.B9qdh59aAPi7HsIj_Z9lgV7UqyC6heNiv1ICehBb4Vw%26dib_tag%3Dse%26qid%3D1730676665%26s%3Dpc%26sr%3D1-626-spons%26sp_csd%3Dd2lkZ2V0TmFtZT1zcF9hdGZfYnJvd3Nl%26psc%3D1</td>\n",
       "      <td>Amazon</td>\n",
       "      <td>4096</td>\n",
       "      <td>17.3</td>\n",
       "      <td>64</td>\n",
       "      <td>1</td>\n",
       "      <td>0.81 x 10.15 x 15.78 inches</td>\n",
       "      <td>5.00</td>\n",
       "    </tr>\n",
       "    <tr>\n",
       "      <th>2</th>\n",
       "      <td>Dell</td>\n",
       "      <td>Dell Inspiron 15.6\" Touchscreen Laptop</td>\n",
       "      <td>NaN</td>\n",
       "      <td>Intel</td>\n",
       "      <td>1355U</td>\n",
       "      <td>SSD</td>\n",
       "      <td>Windows 11 Pro</td>\n",
       "      <td>1920x1080 Pixels</td>\n",
       "      <td>NaN</td>\n",
       "      <td>NaN</td>\n",
       "      <td>1099.99</td>\n",
       "      <td>Yes</td>\n",
       "      <td>2024-11-04 18:23:45</td>\n",
       "      <td>https://www.amazon.com/sspa/click?ie=UTF8&amp;spc=MTo4NDkxNTk5NDMzNDA3NDI6MTczMDY3NjY2NTpzcF9hdGZfYnJvd3NlOjMwMDQ0NjYyNTU4OTMwMjo6MDo6&amp;url=%2FDell-Inspiron-Touchscreen-Laptop-Microsoft%2Fdp%2FB0C6PTN9GH%2Fref%3Dsr_1_627_sspa%3Fdib%3DeyJ2IjoiMSJ9.V_7cZqgbAZmLoo0gHJVQ9q3_UsTKPr45oTho_8mXksP_yyWU3-PYIaezdIXerWZH5jjwBh7Vn7y5HdGQxR401VieExF4yOdAzHLbAsEadwYfL35A1yhgJ6Wrud9CGiWyOC30B6XLLnP4bp-89DKNdIPOcUHQt65FKFPlPifqxxBq6Ic4Zgwq9FBiXJP5_vBqeFnmpwE5yKy_hq3DTyHfU2TNz13yStMZuLX5PU79YIgJOa2F3UVpj-I10dt5Uon18QzJCPPszkSlGYMNvPSQT6zyEty4j_uOFrTKROsGXkI.B9qdh59aAPi7HsIj_Z9lgV7UqyC6heNiv1ICehBb4Vw%26dib_tag%3Dse%26qid%3D1730676665%26s%3Dpc%26sr%3D1-627-spons%26sp_csd%3Dd2lkZ2V0TmFtZT1zcF9hdGZfYnJvd3Nl%26psc%3D1</td>\n",
       "      <td>Amazon</td>\n",
       "      <td>4096</td>\n",
       "      <td>15.6</td>\n",
       "      <td>32</td>\n",
       "      <td>0</td>\n",
       "      <td>9.25 x 0.75 x 14.11 inches</td>\n",
       "      <td>3.60</td>\n",
       "    </tr>\n",
       "    <tr>\n",
       "      <th>3</th>\n",
       "      <td>Apple</td>\n",
       "      <td>MacBook Pro</td>\n",
       "      <td>Mvvm2ll/a</td>\n",
       "      <td>Intel</td>\n",
       "      <td>Core i9</td>\n",
       "      <td>SSD</td>\n",
       "      <td>Mac OS X 10.0 Cheetah</td>\n",
       "      <td>2560 x 1600 Pixels</td>\n",
       "      <td>4.0</td>\n",
       "      <td>11.0</td>\n",
       "      <td>571.99</td>\n",
       "      <td>Yes</td>\n",
       "      <td>2024-11-04 18:23:54</td>\n",
       "      <td>https://www.amazon.com/2019-Apple-MacBook-16-inch-1TB-SSD-Storage/dp/B08DDB4R6T/ref=sr_1_629?dib=eyJ2IjoiMSJ9.V_7cZqgbAZmLoo0gHJVQ9q3_UsTKPr45oTho_8mXksP_yyWU3-PYIaezdIXerWZH5jjwBh7Vn7y5HdGQxR401VieExF4yOdAzHLbAsEadwYfL35A1yhgJ6Wrud9CGiWyOC30B6XLLnP4bp-89DKNdIPOcUHQt65FKFPlPifqxxBq6Ic4Zgwq9FBiXJP5_vBqeFnmpwE5yKy_hq3DTyHfU2TNz13yStMZuLX5PU79YIgJOa2F3UVpj-I10dt5Uon18QzJCPPszkSlGYMNvPSQT6zyEty4j_uOFrTKROsGXkI.B9qdh59aAPi7HsIj_Z9lgV7UqyC6heNiv1ICehBb4Vw&amp;dib_tag=se&amp;qid=1730676665&amp;s=pc&amp;sr=1-629</td>\n",
       "      <td>Amazon</td>\n",
       "      <td>2048</td>\n",
       "      <td>16.0</td>\n",
       "      <td>16</td>\n",
       "      <td>109</td>\n",
       "      <td>15.63 x 2.40 x 11.14 inches</td>\n",
       "      <td>5.68</td>\n",
       "    </tr>\n",
       "    <tr>\n",
       "      <th>4</th>\n",
       "      <td>HP</td>\n",
       "      <td>TPN-Q279</td>\n",
       "      <td>TPN-Q279</td>\n",
       "      <td>AMD</td>\n",
       "      <td>Ryzen 5</td>\n",
       "      <td>SSD</td>\n",
       "      <td>Windows 11 Home</td>\n",
       "      <td>1920 x 1080 Pixels</td>\n",
       "      <td>3.8</td>\n",
       "      <td>NaN</td>\n",
       "      <td>755.98</td>\n",
       "      <td>Yes</td>\n",
       "      <td>2024-11-04 18:23:57</td>\n",
       "      <td>https://www.amazon.com/HP-i7-1355U-i5-14400F-GeForce-Backlit/dp/B0D9KHZ12S/ref=sr_1_630?dib=eyJ2IjoiMSJ9.V_7cZqgbAZmLoo0gHJVQ9q3_UsTKPr45oTho_8mXksP_yyWU3-PYIaezdIXerWZH5jjwBh7Vn7y5HdGQxR401VieExF4yOdAzHLbAsEadwYfL35A1yhgJ6Wrud9CGiWyOC30B6XLLnP4bp-89DKNdIPOcUHQt65FKFPlPifqxxBq6Ic4Zgwq9FBiXJP5_vBqeFnmpwE5yKy_hq3DTyHfU2TNz13yStMZuLX5PU79YIgJOa2F3UVpj-I10dt5Uon18QzJCPPszkSlGYMNvPSQT6zyEty4j_uOFrTKROsGXkI.B9qdh59aAPi7HsIj_Z9lgV7UqyC6heNiv1ICehBb4Vw&amp;dib_tag=se&amp;qid=1730676665&amp;s=pc&amp;sr=1-630</td>\n",
       "      <td>Amazon</td>\n",
       "      <td>2048</td>\n",
       "      <td>15.6</td>\n",
       "      <td>16</td>\n",
       "      <td>7</td>\n",
       "      <td>0.93 x 10.04 x 14.09 inches</td>\n",
       "      <td>7.39</td>\n",
       "    </tr>\n",
       "  </tbody>\n",
       "</table>\n",
       "</div>"
      ],
      "text/plain": [
       "   Brand                       Laptop_Model_Name Laptop_Model_Number Processor_Brand Processor_Model Storage_Type         Operating_System  Display_Resolution  Extracted_Rating  Battery_Life(Hours_Upto)    Price Stock   Time_Of_Extraction                                                                                                                                                                                                                                                                                                                                                                                                                                                                                                                                                                                                                                                                                                                            URL  Source  Storage_Capacity(GB)  Display_Size(Inches)  RAM(GB) No_Of_Reviews            Laptop_Dimensions  Laptop_Weight(Pounds)\n",
       "0   Dell                    Latitude 3540 Laptop                 NaN           Intel           1355U          SSD  Windows 11 Professional        1920x1080 MP               NaN                       NaN  1772.95   Yes  2024-11-04 18:23:39         https://www.amazon.com/sspa/click?ie=UTF8&spc=MTo4NDkxNTk5NDMzNDA3NDI6MTczMDY3NjY2NTpzcF9hdGZfYnJvd3NlOjMwMDUwMTQ3MTcwNDIwMjo6MDo6&url=%2FDell-Latitude-3540-Laptop-1920x1080%2Fdp%2FB0D7BNFZV3%2Fref%3Dsr_1_625_sspa%3Fdib%3DeyJ2IjoiMSJ9.V_7cZqgbAZmLoo0gHJVQ9q3_UsTKPr45oTho_8mXksP_yyWU3-PYIaezdIXerWZH5jjwBh7Vn7y5HdGQxR401VieExF4yOdAzHLbAsEadwYfL35A1yhgJ6Wrud9CGiWyOC30B6XLLnP4bp-89DKNdIPOcUHQt65FKFPlPifqxxBq6Ic4Zgwq9FBiXJP5_vBqeFnmpwE5yKy_hq3DTyHfU2TNz13yStMZuLX5PU79YIgJOa2F3UVpj-I10dt5Uon18QzJCPPszkSlGYMNvPSQT6zyEty4j_uOFrTKROsGXkI.B9qdh59aAPi7HsIj_Z9lgV7UqyC6heNiv1ICehBb4Vw%26dib_tag%3Dse%26qid%3D1730676665%26s%3Dpc%26sr%3D1-625-spons%26sp_csd%3Dd2lkZ2V0TmFtZT1zcF9hdGZfYnJvd3Nl%26psc%3D1  Amazon                  4000                  15.6       64             0   0.71 x 14.13 x 9.44 inches                   4.00\n",
       "1     HP                              17t-cn3004       17t-cn3004208           Intel   Intel Core i5          SSD           Windows 11 Pro     1600x900 Pixels               5.0                       NaN   788.00   Yes  2024-11-04 18:23:42       https://www.amazon.com/sspa/click?ie=UTF8&spc=MTo4NDkxNTk5NDMzNDA3NDI6MTczMDY3NjY2NTpzcF9hdGZfYnJvd3NlOjMwMDQxMDU1NTY5MzMwMjo6MDo6&url=%2FHP-Business-Student-i5-1334U-Lifetime%2Fdp%2FB0D8V4X2NK%2Fref%3Dsr_1_626_sspa%3Fdib%3DeyJ2IjoiMSJ9.V_7cZqgbAZmLoo0gHJVQ9q3_UsTKPr45oTho_8mXksP_yyWU3-PYIaezdIXerWZH5jjwBh7Vn7y5HdGQxR401VieExF4yOdAzHLbAsEadwYfL35A1yhgJ6Wrud9CGiWyOC30B6XLLnP4bp-89DKNdIPOcUHQt65FKFPlPifqxxBq6Ic4Zgwq9FBiXJP5_vBqeFnmpwE5yKy_hq3DTyHfU2TNz13yStMZuLX5PU79YIgJOa2F3UVpj-I10dt5Uon18QzJCPPszkSlGYMNvPSQT6zyEty4j_uOFrTKROsGXkI.B9qdh59aAPi7HsIj_Z9lgV7UqyC6heNiv1ICehBb4Vw%26dib_tag%3Dse%26qid%3D1730676665%26s%3Dpc%26sr%3D1-626-spons%26sp_csd%3Dd2lkZ2V0TmFtZT1zcF9hdGZfYnJvd3Nl%26psc%3D1  Amazon                  4096                  17.3       64             1  0.81 x 10.15 x 15.78 inches                   5.00\n",
       "2   Dell  Dell Inspiron 15.6\" Touchscreen Laptop                 NaN           Intel           1355U          SSD           Windows 11 Pro    1920x1080 Pixels               NaN                       NaN  1099.99   Yes  2024-11-04 18:23:45  https://www.amazon.com/sspa/click?ie=UTF8&spc=MTo4NDkxNTk5NDMzNDA3NDI6MTczMDY3NjY2NTpzcF9hdGZfYnJvd3NlOjMwMDQ0NjYyNTU4OTMwMjo6MDo6&url=%2FDell-Inspiron-Touchscreen-Laptop-Microsoft%2Fdp%2FB0C6PTN9GH%2Fref%3Dsr_1_627_sspa%3Fdib%3DeyJ2IjoiMSJ9.V_7cZqgbAZmLoo0gHJVQ9q3_UsTKPr45oTho_8mXksP_yyWU3-PYIaezdIXerWZH5jjwBh7Vn7y5HdGQxR401VieExF4yOdAzHLbAsEadwYfL35A1yhgJ6Wrud9CGiWyOC30B6XLLnP4bp-89DKNdIPOcUHQt65FKFPlPifqxxBq6Ic4Zgwq9FBiXJP5_vBqeFnmpwE5yKy_hq3DTyHfU2TNz13yStMZuLX5PU79YIgJOa2F3UVpj-I10dt5Uon18QzJCPPszkSlGYMNvPSQT6zyEty4j_uOFrTKROsGXkI.B9qdh59aAPi7HsIj_Z9lgV7UqyC6heNiv1ICehBb4Vw%26dib_tag%3Dse%26qid%3D1730676665%26s%3Dpc%26sr%3D1-627-spons%26sp_csd%3Dd2lkZ2V0TmFtZT1zcF9hdGZfYnJvd3Nl%26psc%3D1  Amazon                  4096                  15.6       32             0   9.25 x 0.75 x 14.11 inches                   3.60\n",
       "3  Apple                             MacBook Pro           Mvvm2ll/a           Intel         Core i9          SSD    Mac OS X 10.0 Cheetah  2560 x 1600 Pixels               4.0                      11.0   571.99   Yes  2024-11-04 18:23:54                                                                                                                                                                                                                  https://www.amazon.com/2019-Apple-MacBook-16-inch-1TB-SSD-Storage/dp/B08DDB4R6T/ref=sr_1_629?dib=eyJ2IjoiMSJ9.V_7cZqgbAZmLoo0gHJVQ9q3_UsTKPr45oTho_8mXksP_yyWU3-PYIaezdIXerWZH5jjwBh7Vn7y5HdGQxR401VieExF4yOdAzHLbAsEadwYfL35A1yhgJ6Wrud9CGiWyOC30B6XLLnP4bp-89DKNdIPOcUHQt65FKFPlPifqxxBq6Ic4Zgwq9FBiXJP5_vBqeFnmpwE5yKy_hq3DTyHfU2TNz13yStMZuLX5PU79YIgJOa2F3UVpj-I10dt5Uon18QzJCPPszkSlGYMNvPSQT6zyEty4j_uOFrTKROsGXkI.B9qdh59aAPi7HsIj_Z9lgV7UqyC6heNiv1ICehBb4Vw&dib_tag=se&qid=1730676665&s=pc&sr=1-629  Amazon                  2048                  16.0       16           109  15.63 x 2.40 x 11.14 inches                   5.68\n",
       "4     HP                                TPN-Q279            TPN-Q279             AMD         Ryzen 5          SSD          Windows 11 Home  1920 x 1080 Pixels               3.8                       NaN   755.98   Yes  2024-11-04 18:23:57                                                                                                                                                                                                                       https://www.amazon.com/HP-i7-1355U-i5-14400F-GeForce-Backlit/dp/B0D9KHZ12S/ref=sr_1_630?dib=eyJ2IjoiMSJ9.V_7cZqgbAZmLoo0gHJVQ9q3_UsTKPr45oTho_8mXksP_yyWU3-PYIaezdIXerWZH5jjwBh7Vn7y5HdGQxR401VieExF4yOdAzHLbAsEadwYfL35A1yhgJ6Wrud9CGiWyOC30B6XLLnP4bp-89DKNdIPOcUHQt65FKFPlPifqxxBq6Ic4Zgwq9FBiXJP5_vBqeFnmpwE5yKy_hq3DTyHfU2TNz13yStMZuLX5PU79YIgJOa2F3UVpj-I10dt5Uon18QzJCPPszkSlGYMNvPSQT6zyEty4j_uOFrTKROsGXkI.B9qdh59aAPi7HsIj_Z9lgV7UqyC6heNiv1ICehBb4Vw&dib_tag=se&qid=1730676665&s=pc&sr=1-630  Amazon                  2048                  15.6       16             7  0.93 x 10.04 x 14.09 inches                   7.39"
      ]
     },
     "execution_count": 2,
     "metadata": {},
     "output_type": "execute_result"
    }
   ],
   "source": [
    "\n",
    "df = pd.concat([amazonDF, flipkartDF,bestbuyDF], ignore_index=True, sort=False)\n",
    "df.head()"
   ]
  },
  {
   "cell_type": "code",
   "execution_count": 3,
   "id": "0b436511-3f40-4d18-863e-ea0996f425a2",
   "metadata": {},
   "outputs": [
    {
     "data": {
      "text/plain": [
       "(4236, 21)"
      ]
     },
     "execution_count": 3,
     "metadata": {},
     "output_type": "execute_result"
    }
   ],
   "source": [
    "df.shape"
   ]
  },
  {
   "cell_type": "code",
   "execution_count": 4,
   "id": "8754f93e-3cdb-4899-8233-7e27b654f2c6",
   "metadata": {},
   "outputs": [
    {
     "data": {
      "text/plain": [
       "Index(['Brand', 'Laptop_Model_Name', 'Laptop_Model_Number', 'Processor_Brand',\n",
       "       'Processor_Model', 'Storage_Type', 'Operating_System',\n",
       "       'Display_Resolution', 'Extracted_Rating', 'Battery_Life(Hours_Upto)',\n",
       "       'Price', 'Stock', 'Time_Of_Extraction', 'URL', 'Source',\n",
       "       'Storage_Capacity(GB)', 'Display_Size(Inches)', 'RAM(GB)',\n",
       "       'No_Of_Reviews', 'Laptop_Dimensions', 'Laptop_Weight(Pounds)'],\n",
       "      dtype='object')"
      ]
     },
     "execution_count": 4,
     "metadata": {},
     "output_type": "execute_result"
    }
   ],
   "source": [
    "df.columns"
   ]
  },
  {
   "cell_type": "code",
   "execution_count": 5,
   "id": "9798b5f1-923f-4cf8-b7c2-6c5e4e4b762e",
   "metadata": {},
   "outputs": [],
   "source": [
    "df['Stock'] = df['Stock'].astype(bool)"
   ]
  },
  {
   "cell_type": "code",
   "execution_count": 6,
   "id": "adc5cf47-1abc-4b88-a3e3-9b5b78ad71dc",
   "metadata": {},
   "outputs": [],
   "source": [
    "df['Time_Of_Extraction'] = pd.to_datetime(df['Time_Of_Extraction'])"
   ]
  },
  {
   "cell_type": "code",
   "execution_count": 7,
   "id": "c6da0cbf-92db-4938-bb95-4c529e8232f2",
   "metadata": {},
   "outputs": [
    {
     "name": "stdout",
     "output_type": "stream",
     "text": [
      "<class 'pandas.core.frame.DataFrame'>\n",
      "RangeIndex: 4236 entries, 0 to 4235\n",
      "Data columns (total 21 columns):\n",
      " #   Column                    Non-Null Count  Dtype         \n",
      "---  ------                    --------------  -----         \n",
      " 0   Brand                     4236 non-null   object        \n",
      " 1   Laptop_Model_Name         4175 non-null   object        \n",
      " 2   Laptop_Model_Number       3802 non-null   object        \n",
      " 3   Processor_Brand           4175 non-null   object        \n",
      " 4   Processor_Model           4199 non-null   object        \n",
      " 5   Storage_Type              4236 non-null   object        \n",
      " 6   Operating_System          4230 non-null   object        \n",
      " 7   Display_Resolution        4209 non-null   object        \n",
      " 8   Extracted_Rating          3496 non-null   float64       \n",
      " 9   Battery_Life(Hours_Upto)  1148 non-null   float64       \n",
      " 10  Price                     4233 non-null   float64       \n",
      " 11  Stock                     4236 non-null   bool          \n",
      " 12  Time_Of_Extraction        4236 non-null   datetime64[ns]\n",
      " 13  URL                       4236 non-null   object        \n",
      " 14  Source                    4236 non-null   object        \n",
      " 15  Storage_Capacity(GB)      4236 non-null   int64         \n",
      " 16  Display_Size(Inches)      3876 non-null   float64       \n",
      " 17  RAM(GB)                   4236 non-null   int64         \n",
      " 18  No_Of_Reviews             4162 non-null   object        \n",
      " 19  Laptop_Dimensions         3633 non-null   object        \n",
      " 20  Laptop_Weight(Pounds)     3864 non-null   float64       \n",
      "dtypes: bool(1), datetime64[ns](1), float64(5), int64(2), object(12)\n",
      "memory usage: 666.1+ KB\n"
     ]
    }
   ],
   "source": [
    "df.info()"
   ]
  },
  {
   "cell_type": "code",
   "execution_count": 8,
   "id": "712b76d2-1515-426f-96eb-ef79ac0c35ac",
   "metadata": {},
   "outputs": [],
   "source": [
    "f = df[df['Processor_Brand'] == 'INTE']\n"
   ]
  },
  {
   "cell_type": "code",
   "execution_count": 9,
   "id": "e0cc2438-364b-4d44-ac26-915a3006f1ad",
   "metadata": {},
   "outputs": [],
   "source": [
    "df.loc[df['Processor_Brand'] == 'INTE',['Processor_Brand']] = 'Intel'"
   ]
  },
  {
   "cell_type": "code",
   "execution_count": 10,
   "id": "a962602b-278c-4ede-837b-2bc222c9d875",
   "metadata": {},
   "outputs": [
    {
     "data": {
      "text/plain": [
       "array(['Intel', 'AMD', nan, 'Apple', 'MediaTek', 'Qualcomm', 'Ryzen',\n",
       "       'NVIDIA', 'ARM', 'Samsung'], dtype=object)"
      ]
     },
     "execution_count": 10,
     "metadata": {},
     "output_type": "execute_result"
    }
   ],
   "source": [
    "df['Processor_Brand'].unique()"
   ]
  },
  {
   "cell_type": "code",
   "execution_count": 11,
   "id": "b4ab4b03-31dc-4b14-9e70-3be0ec6d8fef",
   "metadata": {},
   "outputs": [
    {
     "data": {
      "text/html": [
       "<div>\n",
       "<style scoped>\n",
       "    .dataframe tbody tr th:only-of-type {\n",
       "        vertical-align: middle;\n",
       "    }\n",
       "\n",
       "    .dataframe tbody tr th {\n",
       "        vertical-align: top;\n",
       "    }\n",
       "\n",
       "    .dataframe thead th {\n",
       "        text-align: right;\n",
       "    }\n",
       "</style>\n",
       "<table border=\"1\" class=\"dataframe\">\n",
       "  <thead>\n",
       "    <tr style=\"text-align: right;\">\n",
       "      <th></th>\n",
       "      <th>Brand</th>\n",
       "      <th>Laptop_Model_Name</th>\n",
       "      <th>Laptop_Model_Number</th>\n",
       "      <th>Processor_Brand</th>\n",
       "      <th>Processor_Model</th>\n",
       "      <th>Storage_Type</th>\n",
       "      <th>Operating_System</th>\n",
       "      <th>Display_Resolution</th>\n",
       "      <th>Extracted_Rating</th>\n",
       "      <th>Battery_Life(Hours_Upto)</th>\n",
       "      <th>Price</th>\n",
       "      <th>Stock</th>\n",
       "      <th>Time_Of_Extraction</th>\n",
       "      <th>URL</th>\n",
       "      <th>Source</th>\n",
       "      <th>Storage_Capacity(GB)</th>\n",
       "      <th>Display_Size(Inches)</th>\n",
       "      <th>RAM(GB)</th>\n",
       "      <th>No_Of_Reviews</th>\n",
       "      <th>Laptop_Dimensions</th>\n",
       "      <th>Laptop_Weight(Pounds)</th>\n",
       "    </tr>\n",
       "  </thead>\n",
       "  <tbody>\n",
       "    <tr>\n",
       "      <th>3102</th>\n",
       "      <td>HP</td>\n",
       "      <td>Envy 2-in-1 16\" 2K Touch-Screen Laptop - Intel Core Ultra 7 - 16GB Memory - 1TB SSD</td>\n",
       "      <td>16-ac0023dx</td>\n",
       "      <td>Intel</td>\n",
       "      <td>Intel Core Ultra 7 Series 1</td>\n",
       "      <td>SSD</td>\n",
       "      <td>Windows 11 Home</td>\n",
       "      <td>1920 x 1200 (WUXGA)</td>\n",
       "      <td>4.6</td>\n",
       "      <td>13.25</td>\n",
       "      <td>1099.99</td>\n",
       "      <td>True</td>\n",
       "      <td>2024-11-02 20:17:21</td>\n",
       "      <td>https://www.bestbuy.com/site/hp-envy-2-in-1-16-2k-touch-screen-laptop-intel-core-ultra-7-16gb-memory-1tb-ssd-glacier-silver/6571084.p?skuId=6571084</td>\n",
       "      <td>BestBuy</td>\n",
       "      <td>1024</td>\n",
       "      <td>16.0</td>\n",
       "      <td>16</td>\n",
       "      <td>(432 Reviews)</td>\n",
       "      <td>0.72 x 14.04 x 9.68 inches</td>\n",
       "      <td>4.14</td>\n",
       "    </tr>\n",
       "    <tr>\n",
       "      <th>3103</th>\n",
       "      <td>Samsung</td>\n",
       "      <td>Galaxy Book4 15.6\" FHD Laptop - Intel Core 7- 16GB Memory - 512GB SSD</td>\n",
       "      <td>NP750XGK-KS2US</td>\n",
       "      <td>Intel</td>\n",
       "      <td>Intel Core 7 Series 1</td>\n",
       "      <td>SSD</td>\n",
       "      <td>Windows 11 Home</td>\n",
       "      <td>1920 x 1080 (Full HD)</td>\n",
       "      <td>4.6</td>\n",
       "      <td>15.00</td>\n",
       "      <td>549.99</td>\n",
       "      <td>True</td>\n",
       "      <td>2024-11-02 20:17:26</td>\n",
       "      <td>https://www.bestbuy.com/site/samsung-galaxy-book4-15-6-fhd-laptop-intel-core-7-16gb-memory-512gb-ssd-silver/6572184.p?skuId=6572184</td>\n",
       "      <td>BestBuy</td>\n",
       "      <td>512</td>\n",
       "      <td>15.6</td>\n",
       "      <td>16</td>\n",
       "      <td>(224 Reviews)</td>\n",
       "      <td>0.61 x 9.02 x 14.04 inches</td>\n",
       "      <td>3.42</td>\n",
       "    </tr>\n",
       "    <tr>\n",
       "      <th>3104</th>\n",
       "      <td>Dell</td>\n",
       "      <td>Inspiron 15 Touch Screen Laptop – Intel Core i5 – 8GB – 512GB SSD</td>\n",
       "      <td>i3520-5124BLK-PUS</td>\n",
       "      <td>Intel</td>\n",
       "      <td>Intel 12th Generation Core i5</td>\n",
       "      <td>SSD</td>\n",
       "      <td>Windows 11 Home in S Mode</td>\n",
       "      <td>1920 x 1080 (Full HD)</td>\n",
       "      <td>4.5</td>\n",
       "      <td>7.00</td>\n",
       "      <td>629.99</td>\n",
       "      <td>True</td>\n",
       "      <td>2024-11-02 20:17:30</td>\n",
       "      <td>https://www.bestbuy.com/site/dell-inspiron-15-touch-screen-laptop-intel-core-i5-8gb-512gb-ssd-carbon-black/6573731.p?skuId=6573731</td>\n",
       "      <td>BestBuy</td>\n",
       "      <td>512</td>\n",
       "      <td>15.6</td>\n",
       "      <td>8</td>\n",
       "      <td>(711 Reviews)</td>\n",
       "      <td>0.83 x 14.11 x 9.27 inches</td>\n",
       "      <td>3.65</td>\n",
       "    </tr>\n",
       "    <tr>\n",
       "      <th>3105</th>\n",
       "      <td>Lenovo</td>\n",
       "      <td>Ideapad 1 15.6\" Full HD Touchscreen Laptop - Ryzen 7 5700U with 16GB Memory - AMD Radeon Graphics - 512GB SSD</td>\n",
       "      <td>82R400DTUS</td>\n",
       "      <td>AMD</td>\n",
       "      <td>AMD Ryzen 7 5000 Series PRO</td>\n",
       "      <td>SSD</td>\n",
       "      <td>Windows 11 Home</td>\n",
       "      <td>1920 x 1080 (Full HD)</td>\n",
       "      <td>4.7</td>\n",
       "      <td>9.00</td>\n",
       "      <td>479.99</td>\n",
       "      <td>True</td>\n",
       "      <td>2024-11-02 20:17:35</td>\n",
       "      <td>https://www.bestbuy.com/site/lenovo-ideapad-1-15-6-full-hd-touchscreen-laptop-ryzen-7-5700u-with-16gb-memory-amd-radeon-graphics-512gb-ssd-cloud-gray/6555683.p?skuId=6555683</td>\n",
       "      <td>BestBuy</td>\n",
       "      <td>512</td>\n",
       "      <td>15.6</td>\n",
       "      <td>16</td>\n",
       "      <td>(860 Reviews)</td>\n",
       "      <td>0.7 x 9.29 x 14.17 inches</td>\n",
       "      <td>3.52</td>\n",
       "    </tr>\n",
       "    <tr>\n",
       "      <th>3106</th>\n",
       "      <td>HP</td>\n",
       "      <td>15.6\" Touch-Screen Laptop - Intel Core i3 - 8GB Memory - 256GB SSD</td>\n",
       "      <td>15-FD0023DX</td>\n",
       "      <td>Intel</td>\n",
       "      <td>Intel 12th Generation Core i3</td>\n",
       "      <td>SSD</td>\n",
       "      <td>Windows 11 Home in S Mode</td>\n",
       "      <td>1366 x 768 (HD)</td>\n",
       "      <td>5.0</td>\n",
       "      <td>10.25</td>\n",
       "      <td>329.99</td>\n",
       "      <td>True</td>\n",
       "      <td>2024-11-02 20:17:46</td>\n",
       "      <td>https://www.bestbuy.com/site/hp-15-6-touch-screen-laptop-intel-core-i3-8gb-memory-256gb-ssd-natural-silver/6587436.p?skuId=6587436</td>\n",
       "      <td>BestBuy</td>\n",
       "      <td>256</td>\n",
       "      <td>15.6</td>\n",
       "      <td>8</td>\n",
       "      <td>(4 Reviews)</td>\n",
       "      <td>0.73 x 14.17 x 9.29 inches</td>\n",
       "      <td>3.52</td>\n",
       "    </tr>\n",
       "    <tr>\n",
       "      <th>...</th>\n",
       "      <td>...</td>\n",
       "      <td>...</td>\n",
       "      <td>...</td>\n",
       "      <td>...</td>\n",
       "      <td>...</td>\n",
       "      <td>...</td>\n",
       "      <td>...</td>\n",
       "      <td>...</td>\n",
       "      <td>...</td>\n",
       "      <td>...</td>\n",
       "      <td>...</td>\n",
       "      <td>...</td>\n",
       "      <td>...</td>\n",
       "      <td>...</td>\n",
       "      <td>...</td>\n",
       "      <td>...</td>\n",
       "      <td>...</td>\n",
       "      <td>...</td>\n",
       "      <td>...</td>\n",
       "      <td>...</td>\n",
       "      <td>...</td>\n",
       "    </tr>\n",
       "    <tr>\n",
       "      <th>4231</th>\n",
       "      <td>LG</td>\n",
       "      <td>gram 16” WQXGA Laptop – Intel Evo Platform Core i7 – 16GB RAM – 1TB NVMe Solid State Drive</td>\n",
       "      <td>GSRF 16Z90P-K.AAB8U1</td>\n",
       "      <td>Intel</td>\n",
       "      <td>Intel 11th Generation Core i7</td>\n",
       "      <td>SSD</td>\n",
       "      <td>Windows 11 Home</td>\n",
       "      <td>2560 x 1600</td>\n",
       "      <td>NaN</td>\n",
       "      <td>22.00</td>\n",
       "      <td>1529.99</td>\n",
       "      <td>True</td>\n",
       "      <td>2024-11-03 00:59:23</td>\n",
       "      <td>https://www.bestbuy.com/site/lg-gram-16-wqxga-laptop-intel-evo-platform-core-i7-16gb-ram-1tb-nvme-solid-state-drive-black/6457117.p?skuId=6457117</td>\n",
       "      <td>BestBuy</td>\n",
       "      <td>1000</td>\n",
       "      <td>16.0</td>\n",
       "      <td>16</td>\n",
       "      <td>Be the first to write a review</td>\n",
       "      <td>0.66 x 14 x 9.6 inches</td>\n",
       "      <td>2.60</td>\n",
       "    </tr>\n",
       "    <tr>\n",
       "      <th>4232</th>\n",
       "      <td>HP</td>\n",
       "      <td>630 G10 13.3\" Refurbished Laptop - Intel 13th Gen Core i7 with 32GB Memory - Intel Iris Xe Graphics - 512GB SSD</td>\n",
       "      <td>630 G10</td>\n",
       "      <td>Intel</td>\n",
       "      <td>Intel 13th Generation Core i7</td>\n",
       "      <td>SSD</td>\n",
       "      <td>Windows 11 Pro</td>\n",
       "      <td>1920 x 1080 (Full HD)</td>\n",
       "      <td>NaN</td>\n",
       "      <td>NaN</td>\n",
       "      <td>1079.00</td>\n",
       "      <td>True</td>\n",
       "      <td>2024-11-03 00:59:38</td>\n",
       "      <td>https://www.bestbuy.com/site/hp-630-g10-13-3-refurbished-laptop-intel-13th-gen-core-i7-with-32gb-memory-intel-iris-xe-graphics-512gb-ssd-silver/6586580.p?skuId=6586580</td>\n",
       "      <td>BestBuy</td>\n",
       "      <td>512</td>\n",
       "      <td>13.3</td>\n",
       "      <td>32</td>\n",
       "      <td>Be the first to write a review</td>\n",
       "      <td>NaN</td>\n",
       "      <td>2.70</td>\n",
       "    </tr>\n",
       "    <tr>\n",
       "      <th>4233</th>\n",
       "      <td>Apple</td>\n",
       "      <td>Apple MacBook Pro 14\" Pre-Owned - M1 Pro chip - 8CPU/14GPU with 16GB Memory - 512GB SSD (2021)</td>\n",
       "      <td>MKGP3LL/A</td>\n",
       "      <td>Apple</td>\n",
       "      <td>Apple M1 Pro</td>\n",
       "      <td>SSD</td>\n",
       "      <td>macOS Monterey 12</td>\n",
       "      <td>3024 x 1964</td>\n",
       "      <td>4.4</td>\n",
       "      <td>NaN</td>\n",
       "      <td>1169.99</td>\n",
       "      <td>True</td>\n",
       "      <td>2024-11-03 00:59:42</td>\n",
       "      <td>https://www.bestbuy.com/site/apple-macbook-pro-14-pre-owned-m1-pro-chip-8cpu-14gpu-with-16gb-memory-512gb-ssd-2021-gray/6565700.p?skuId=6565700</td>\n",
       "      <td>BestBuy</td>\n",
       "      <td>512</td>\n",
       "      <td>14.2</td>\n",
       "      <td>16</td>\n",
       "      <td>(5 Reviews)</td>\n",
       "      <td>NaN</td>\n",
       "      <td>3.50</td>\n",
       "    </tr>\n",
       "    <tr>\n",
       "      <th>4234</th>\n",
       "      <td>ASUS</td>\n",
       "      <td>ROG Zephyrus G16 16\" OLED 240Hz Gaming Laptop - Intel Core Ultra 9 - 32GB LPDDR5X - GeForce RTX 4090 - 1TB SSD</td>\n",
       "      <td>GU605MY-XS96</td>\n",
       "      <td>Intel</td>\n",
       "      <td>Intel Core Ultra 9 Series 1</td>\n",
       "      <td>SSD</td>\n",
       "      <td>Windows 11 Pro</td>\n",
       "      <td>2560 x 1600</td>\n",
       "      <td>4.7</td>\n",
       "      <td>10.00</td>\n",
       "      <td>3399.99</td>\n",
       "      <td>True</td>\n",
       "      <td>2024-11-03 00:59:48</td>\n",
       "      <td>https://www.bestbuy.com/site/asus-rog-zephyrus-g16-16-oled-240hz-gaming-laptop-intel-core-ultra-9-32gb-lpddr5x-geforce-rtx-4090-1tb-ssd-platinum-white/6600364.p?skuId=6600364</td>\n",
       "      <td>BestBuy</td>\n",
       "      <td>1000</td>\n",
       "      <td>16.0</td>\n",
       "      <td>32</td>\n",
       "      <td>(3 Reviews on https://www.asus.com)</td>\n",
       "      <td>0.59 x 9.72 x 13.97 inches</td>\n",
       "      <td>4.30</td>\n",
       "    </tr>\n",
       "    <tr>\n",
       "      <th>4235</th>\n",
       "      <td>Lenovo</td>\n",
       "      <td>Chromebook 3 14\" Touch Laptop - Mediatek MT8183 - 4GB Memory - 64GB eMMC</td>\n",
       "      <td>82KN0001US</td>\n",
       "      <td>MediaTek</td>\n",
       "      <td>MediaTek MT Series</td>\n",
       "      <td>eMMC</td>\n",
       "      <td>Chrome OS</td>\n",
       "      <td>1920 x 1080 (Full HD)</td>\n",
       "      <td>4.5</td>\n",
       "      <td>10.00</td>\n",
       "      <td>228.99</td>\n",
       "      <td>True</td>\n",
       "      <td>2024-11-03 00:59:54</td>\n",
       "      <td>https://www.bestbuy.com/site/lenovo-chromebook-3-14-touch-laptop-mediatek-mt8183-4gb-memory-64gb-emmc-arctic-grey/6447140.p?skuId=6447140</td>\n",
       "      <td>BestBuy</td>\n",
       "      <td>64</td>\n",
       "      <td>14.0</td>\n",
       "      <td>4</td>\n",
       "      <td>(1,282 Reviews)</td>\n",
       "      <td>0.74 x 9.23 x 12.95 inches</td>\n",
       "      <td>3.08</td>\n",
       "    </tr>\n",
       "  </tbody>\n",
       "</table>\n",
       "<p>1134 rows × 21 columns</p>\n",
       "</div>"
      ],
      "text/plain": [
       "        Brand                                                                                                Laptop_Model_Name   Laptop_Model_Number Processor_Brand                Processor_Model Storage_Type           Operating_System     Display_Resolution  Extracted_Rating  Battery_Life(Hours_Upto)    Price  Stock  Time_Of_Extraction                                                                                                                                                                             URL   Source  Storage_Capacity(GB)  Display_Size(Inches)  RAM(GB)                        No_Of_Reviews           Laptop_Dimensions  Laptop_Weight(Pounds)\n",
       "3102       HP                              Envy 2-in-1 16\" 2K Touch-Screen Laptop - Intel Core Ultra 7 - 16GB Memory - 1TB SSD           16-ac0023dx           Intel    Intel Core Ultra 7 Series 1          SSD            Windows 11 Home    1920 x 1200 (WUXGA)               4.6                     13.25  1099.99   True 2024-11-02 20:17:21                             https://www.bestbuy.com/site/hp-envy-2-in-1-16-2k-touch-screen-laptop-intel-core-ultra-7-16gb-memory-1tb-ssd-glacier-silver/6571084.p?skuId=6571084  BestBuy                  1024                  16.0       16                        (432 Reviews)  0.72 x 14.04 x 9.68 inches                   4.14\n",
       "3103  Samsung                                            Galaxy Book4 15.6\" FHD Laptop - Intel Core 7- 16GB Memory - 512GB SSD        NP750XGK-KS2US           Intel          Intel Core 7 Series 1          SSD            Windows 11 Home  1920 x 1080 (Full HD)               4.6                     15.00   549.99   True 2024-11-02 20:17:26                                             https://www.bestbuy.com/site/samsung-galaxy-book4-15-6-fhd-laptop-intel-core-7-16gb-memory-512gb-ssd-silver/6572184.p?skuId=6572184  BestBuy                   512                  15.6       16                        (224 Reviews)  0.61 x 9.02 x 14.04 inches                   3.42\n",
       "3104     Dell                                                Inspiron 15 Touch Screen Laptop – Intel Core i5 – 8GB – 512GB SSD     i3520-5124BLK-PUS           Intel  Intel 12th Generation Core i5          SSD  Windows 11 Home in S Mode  1920 x 1080 (Full HD)               4.5                      7.00   629.99   True 2024-11-02 20:17:30                                              https://www.bestbuy.com/site/dell-inspiron-15-touch-screen-laptop-intel-core-i5-8gb-512gb-ssd-carbon-black/6573731.p?skuId=6573731  BestBuy                   512                  15.6        8                        (711 Reviews)  0.83 x 14.11 x 9.27 inches                   3.65\n",
       "3105   Lenovo    Ideapad 1 15.6\" Full HD Touchscreen Laptop - Ryzen 7 5700U with 16GB Memory - AMD Radeon Graphics - 512GB SSD            82R400DTUS             AMD    AMD Ryzen 7 5000 Series PRO          SSD            Windows 11 Home  1920 x 1080 (Full HD)               4.7                      9.00   479.99   True 2024-11-02 20:17:35   https://www.bestbuy.com/site/lenovo-ideapad-1-15-6-full-hd-touchscreen-laptop-ryzen-7-5700u-with-16gb-memory-amd-radeon-graphics-512gb-ssd-cloud-gray/6555683.p?skuId=6555683  BestBuy                   512                  15.6       16                        (860 Reviews)   0.7 x 9.29 x 14.17 inches                   3.52\n",
       "3106       HP                                               15.6\" Touch-Screen Laptop - Intel Core i3 - 8GB Memory - 256GB SSD           15-FD0023DX           Intel  Intel 12th Generation Core i3          SSD  Windows 11 Home in S Mode        1366 x 768 (HD)               5.0                     10.25   329.99   True 2024-11-02 20:17:46                                              https://www.bestbuy.com/site/hp-15-6-touch-screen-laptop-intel-core-i3-8gb-memory-256gb-ssd-natural-silver/6587436.p?skuId=6587436  BestBuy                   256                  15.6        8                          (4 Reviews)  0.73 x 14.17 x 9.29 inches                   3.52\n",
       "...       ...                                                                                                              ...                   ...             ...                            ...          ...                        ...                    ...               ...                       ...      ...    ...                 ...                                                                                                                                                                             ...      ...                   ...                   ...      ...                                  ...                         ...                    ...\n",
       "4231       LG                       gram 16” WQXGA Laptop – Intel Evo Platform Core i7 – 16GB RAM – 1TB NVMe Solid State Drive  GSRF 16Z90P-K.AAB8U1           Intel  Intel 11th Generation Core i7          SSD            Windows 11 Home            2560 x 1600               NaN                     22.00  1529.99   True 2024-11-03 00:59:23                               https://www.bestbuy.com/site/lg-gram-16-wqxga-laptop-intel-evo-platform-core-i7-16gb-ram-1tb-nvme-solid-state-drive-black/6457117.p?skuId=6457117  BestBuy                  1000                  16.0       16       Be the first to write a review      0.66 x 14 x 9.6 inches                   2.60\n",
       "4232       HP  630 G10 13.3\" Refurbished Laptop - Intel 13th Gen Core i7 with 32GB Memory - Intel Iris Xe Graphics - 512GB SSD               630 G10           Intel  Intel 13th Generation Core i7          SSD             Windows 11 Pro  1920 x 1080 (Full HD)               NaN                       NaN  1079.00   True 2024-11-03 00:59:38         https://www.bestbuy.com/site/hp-630-g10-13-3-refurbished-laptop-intel-13th-gen-core-i7-with-32gb-memory-intel-iris-xe-graphics-512gb-ssd-silver/6586580.p?skuId=6586580  BestBuy                   512                  13.3       32       Be the first to write a review                         NaN                   2.70\n",
       "4233    Apple                   Apple MacBook Pro 14\" Pre-Owned - M1 Pro chip - 8CPU/14GPU with 16GB Memory - 512GB SSD (2021)             MKGP3LL/A           Apple                   Apple M1 Pro          SSD          macOS Monterey 12            3024 x 1964               4.4                       NaN  1169.99   True 2024-11-03 00:59:42                                 https://www.bestbuy.com/site/apple-macbook-pro-14-pre-owned-m1-pro-chip-8cpu-14gpu-with-16gb-memory-512gb-ssd-2021-gray/6565700.p?skuId=6565700  BestBuy                   512                  14.2       16                          (5 Reviews)                         NaN                   3.50\n",
       "4234     ASUS   ROG Zephyrus G16 16\" OLED 240Hz Gaming Laptop - Intel Core Ultra 9 - 32GB LPDDR5X - GeForce RTX 4090 - 1TB SSD          GU605MY-XS96           Intel    Intel Core Ultra 9 Series 1          SSD             Windows 11 Pro            2560 x 1600               4.7                     10.00  3399.99   True 2024-11-03 00:59:48  https://www.bestbuy.com/site/asus-rog-zephyrus-g16-16-oled-240hz-gaming-laptop-intel-core-ultra-9-32gb-lpddr5x-geforce-rtx-4090-1tb-ssd-platinum-white/6600364.p?skuId=6600364  BestBuy                  1000                  16.0       32  (3 Reviews on https://www.asus.com)  0.59 x 9.72 x 13.97 inches                   4.30\n",
       "4235   Lenovo                                         Chromebook 3 14\" Touch Laptop - Mediatek MT8183 - 4GB Memory - 64GB eMMC            82KN0001US        MediaTek             MediaTek MT Series         eMMC                  Chrome OS  1920 x 1080 (Full HD)               4.5                     10.00   228.99   True 2024-11-03 00:59:54                                       https://www.bestbuy.com/site/lenovo-chromebook-3-14-touch-laptop-mediatek-mt8183-4gb-memory-64gb-emmc-arctic-grey/6447140.p?skuId=6447140  BestBuy                    64                  14.0        4                      (1,282 Reviews)  0.74 x 9.23 x 12.95 inches                   3.08\n",
       "\n",
       "[1134 rows x 21 columns]"
      ]
     },
     "execution_count": 11,
     "metadata": {},
     "output_type": "execute_result"
    }
   ],
   "source": [
    "df[df['Source'] == 'BestBuy']"
   ]
  },
  {
   "cell_type": "code",
   "execution_count": 12,
   "id": "4b7cd9e5-07ac-422e-baa9-88f39caad301",
   "metadata": {},
   "outputs": [
    {
     "data": {
      "text/plain": [
       "Brand                          0\n",
       "Laptop_Model_Name             61\n",
       "Laptop_Model_Number          434\n",
       "Processor_Brand               61\n",
       "Processor_Model               37\n",
       "Storage_Type                   0\n",
       "Operating_System               6\n",
       "Display_Resolution            27\n",
       "Extracted_Rating             740\n",
       "Battery_Life(Hours_Upto)    3088\n",
       "Price                          3\n",
       "Stock                          0\n",
       "Time_Of_Extraction             0\n",
       "URL                            0\n",
       "Source                         0\n",
       "Storage_Capacity(GB)           0\n",
       "Display_Size(Inches)         360\n",
       "RAM(GB)                        0\n",
       "No_Of_Reviews                 74\n",
       "Laptop_Dimensions            603\n",
       "Laptop_Weight(Pounds)        372\n",
       "dtype: int64"
      ]
     },
     "execution_count": 12,
     "metadata": {},
     "output_type": "execute_result"
    }
   ],
   "source": [
    "df.isnull().sum()"
   ]
  },
  {
   "cell_type": "code",
   "execution_count": 13,
   "id": "92555aa4-271d-4443-8824-20cacecef68e",
   "metadata": {},
   "outputs": [],
   "source": [
    "# Define the specific columns to check for NaN values\n",
    "columns_to_check = ['Price','Processor_Model']\n",
    "\n",
    "# Drop rows where any of the specified columns are null\n",
    "laptop_df_cleaned = df.dropna(subset=columns_to_check)\n",
    "laptop_df_cleaned = laptop_df_cleaned.copy()"
   ]
  },
  {
   "cell_type": "code",
   "execution_count": 14,
   "id": "2f800976-e8ff-46bf-8c4f-84c220f2eaaa",
   "metadata": {},
   "outputs": [],
   "source": [
    "import re\n",
    "def extract_reviews_count(reviews_str):\n",
    "    if pd.isna(reviews_str):\n",
    "        return 0\n",
    "    else:\n",
    "        # Use regex to find the number in the string\n",
    "        match = re.search(r'\\d+(?:[,\\.]?\\d+)?', str(reviews_str))\n",
    "        if match:\n",
    "            # Convert the matched string to a float and then to an integer\n",
    "            return int(float(match.group().replace(',', '')))\n",
    "        else:\n",
    "            return 0\n",
    "laptop_df_cleaned['No_Of_Reviews'] = laptop_df_cleaned['No_Of_Reviews'].apply(extract_reviews_count)"
   ]
  },
  {
   "cell_type": "code",
   "execution_count": 15,
   "id": "05e25780-5456-446a-9cb0-378ebe5a3bc6",
   "metadata": {},
   "outputs": [
    {
     "data": {
      "text/plain": [
       "array([    0,     1,   109,     7,    10,    73,    24,    59,     3,\n",
       "         333,     5,    23,   191,   877,   131,     4,    19,   250,\n",
       "         105,     2,    39,   218,   843,   411,    65,   484,    20,\n",
       "         316,   183,   548,   354,   329,   130,   184,   987,   803,\n",
       "         644,   453,   101,   153,   314,   816,   339,    85,   903,\n",
       "         457,   426,   470,    18,    14,   527,    13,   643,    88,\n",
       "          43,   739,    15,   982,    30,   553,   347,   282,     8,\n",
       "          52,    91,   668,   530,   277,   377,    26,   667,   145,\n",
       "         595,   928,    25,   504,   675,   156,   861,   413,   474,\n",
       "         404,   596,    27,   374,   513,    53,    12,   848,    21,\n",
       "         219,   209,   229,    78,   556,   151,   100,   114,   637,\n",
       "         635,   182,    99,   921,     6,    41,   342,    29,    86,\n",
       "         942,   107,   301,    46,   289,    38,    35,   619,    51,\n",
       "         292,   150,   143,   111,   266,   317,   387,    76,   215,\n",
       "          49,   498,   125,   224,   108,   399,   454,   141,   631,\n",
       "          22,    80,   626,    16,   332,   624,    55,    56,    44,\n",
       "         617,    68,    60,   456,    31,   600,    92,    72,   640,\n",
       "         244,   574,   719,    61,   124,     9,   194,    37,   888,\n",
       "         133,   189,   117,   178,    17,    48,   966,   291,    11,\n",
       "         642,    54,    33,   278,    34,    79,   564,    77,    69,\n",
       "         393,   376,    84,   103,    47,   460,   801,    87,   135,\n",
       "         280,   118,   910,    90,   732,   524,   128,   271,   380,\n",
       "          64,    62,   113,   571,    50,   163,   154,   132,   863,\n",
       "         321,    82,   825,   265,   166,   172,   864,   557,   444,\n",
       "          28,   521,   622,   187,    40,   149,   534,   809,   771,\n",
       "         174,   446,   237,   185,   299,   326,   201,    45,   414,\n",
       "         582,   755,   590,   806,   239,    36,   287,   121,    74,\n",
       "         245,    42,    95,   137,    71,    66,    98,   116,    89,\n",
       "         486,   811,   684,   160,   904,   531,   382,   249,   146,\n",
       "         836,   586,   110,   148,   685,   284,   300,   963,    70,\n",
       "         603,   849,   658,   293,    63,   487,    83,    75,    32,\n",
       "         253,   355,   381,   102,   144,   279,   262,   489,   312,\n",
       "         606,    94,   364,   427,   104,   402,   993,   165,   167,\n",
       "         196,   418,   494,   115,   260,   369,   193,    58,   222,\n",
       "         601,    57,   136,   173,   127,   175,   662,    93,   106,\n",
       "         202,   623,   735,   477,   243,   129,   324,   180,   692,\n",
       "         884,    96,   142,   170,   258,   678,   296,   233,   835,\n",
       "         937,   205,   228,   515,   370,   392,   294,   493,   212,\n",
       "         238,   371,   226,   231,   240,   261,   269,   867,   155,\n",
       "         341,   817,   346,   161,   577,   695,   343,   223,   126,\n",
       "         177,   330,   433,   450,   976,   139,   546,   396,   241,\n",
       "         206,   352,   303,   718,   442,    97,   112,   221,   350,\n",
       "         200,   375,   659,   169,    67,   614,   220,   395,   138,\n",
       "         363,   119,   844,   120,   254,   710,   285,   248,   349,\n",
       "          81,   733,  8030,  1669,   140,  2970,  1187,  1128,  3360,\n",
       "        5020,  5349,  1932,  4726,  6514,  1075,  3084,  5515, 13603,\n",
       "         344,  4489,  2140,   122, 11696,  3216,  1972,   379,  2360,\n",
       "         263,   563,  1663,  1983,  2681,  5005,  1300,   749,  6018,\n",
       "        1356,   533,   455,   438,  2176,  1499,   996,  1493,  3028,\n",
       "         616,   674,   389,  1793,   274,  1313,   186,   198,   204,\n",
       "        2105,   134,   168,   275,  2185,   419,  4251,   532,   216,\n",
       "         331,  1569,   916,  1751,   562,  6577,   252,  1451,  7746,\n",
       "        5233,   313,   738,  1015,  1240,   485,   384,  4673,   267,\n",
       "        1676,  2498,   740,  1047,   943,  2494,   447,  1344,  1657,\n",
       "        3869,   792,   691,   247,  2046,   828,   439,   123,   516,\n",
       "        3245,   334,  1899,  1221,   797,  2213,   547,   255,   964,\n",
       "         199,  4405,   941,  1494,   322,  2147,   868,  1224,  2248,\n",
       "         197,   162,  1213, 12701,   449,  1811,   281,  1530,  3309,\n",
       "         578, 13057,   264,   655,  1784,   583,  4591,  1481,  2249,\n",
       "        3527,   325,  7103,  1586,   409,  1602,  1643,   401,   831,\n",
       "        2992,  4652,  1298,  1140,   856,   980, 10965,  3227,   821,\n",
       "        1033,  2148,   911,  4427,   432,   711,   860,   225,   909,\n",
       "        2519,  2183,  1184,   445,  5153,   372,   213,   525,   210,\n",
       "         353,   671,   472,   283,  1632, 11611,   506,   378,   514,\n",
       "         272,   730,   609,   759,   304,   188,   211,   403,  1065,\n",
       "        2464,  1694,   398,   969,   482,  4389,   576,   192,   232,\n",
       "         227,  1242,   176,  1243,   147,  1170,  1115,  2022,  1370,\n",
       "         559,   235, 24919,  1774,   698,   728,   259,  3167,   775,\n",
       "         171,  1372,  1014,   217,   795,   656,   362,  1282])"
      ]
     },
     "execution_count": 15,
     "metadata": {},
     "output_type": "execute_result"
    }
   ],
   "source": [
    "laptop_df_cleaned['No_Of_Reviews'].unique()"
   ]
  },
  {
   "cell_type": "code",
   "execution_count": 16,
   "id": "49f5694c-84d5-4ada-82e5-46f08f0f0d4e",
   "metadata": {},
   "outputs": [
    {
     "data": {
      "text/plain": [
       "(4196, 21)"
      ]
     },
     "execution_count": 16,
     "metadata": {},
     "output_type": "execute_result"
    }
   ],
   "source": [
    "laptop_df_cleaned.shape"
   ]
  },
  {
   "cell_type": "code",
   "execution_count": 18,
   "id": "586316f9-93fb-4406-9645-e70015b9a602",
   "metadata": {},
   "outputs": [
    {
     "data": {
      "text/plain": [
       "Index(['Brand', 'Laptop_Model_Name', 'Laptop_Model_Number', 'Processor_Brand',\n",
       "       'Processor_Model', 'Storage_Type', 'Operating_System',\n",
       "       'Display_Resolution', 'Extracted_Rating', 'Battery_Life(Hours_Upto)',\n",
       "       'Price', 'Stock', 'Time_Of_Extraction', 'URL', 'Source',\n",
       "       'Storage_Capacity(GB)', 'Display_Size(Inches)', 'RAM(GB)',\n",
       "       'No_Of_Reviews', 'Laptop_Dimensions', 'Laptop_Weight(Pounds)'],\n",
       "      dtype='object')"
      ]
     },
     "execution_count": 18,
     "metadata": {},
     "output_type": "execute_result"
    }
   ],
   "source": [
    "laptop_df_cleaned.columns"
   ]
  },
  {
   "cell_type": "code",
   "execution_count": 21,
   "id": "8d9a8f6c-760a-4a37-b786-cf2326f50d3c",
   "metadata": {},
   "outputs": [
    {
     "data": {
      "text/plain": [
       "2465"
      ]
     },
     "execution_count": 21,
     "metadata": {},
     "output_type": "execute_result"
    }
   ],
   "source": [
    "len(laptop_df_cleaned['Laptop_Model_Name'].unique())"
   ]
  },
  {
   "cell_type": "code",
   "execution_count": 23,
   "id": "0c32bcb7-1f25-4d15-8c97-1871790c2df3",
   "metadata": {},
   "outputs": [
    {
     "data": {
      "text/plain": [
       "2562"
      ]
     },
     "execution_count": 23,
     "metadata": {},
     "output_type": "execute_result"
    }
   ],
   "source": [
    "len(laptop_df_cleaned['Laptop_Model_Number'].unique())"
   ]
  },
  {
   "cell_type": "code",
   "execution_count": 29,
   "id": "9bae7811-e52d-4488-a60f-1657e5a5c92d",
   "metadata": {},
   "outputs": [
    {
     "data": {
      "text/plain": [
       "array([nan, '17t-cn3004208', 'Mvvm2ll/a', ..., '630 G10', 'GU605MY-XS96',\n",
       "       '82KN0001US'], dtype=object)"
      ]
     },
     "execution_count": 29,
     "metadata": {},
     "output_type": "execute_result"
    }
   ],
   "source": [
    "laptop_df_cleaned['Laptop_Model_Number'].unique()"
   ]
  },
  {
   "cell_type": "code",
   "execution_count": 33,
   "id": "897435f6-1d95-4f03-825a-97a9c5ba867b",
   "metadata": {},
   "outputs": [
    {
     "name": "stdout",
     "output_type": "stream",
     "text": [
      "[nan, '17t-cn3004208', 'Mvvm2ll/a', 'TPN-Q279', '14-fq1003cl', 'Lenovo ThinkPad P15v Gen 3', 'Dell Inspiron Laptop', 'Newest HP 14 Inch Laptop', 'Business Laptop', 'Dell Inspiron 15', 'Slim', 'VocBook 15 Pro', 'Latitude 5410 Laptop', 'IdeaPad Premium Series', 'Latitude 5590', 'CB315-3HT', 'NX.KQ2AA.001', '15-1i82QD', '16 G7', 'HP Envy', 'HP Stream', 'Cyborg 15 A12VF', '6J176UT#ABA', 'TPN-I139_767L0AV', 'MLY33LL/A', 'MRXV3LL/A', 'NX.KJBAA.001', 'MRYU3LL/A', '14-dq0040nr', 'G614JV-AS74', 'HP', '255', 'Newest Flagship Lenovo Chromebook', 'TPN-I139', 'MTL73LL/A', 'AG15-31P-3947', 'Dell Laptop', 'TPN-I139_320M3AV', 'ANV15-51-73B9', 'IdeaPad 1 15IJL7', 'TPN-Q222', 'MGND3LL/A', 'MQD32LL/A', 'TPN-Q221', 'NH.QP0AA.001', 'HP 14\" Laptop', 'IdeaPad 3', 'ANV15-51-51H9', '81H00000US', '14a-na0226nr', '82N4003CUS', 'MNWC3LL/A', 'MGX72LL/A', 'MacBook Pro 16\" - MVVL2LL/A', 'Lenovo V15 G2 ALC', '3511', 'TPN-Q278_599J4AV', 'TPN-Q222_7PT**AV', 'MJVM2LL/A', '15.6', 'ASUS 15.5 Laptop', 'TPN-Q287', 'hp laptop', 'AX15', 'HP Stream N4120', '15-fd0081wm', 'MPHJ3LL/A', 'G2', 'KATANAA17B8879', '21HM Configured by Lenovo', 'HP 15', '14-dq0760dx', '0001tg', 'HP Flagship', 'CX1400FKA-AS88F', 'MUHP2LL/A', 'V15', 'Pavilion 15', 'MGN73LL/A', '21KC000MUS', 'Essiential', '15-dy5131wm', 'FA506NF-ES51', '83DE001SUS', 'ThinkPad E14 Gen 5', 'DuetBook', 'MVFH2LL/A', '5Z8N', 'E410MA-212.BNCR-11', 'THIN15122023', 'G10', '17-cn2083dx', 'CX1400CKA-AS44F', 'Chromebook 3100', '82R400EMUS', 'KATANA15132000', 'ZGJ-00001', 'G614JIR-AS94', 'AMD Ryzen™ 5 7520U', '15', 'Lenovo IdeaPad Flex 5i', 'Acer 15\" Laptop', 'TPN-Q245', 'MWP42LL/A', 'TPN-Q284_632**AV', 'MPXQ2LL/A', 'EZbook S7Max', 'Lenovo V15 G2 IJL', 'Latitude 7490', 'Myda2ll/a', 'G814JIR-XS96', '5550', 'Lenovo IdeaPad', 'Naclud-S15', 'MGN63LL/A', 'MWTJ2LL/A', '3540', 'PHN16-71-76H5', 'A18JKUA#ABA', 'Dell 11.5 Chromebook', 'Premium', 'MJVE2LL/A', 'E16', 'RZ09-05102EN4-R3U1', 'G9', 'G834JZR-XS96', 'FX607JV-ES73', 'MSI GF63 thin', 'MQKW3LLA', \"HP 11.5' Chromebook\", '3190', 'Dell Latitude 7420', '3180 chromebook', 'TPN-I139_4V788AV', 'Lenovo V15 G4 ABP', 'MVVJ2LL/A CR', 'HP Chromebook', 'Laptop', '822P5UT#ABA', '16W64UT#ABA-CR', '21JT', 'MacBook Pro 13\" - MR9Q2LL/A', 'M17S', 'SFG14-71T-72QV', '83EL0048US', 'i3511-3481BLK-PUS', '15-dy2095wm', 'A2941', 'MPXV2LL/A', 'X360 11 G2', 'MRX33LL/A', 'AX16PRO', 'Latitude 14-5480SA9104', 'G3', '14-es0033dx', 'MTL1732N', 'HP G5', 'TUF Gaming A16', 'Chromebook 15', 'MREE2LL/A', 'Inspiron 15 3520', 'NP964XGK-KG1US', '5490', 'MK193LL/A', 'T14', 'Surface Laptop 3', 'Chromebook 11 G6 Ee', 'NX.AA5AA.004', '14a', 'L210KA-ES04', '11 7490', 'ThinkBook 15 Gen 4', 'A18XBUA#ABA', '20XS001XUS', 'MQD42LL/A-CR', 'Yoga 7i', 'Nimo N152', 'Samsung Chromebook Plus v2', 'Nimo', 'Z1J00001', '81CY002MUK', '660 G11', 'THIN15122041', '21K9001NUS', 'MacBook Pro Late 2023 K', 'Newest Lenovo Slim 3 Chromebook', 'ThinkPad Yoga 11e 4th Gen 2-in-1 Laptop', 'XE520QAB-K03US', 'XK1-00059', '83DL', 'MR942LL/A-cr', 'Aspire', 'V14 Laptop', 'FX507VI-F15.I74070', 'Dell latitude 5420 Laptop', 'Ultra 7 155U, WUXGA Non-Touch', 'ThinkBook 15 G3 ACL', 'FBA-MACBOOKPRO2017i72017-r', 'Latitude E5580', '21KC0046US', '82QD00DHUS', 'Lenovo IdeaPad 1 Laptop', 'MKGP3LL/A', '5400', 'Naclud-M17', 'Naclud-M15-N', 'ProBook 450 G10', 'CB514-4HT-375Z', '2795', 'UX5304MA-XS76', 'DELL XPS 15 9530', 'ThinkPad T14', '83AC001AUS', 'Elitebook 840 G3', 'ThinkPad E16', '21HM', 'G3IAP', '21JN0073US', 'i5 12th Gen 15-dy5399nr', 'IdeaPad Flex 5i', 'T480s', 'CBG516-1H-53TD', 'MGXC2LL/A', 'Strix G17', 'AX17', '83DG00BDUS', '650 G10', 'NH.QFJAA.004', '2024 HP 17 Pavilion Laptop', 'MVVK2LL/A', 'NJP1561P', 'A6TB2UT#ABA', 'Essential 17', 'Xe310Xba', 'S15 N2 512GB', 'TPN-Q279_598U1AV', 'ASUS Chromebook Plus CX34', 'NX.GUKAA.001-cr', 'Elite', '16Z90SP-A.ADB9U1', '82V6S00000', 'HP Stream 14', 'KATANA15131264', '17Z90SP-G.ADB9U1', '82WS003UUS', 'Lenovo V15 G3IAP', 'MNEH3LL/A', 'ThinkPad T16 Gen 2', 'Lenovo V15-IKB', 'G8', '5420', 'Microsoft Surface Laptop 5', 'ThinkPad E16 Gen 1', 'XE350XBA-K02US', 'ProBook 445 G9', 'ThinkPad P15v Gen 3', 'EliteBook 845 G8', 'NX.KH7AA.002', 'Lenovo Flex 5i', 'Thinkpad T490', 'THINGF6312484', 'NIMO R5', 'HP 830 G7', 'C731-C8VE', 'NX.AZ0AA.001', 'NY-01', '16T90SP-K.ADB9U1', 'RBH-00026', 'MR9Q2LL/A', 'Pavilion', 'ANL5-N4000', 'G713PV-DS94', 'MiniBook X(N100)', '14a-na0031wm', 'CreatorM1614291', 'VenBook', 'LTDE5510i7G1032512-11', 'N23 Yoga Chromebook', 'CB315-5H-C7KX', 'Latitude 5520 Laptop', 'ThinkPad X1 Carbon Gen 12', 'CP311-2H-C679', 'Z1AU00299', 'TPN-Q234', 'A13VE-218US', 'Latitude E7470', 'Dell Latitude 5490', 'Lenovo ThinkBook 15', 'Yoga 7i 14', 'Notebook', 'Latitude 5400', 'FA607PV-AS93', 'Q420V', '9P714UA', 'HP Envy x360', '15.6 FHD', '7390', 'RBH-00001', 'Naclud-M15PRO', 'HP OMEN 16', 'Yoga 11e', 'PRE16EVO14020', 'M1605YA-ES74', '17-cn', 'lenovo yoga', 'RIQ-00001', 'V15 G3', 'Newest Acer X360 Chromebook Spin', 'MF841LL/A', 'RZ09-05092EK4-R3U1', 'MMGG2LL/A', 'M1502I', 'MPHE3LL/A', 'AMD', 'APP-FF840LL/A-RB#CR', 'MK1A3LL/A', 'TPN-C164', 'Precision 7670', 'RL1-00001', 'NB-AP-MACBOOK_PRO_15__MGXG2LLA-NB-i7-2.8', 'N4000 8+256', 'XE530QDA-KA1US', 'Dell 11.6inch Chromebook', '14-eu', '2023', 'Herobook Pro', 'Acer Chromebook', '9P989UA#ABA', 'RAIDERGE7814205', 'CF53RL1A', 'ZenBook 14X', 'ThinkBook 15 Gen 3 ARE', 'F1605Z', 'FA707XU-MS94', 'G7630-9926GRY-PUS', 'Acer Aspire 3', 'V15 G4', 'EEB-00001', '7X9D2UTABA', '21M7003KXDS', 'TPN-C160', 'ANV15-41-R5N6', 'AX16', 'HP 17', 'ExceBook', 'F1704ZA', '1FX82UTABA-Gray-B-cr', '2024 Flagship HP 17 Laptop', '83DE005CUS', 'TPN-I139_767K9AV', 'RAIDERGE7814600', 'Touch LeadBook T9', '9P9X3UA#ABA', 'HP ProBook x360', '3520', '83DE000AUS', '15-ey0013dx', '21D-00001', 'Inspiron 15 3520 Laptop', 'Inspiron', 'C423NA HD', 'ThinkPad T14 Gen4', '16 G6', '5430', 'ThinkBook 15 G4 ABA', 'A14RWUT#ABA', 'NX.KMKAA.002', 'NX.KUTAA.001', 'Latitude 5420 Rugged', '1i', 'RAIDERGE6814286', 'Z1AF001AF', 'G4', 'M5406WA-DS76', '3Y058UA-0', '82SX0002US', 'AN17-41-R7G3', 'HaloBook', 'Latitude 7400 2-in-1', 'Z1AF0019Y', 'TPN-I140_799**AV', 'ELITEBOOK X360 1040 G6', 'P8', '2023 Flagship Acer Spin Chromebook', 'RAIDER18HX14255', 'FA607PI-AS94', 'EZbook', 'AceBook_Silver', 'ThinkPad E15 Gen 4', 'AWM17R5-A886BLK-PUS', 'IdeaPad 1 15IAU7', 'LAITMIN', '17', '660N1UA#ABA', 'Dell Inspiron 3520', '11 N7 C731', 'FZ-55 MK1', 'MD711LL/A', 'HP Victus', 'A515-57-55BX', 'i7-155H', 'LOQ', 'FA617_280W', 'TPN-C159', '8PV-00001', 'MQKU3LL/A', 'MWP52LL/A', '14-dq5009nR', '840 G6', 'Samsung 11.5\" Chromebook', 'NX.AASAA.005', 'NP750XQA-KB2US', 'Lenovo ThinkPad T16 Gen 2', 'YEPBOOK', '17-cp3055cl', 'UM3504D', '82RK0017US', 'XPS 13 9315', 'XE310XBA-K01US', 'MVH22LL/A', 'F1502Z', '89D90UTABA', 'TPN-C147', 'NP754XFG-KB1US', 'HSN-Q24C', 'RaiderGE76871', 'Spectre 14T x360', 'Lenovo 15\" Laptop', 'F1505Z', 'Z1I-00001', 'CP311-2H-C7QD', 'NX.K3YAA.001', '21KV001DUS', 'AORUS 17H BXF-74US554SH', '83DX00B2US', 'Latitude 7210 2-in-1', 'Lenovo V15 G4 IRU', '21L5CT', 'Alienware m16 R2', 'IdeaPad 3 14ITL05', 'AWm16', '17Z90R-K.AAB8U1', 'MSI', 'ProBook 460 G11', 'STEALTH16A1036', '16-ac', 'CYBORG1512276', 'Lenovo ThinkPad T14s', 'Lenovo', 'latitude', 'Surface Pro 9', '20WN', '2024 Essentia HP 17 Laptop', 'UX6404VI-DS96T', 'A515', 'IdeaPad 1 14IGL7', '894F1UTABA', '83DS003EUS', 'Z1AF001AG', 'Legion Slim 5', 'Latitude 5511', '14a-ca0030wm', '82FE00UGUS', '21JN', 'ThinkPad L14 Gen 3', 'LeadBook T11', 'HP-15.6-RP', '7490', 'MJLQ2LL/A', '14-ep0792wm', '21FV001UUS', 'C424MA-AS48F', '17Z95P-K.AAB8U1', '2024 Newest HP 14\" Chromebook', 'B13VEK-277US', '5540', '5530', 'GX650PY-XS97', '1', 'Ideapad 1i', '83JC007KUS', 'Zenbook 15 Q530', 'Precision 7550 Laptop', 'Latitude 3380', 'NIABook NY-03', 'MSI Raider GE76', 'HP 14in', 'MV962LL/A', 'F512JA-AS34', '82WK006AUS', 'AW16R2-9503SLV-PUS', 'TP3402Z', '21HH001JUS', '82SB0001US', '15-dy2024nr', 'KATANA1713835', 'MWP72LL/A', 'KGAX15', 'Naclud-X15', 'TPN-W155_', 'Lenovo Yoga 11 Laptop', 'LOQ 15IRX9', 'Lenovo ThinkPad T590', 'DECHB252066SA', 'Lenovo ThinkPad L13 Yoga Gen 2', 'Ryzen 3 5300U', 'Asus TUF F15 Gaming', '3190 2in1', 'Latitude 7350 Laptop', 'Dell Inspiron 15 3525 Laptop', 'Thinkpad T470S', 'ROG Ally', '3i', 'ThinkBook 16 G4+ IAP', '7Z1B6UT#ABA', 'F1704VAP-AS74', 'Lenovo V14 Gen 4', 'NH.QJQAA.002', 'Inspiron 3000', 'ThinkPad P14s Gen 2', '7680', '14m-dw1023dx', '2024 Newest ASUS Vivobook 14', 'HP 15 Touchscreen Laptop', '3540 7YN', 'ThinkPad X1 Extreme Gen 4', 'Dell', 'T90 N100', 'NY-02', 'Asus Rog Strix G16 Gaming', 'TPN-W150', '82WK', 'Lenovo IdeaPad Slim 1', '17Z90S-H.AAB6U1', '14-eh1299nr', '16 G10', '655 G10', '5590', 'Aspire 5 - 13420H', '83DE', '9U1-00001', 'Dell XPS 15', '15-ef2030tg', '155H', 'Elitebook 8470p', 'FA507NU-DS74', 'CX5501FEA-AS562T', 'Lenovo Legion Pro 5i Gen 9 Gaming', '9C4H0UT#ABA', 'Dell Latitude 5414', 'Newest Acer 15 Inch Chromebook', 'D10816', 'ProBook X360 11 G4', 'K6604JI-AS99', 'B07', 'LG Gram Laptop', 'ZenBook 14 OLED', 'IdeaPad Slim 3 Chromebook', '1030 G2', 'MTL', 'Inspiron 15', 'Legion 5 16IRX9', '15Z90ST-G.ADB9U1', 'Raider GE78 HX 14VIG-600US', '21E6007GUS-6341-28706', '21HD002BUS', '21MW0001US', '2024 ASUS Vivobook Go 14', 'L510MA-AS02', 'CRTMS5EI00019RB', 'GA401IV-BR9N6', 'NB-AP-MACBOOK_AIR_11__MD711LLB-NB-i5-1.4', '21K9001MKIS', 'Lenovo Legion 5i', 'AN515-55-53E5', '17t-cw100', 'i3530-7681SLV-PCA', '5UI-00001', '35D07UT#ABA', 'FX517ZM-AS73', 'Lenovo Flagship', 'NB-AP-MACBOOK_PRO_13__MF843LLA-NB-i7-3.1', 'Dell-5500', '840 G7', '15-DY5033DX', 'HL-K701', 'UX582ZM-AS76T', '9530', 'SGIN-X15', 'A25 Series', 'HP Essential', '14b-ca0010nr', 'IdeaPad 3 15ITL6', '8L755AV', 'Inspiron 3535', 'Dell Latitude 5520', 'Dell Latitude', '7PA01UA', 'ASUS ROG', 'A315', 'ASUS ROG Strix G16', 'EliteBook 830 G7', '83G0001LUS', '860 G10', '15-FA1657NR', 'K120', 'VEF-00022', 'DQ160', 'Ultrabook', '840 G3', 'Lenovo T480', '14T90S-G.AAB4U1', 'MacBook Air', 'T00411-Alienware M18', 'i3511', 'Y13 Pro', '68W07UA#ABA', 'NX', '004AUS', 'Inspiron 14 7440 2 in 1', '81SQ000BUS', '82KT00GVUS', '7P3B4UT#ABA', 'Samsung Galaxy Book4', 'MacBook Pro 15\" - MV912LL/A', '713', 'XPS 9315 2-in-1', 'ENVY 2-in-1', '687P0UT#ABA', 'TPN-C152', '15-eu1026nr', 'TPN-C169', 'FX506LH-AS51', '15-eg0025nr', 'F1605ZA-WS74', 'HP 17.3', 'MD760LL/B-R-C', '9640', '81ER0002US', 'EliteBook 840 G10', 'T156A', '14a-na0020nr', 'TITAN18HX14036', 'HP OMEN Gaming Laptop', 'N156MU3-AN', 'Q533M', 'Legion 5 Pro 16ARH7', 'S5507QAD-PS99', 'CX1500CNA', 'Lenovo ThinkPad X1 Yoga (3rd Gen) Laptop', 'MXK52LLA', 'Thinkpad T480s Lenovo Laptop', '665 G11', '7420', 'FA401WV-EB97', '81ma000tus', 'Galaxy Book2 Pro 360', 'VocBook 15', '21KX', 'M1605YA-EH54', 'MSI Katana', 'T14 Gen 1', 'E14', 'HP Pavilion x360', 'FA617NT-A16.R77700', 'i3 12th Gen 15-dy5599nr', '21N10000US', 'Latitude 7390 2-in-1', 'T470', '7440', 'Z1AF001AN', 'HP Newest Flagship LAPTOP', '82YN0001US', 'Inspiron 16xxx036', 'N5095', 'ThinkPad X1 Titanium Yoga 13.5', '16-AC0033DX-CTO', 'MV902LL/A', 'AWM18-A145BLK-PUS', 'IdeaPad Slim 3', 'C433TA-AS384T', '7F5R', '5450', 'E410K', 'Yoga', 'CHUWI FreeBook', '5300', 'MWP72LL/A?-BTO-I7-2.3GHZ-32GB-1TB-SSD-SG', 'NH.QQTAA.001', 'Inspiron 7640 2 in 1', 'Mvvl2ll/a', 'G16 7630 16', 'Lenovo Legion 5 Pro 16ACH6H', 'LAT15-5590SA8717', 'Envy 17t', 'RAIDERGE6814247', 'CR0037WM', '83C80', 'HP 15.6 Laptop', 'UM3402YA-WS74T', 'HP Spectre 16T', '21JT001PUS', '840 G1', 'ASUS Chromebook', 'ExpertBook B2 Flip', 'Alienware x17 R2', '83FD04896R', '3520I512T', 'GA403UV-G14.R94060-HID1', 'Alienware X15 R1 Laptop', 'i3530-5067BLK-PUS', '0081', '21KH000AUS', 'A1LH5UT#ABA', '3189', 'Newest Lenovo 14\" HD Laptop', 'ABY-00001', 'A39JBPA#UUF', '156TT2', 'MREA2LL/A', '300e', 'x360 1040 G7', 'TPN-Q278', 'MLH32LL/A-cr', 'Thinkpad P15v', 'H7604JI-DS96T', '82WM0006US', 'P15', 'CF-532-cr', 'CR0000', 'PHN16-72-99SEXD', '3510', 'Lenovo Chromebook', 'ASUS Vivobook', '14 G4', '15ITL6', 'NH.QFMAA.003', '16Z90R-K.AAS8U1', '14Z90S-G.ADB8U1', '20SUS5W600-2971-233286', '15-fa0031dx', 'Dell Inspiron 15 3000 3520', 'DT-RMM8-6UED', 'THR-00001', 'N95', 'Alienware m18 R2 Laptop', 'MKGQ3LL/A', 'Lenovo Legion Pro 7i Laptop', 'Intel Core i7-1255U', '81ES0007US', 'ZBook Firefly G11', 'FA706IH-RS53', 'Mr932ll/a', '745G6', 'i5630-7862SLV-PUS', 'TPN-C151', 'K160', '21MW', 'Rugged Latitude 5414', 'acer Predator Helios Neo', 'S533EA-DH51-WH', '0195908698098', 'RZ09-05081ED3-R3U1', '21BYS03Y', 'NP762XDA-XA3US', 'ThinkBook 15', 'R2YP0', '15-fb2082wm', 'Latitude 14 Rugged Extreme (5414)', 'IdeaPad Slim 5i', 'Gram 17', 'TPN-I140', 'Dell Precision 5680', 'HP ENVY 16', 'IdeaPad 15sIIL', 'HP29', 'NX.ABRAA.007', 'MacBook Pro 2023', '21HH', '21AH', '17-cn0026nr', 'Lenovo Slim 3', '21G2', 'MSI Pulse GL66', 'n4100', 'W5S-00001', '8PV-00017', 'Legion 5', 'cdnbd-620', 'CPCT0', '911PLUS', 'XPS 9700 Laptop', 'HL-K710', 'CF-31 MK5', '51427', '6Z9U4UA#ABA', 'A90B+PRO', 'Acer Aspire 3 Laptop', '2024 Lenovo IdeaPad', '4RU73UP#ABA', '613P8UT#ABA', '13700H', 'Newest Acer Aspire 1 15 Inch', 'Lenovo V14 G3', 'MKGR3LL/A', 'G6ABP', '4A169UC#ABA-cr', 'Dell XPS 13 9340', 'V14', 'K6502ZC-DB74', 'UM3504DA-AS54', 'Dell Latitude 5300', 'ThinkPad P16s Gen 2 AMD Laptop', '4355', 'R564JA-UH51T', '15 5570', 'Lenovo Legion Slim 5', '15-FD', 'ThinkPad P14s', 'A1Y-00001', '14', '3550', 'NC15N', 'PHN16-71-7KXOD', 'i352', '5620', '7H3N7UA#ABA', 'MVH52LL/A', 'HP 14', 'FBA-DELLLATITUDE7390i7-R', 'Z1AF001AM', 'RIQ-00024', 'G5535-A643GRY-PUS', '21FA002BUS', 'Lenovo ThinkPad X1 Yoga Gen 6', 'ASUS ROG Zephyrus G16', 'Insprion 16 Plus 7630', '82QS0000US', '15-fd0999nr', '82VG00BJUS', 'I7348_i7T825SW8s_3', 'N116a', 'GU60', 'LeadBook T6', 'SGIN-M15PRO', '5IW-00008', 'S0052', 'L203MA-DS04', '82W20003US', 'Q415', 'ASUS TUF Dash F15', 'L210MA-DB01', '82RK00BDUS', '82HU00JWUS', 'Lenovo Legion Pro 7i Gaming', 'ZLQ-00001', '5440', '2024 Flagship ASUS Chromebook', 'X360', 'BR1102FGA-YS14T', 'CP311-3H-K5WQ', 'ThinkPad X1 Carbon 7th Gen', 'MSI Pulse 15 Gaming Laptop', 'Latitude 5300 2-in-1', '17T-D', 'G634JYR-XS97', 'MX16', 'Dell Inspiron 7440', 'HP 138TL', '21MA0035', 'RBG-00026', 'ZRG00001', 'Dell 6540', 'NX.KT3AA.002', '14Z90RS-K.AAW7U1', 'FUN01-05', '878J0UTABA', 'i5635-A005SLV-PUS', 'ASUS ROG Strix G16 G614JV-AS73', 'MV972LL/A', 'T00383-Asus Rog Strix G18 Gaming', '2024 Newest 15 Inch HP Laptop', 'L410MA-AH02', 'Mvvj2ll/a', 'MUHN2LL/A', 'IdeaPad Duet 5 Chromebook', '15Z90S-H.AAB5U1', 'NX.A1HAA.00D', '173cp0012nr', '14a-n', 'NX.AYCAA.006', 'standard-laptop-computers', 'Lenovo ThinkPad T470', '7455', '8QF-00023', '21MA003LXDW', 'CM1402CM2A-M8186', 'GF63', 'C15', 'FZ-55 MK2', 'Lenovo IdeaPad Slim 1-14AST-05', '2023 Flagship 14 Inch Lenovo IdeaPad', '21HQ', '82XQ001GUS', 'Lenovo Legion Slim 5 Gen 9', 'Lenovo Slim 7 ProX 14ARH7', '16-AC000', 'X515E', '16T90R-K.ADB9U1', 'HP ProBook x360 11E G1', 'R841T-S4ZG', 'NP930XED-KA2US', 'A515-46', 'AN515-54-5812', '1JD30UT#ABA', 'NX.A84AA.005', '17t', 'Latitude Rugged 5420 Laptop', 'UX8402VV-PS96T', '15-fb1013dx', 'STEALTH16A1028', '8F825UTABA', '3100', 'DH01', 'GWNR', '9MV84UA#ABA', 'Chromebook 11 G4', '20W00091US', 'IdeaPad 5 2-in-1 14AHP9', 'MSI Cyborg Gaming Laptop', '15M-ED0013DX', '7340', 'HP Vistus 16', 'GV601VI-CS94-HID2', 'HP-840G6', 'CXB170CK', 'Lenovo 15', 'i5-3320M', 'Katana 15 B13VFK-1264US', '7280', '15t', '5500', 'FUN01-10', 'Lenovo V15 G3 ABA', '81X700FUUS', 'T16', 'HP Pavilion 2-in-1', '82R9', 'A315R7', '1551087341', 'ASUS Vivobook 16X', 'UM535QE-XH91T', 'ThinkBook 16 G6 IRL 5', 'A325-42', 'X1504ZA-NJ321WS', 'A324-51', '15IAH8', 'E1504FA-LK323WS', 'V15 G3 IAP', 'PB S Wifi', 'X1504ZA-NJ521WS|X1504ZA-NJ520WS|X1504ZA-NJ528WS', '15ACL6 | 15ALC7 2', 'E1504FA-NJ521WS', '15ALC7', 'NP750XGJ-LG4IN', 'X1504ZA-NJ527WS|X1504ZA-NJ522WS', '15s-fq5330TU|15-fd0111TU', 'FX706HF-NY040W', 'A324-45', 'NP750XGJ-KG1IN / NP750XGJ-LG1IN', '15s-fy5003TU', 'MLY33HN/A', 'New Inspiron 15 Laptop | Inspiron 3520', 'CB314-3H-C5QE/ CB314-3H-COBZ', 'S3402ZA-KM501WS', 'S3402ZA-LY522WS', 'A324-53', 'AL15-41', 'Z8-415', 'A715-76G-52H4/ A715-76G', 'CX1400CKA-NK0453', '14IGL7', '15IAU7', 'CX1500CKA-NJ0395', 'NP930XED-KB3IN', 'Modern 15 B7M-072IN', '14IRH8', 'AL15-52', 'ANV15-41', 'E1504FA-NJ322WS', 'ZEB-NBC 4S', 'MLY13HN/A', '15s-fq5327TU', '14IAH8', 'CoreBook X Grey', 'A325-45', 'MLXW3HN/A', 'FA566NCR-HN075W', 'FA566NFR-HN259W', 'Thin A15 B7UCX-068IN', 'E1504FA-LK521WS', 'New Inspiron 15 Laptop', '15-eg3079TU', '15-fc0028AU', 'Modern 15 B12MO-817IN', '0IN352010031RINB1M', 'SFG14-41', '15s-eq2305AU', 'AO 14 Z 8-415', 'XK1-00045', '255 G8', 'RC71L-NH001W', 'Thin 15 B12UC-1692IN', '14-dv2014TU', '15IAX9', 'Modern 15 B12MO-613IN', 'Cyborg 15 AI A1VFK-049IN', '15-fa1226TX', '15s-fq5112TU', 'Vostro 3520', 'S5504VA-MA541WS', 'Modern 14 C12MO-444IN/ Modern 14 C12MO 1248IN', 'YL613', 'LOQ 15IAX9D1', '14IAU7', '16-af0056TU', '15s- eq2182AU', '15IRX9', '15-fd0315TU', '15AMN8', 'A715-76G-548J', 'SFG14-73T', '14IRU8', 'SFG14-71-58UB', 'ANV15-51- 55B9', 'Modern 14 C7M-063IN', '15IRH8', '14IMH9', 'G15-5530', 'X1502ZA-EJ953WS', 'XL434', 'E1404FA-NK321WS', 'A324-31', '14a-ca0506TU', '82XD003MIN', 'Modern 14 C13M-437IN', 'XL30', 'MLY03HN/A', 'Katana A15 AI B8VE-418IN', 'Modern 15 B12MO', 'X1504VA-NJ522WS', 'Crosshair 16 HX D14VGKG-205IN', 'K3504VAB-NJ541WS', '250 G9', '16IRL8', 'Modern 14 C12M-439IN / Modern 14 C12MO-1020IN', '15s-fq5007TU', '11MK G9 EE', '240 G9', 'B1502CBA-NJ1090WS', '14IRL8', '15-fd0186TU', 'NU14U4INC43BN-SG', 'X1605ZAC-MB742WS', '15s- eq2144au', 'FX506HF-HN075W', '15AMN7', 'ZEB-NBC 5S', '15s-fq5331TU', 'PHN16-71-78R1', 'A315-59', 'NU14U3INF56BN-SG', 'A715-79G', '11Q727', 'FA566NCR-HN054WS', 'FA566NFR-HN260W', 'K3605ZU-RP304WS', '16-wd0880TX', 'G614JU-N3200WS', '245 G9', '14IML9', 'FX577ZC-HN192WS', 'Modern 15 B13M-289IN', 'TP E14 Gen 5', '3440', 'Modern 14 H D13MG-072IN', 'GL613 with Accessories Box', 'MRXQ3HN/A', 'K3605ZC-MBN543WS', 'Modern 14 C12M-671IN / Modern 14 C12MO-1019IN', 'XS 22-HD55016512B-G-IND', '15-eh1137AU', 'Thin 15 B13UCX-1806IN', '14-dv2053TU', '14s-dq5138tu', '3530', '82KU024GIN', '8Y2Y9PA', 'E510MA-EJ021WS', 'UX5406SA-PZ358WS', '14IRH9', 'HeroBook Plus', 'X1404VA-NK322WS', 'XL29', '15-fd0111TU', '15-fa1382TX', '255 G9', 'A3SP14-31PT-3554', 'NP960QGK-KG1IN / NP960QGK-LG1IN', 'TMP215-53', '83EM0023IN', '15-fa0444TX / 15-fa0333TX', 'NU14A1', '14AHP9', '15s-ey1509AU', 'S5504VA-MA953WS', 'TMP214-53', 'Katana 15 B13VEK-297IN', '14s-dq3037tu', 'G614JV-N4141WS', '15-fc0030AU', '13ABR8', 'X1504VA-NJ540WS', '14ABR8', 'IN-N15I', '15-fe0027TU', 'G4 82YTA00XIN', 'X1605ZAC-MB540WS', '16-xd0015AX', 'FA617NSR-RL083W', 'CloudPro002', '15-fb0133AX', 'Modern 14 C12MO', 'FreeBook', 'PHN16-71-59XW/ PHN16-71-553K/ PHN 16-71', '16IAH8', '14-ek1074TU', 'A10204900072', '16IMH9', 'E1404FA-NK523WS', '3420', 'NU14U3INC43BN-MB', '7M657PA', 'SFG14-73-71BY', 'XL21', '15-fd0013TU', 'XL422', 'UX3405MA-PZ552WS', '82K2028QIN', 'NP750QGK-KG2IN / NP750QGK-LG2IN', 'CB314-1H', 'IN54308TR2G001ORS1', 'MRXV3HN/A', 'FA401WV-RG037WS', '14-ew0116TU', 'CX1400FKA-EC0168', '15-fb0106AX', '14-ef2034TU', '14b-cd0014TU', 'V15 G2 ALC', 'VOS 3480', 'Inspiron 3511', '14-fc0106TU', 'Commercial 14 H A13MG vPro-065IN', 'X1502ZA-EJ381WS', 'ANV15-51', 'fq3071TU', 'V-15 ADA', '16 wf1096TX', '6E3Z0PA', 'FX506HF-HN077WS', '14IGL05', '15s-fq5190tu', 'ZL514', 'P15 23-HF76B16512E-G-IND', 'KM513UA-L512WS', 'X1504ZA-NJ541WS', 'Thin GF63 12VE-267IN', 'G614JJ-N3088WS', 'XL23', '15-fd0220TU', 'X1502ZA-EJ545WS', '16IRX9', '14s-fq1030AU', 'WL-Nuvobook V1-BLU', 'IN5430YXVW9M01ORS1', 'IN5630P8YRR001ORS1', 'S5507QA-MA551WS', 'M413IA-EK584T', '15IGL05', 'CX1101CMA_ID-GJ0004 / GJ0003', 'MRXN3HN/A', 'E510KA-EJ011WS', 'Aspire Lite AL15-51', 'GL613', 'ANV16-41', '9370', 'MRXW3HN/A', '15s- fq3066TU', 'Inspiron 3520 / D560871WIN9B', 'PROBOOK RYZEN 7 5800U', '14-fc0078TU', 'IN5430NH6KJM01ORS1', 'C423NA-BZ0522', '14ALC7', 'New Inspiron', '14-eu0556TU', 'NU14U3INT54BN-SG', 'A315-24P', 'E1504FAB-LK549WS', '14AMN8', 'S5506MA-MA751WS', 'GZ301VIC-MU004WS', '15-fb2114AX', '8APU1', 'X1504VA-NJ320WS', 'Gaming', 'A315-59-36HE', 'X412FA-EK513T', 'Katana 17 B13VGK-1230IN', 'X1505VAU-LK543WS', '15s-FQ2535TU', 'NS14A6INV561-SGC', 'MXCV3HN/A', 'Vostro 3430', 'Inspiron 3535 Laptop', 'HN7306WU-LX001WS', '16-wd0011tx', 'P15 23-HE55D16512A-B-SA', 'Thin GF63 12VF-663IN', '13-bf0121TU', '15s-fq3073TU', 'PHN16-72-77GZ', 'E210MA-GJ011T', '247 G8', 'EX 215-54/ EX 215-54-356V', '14s-fq1092au', 'MLXX3HN/A', '14s - dy2508TU', 'IC7430XYW6F002ORS1', 'ZEB-NBC 3S', '14Q8X9', 'XL25', '14-ew0153TU', '16AHP9', 'ZIA-00031', '15-fa1066TX', 'FX507ZV-LP094W', 'M6500QF-HN521W', 'Katana 17 B13VEK-254IN', '14IAN8', 'ANV16-71', 'K3405VCB-KM952WS', '11a-na0004MU', 'Z2-493', '15-fd0129TU', 'A515-58P', '15q-dy0007AU', 'Inspiron 5330', 'ideapad 5 15itl05db', 'A315-59-50CP', '15-ew0047TU', '14-hr0001AU', 'Cyborg 15 A12VF-069IN', '15-ew0021TX', 'ExpertBook B9 B9450FA', 'New Inspiron 5430', '15-fa0070TX', 'G6 MF-H2IN853SH', 'Cyborg 14 A13UCX-204IN', 'A315-33', 'EQ2305AU', 'CX1500CKA-NJ0413', 'TP E14 Gen 4', '15s-DU1516TU', 'Zbook Firefly Workstation', 'INS 7500 / G7 7500', 'EX215-23', 'Commercial 14 H A13MG-064IN', 'X1400EA-EK323WS', '15ITL6/ 15ITL6 Ub', '15IRX9D2', 'D560745WIN9B', '14-eh0037TU', '83BF0043IN', 'IC7430JR4VY001ORS1', 'Vostro 5625', 'TP3402VAB-LZ541WS', 'ZHH-00048', 'Inspiron 7420', '15-EH2050AU', 'E1404GA-NK322WS', 'X515MA-BR022WS', 'FX506LHB-HN358W', '14ITL05', '14IRP8', '15IHU6', 'X415EA-EK326WS', '841W6PA', 'N23Q11', '15ACH6', 'ZGM-00059', 'A715-51G', 'IdeaPad 5 15ALC05', 'Vostro 3000', 'Raider 18 HX A14VHG-254IN', '14-EC1003AU', 'A715-76G-54LX', 'PH16-72', 'FX506HC-HN362W', '15S-FQ2738TU', 'XL28', 'Bravo 15 B5ED-035IN', 'MLY43HN/A', 'AORUS 15 9MF-E2IN583SH', 'X543MA-DM101T', 'Katana A17 AI B8VG-868IN', '15-fd1099TU', 'Stealth 18 AI Studio A1VHG-023IN', '7M659PA', 'Stealth 16 AI Studio A1VGG-057IN', 'G15-5520', '14q-CS0005TU', 'Raider A18 HX A7VHG-017IN', 'Vostro 3425', 'NP940XGK-KG2IN / NP940XGK-LG2IN', '14s- DR2015TU', '15W_LAP02', 'UX9702AA-MD023WS', 'A715-51G, A715-51G-527C', 'CoreBook X_Pro', '15ADA7', '15s-du3517TU', 'NS14A6INT441-MEGYB', 'MXCR3HN/A', 'Vector 17 HX A14VHG-806IN', '15q-ds0028TU', 'S5507QAD-MA751WS', 'V15 ITL G2', '14S-ER0003TU', 'ideapad 3 14ALC6UB', 'XL22', '15-fd0006TU', 'SFG14-73T-70N9', '245 G8', '16-ac0023dx', 'NP750XGK-KS2US', 'i3520-5124BLK-PUS', '82R400DTUS', '15-FD0023DX', 'E410KA-CL464', '82VG00MYUS', '15a-nb0013dx', '14a-ne0013dx', 'i3520-7896BLK-PUS', '83DN0007US', '83DL0002US', 'i7440-7304BLU-PUS', 'AV16-51P-7063', 'YZY-00001', '82V6009NUS', '82R700L4US', 'i7640-7380BLU-PUS', '14-dq0052dx', '17-cp3005dx', 'Q425MA-U71TB', '14-fa0013dx', 'NP940XMA-KB1US', '640 G5', 'i7640-7366BLU-PUS', '83FD0015US', 'G814JZR-G18.I94080', '14B-CD0023DX', 'TP1400KA-DS24T', 'Q5507QA-S15.X1P512', 'CBOA311-1H-C90F', '82XJ0000US', 'i7445-5333BLU-PUS', 'MUW63LL/A', '82T30012US', '21MA0005US', '17-cs0013dx', 'MRXW3LL/A', 'GU604VZ-CS94', 'T480', '16-s1023dx', 'H7606WV-P16.R3704060', 'G5530-7527BLK-PUS', 'MXE03LL/A', 'X1404ZA-I38128', 'NP750QGK-KG3US', 'F1605ZA-AS56', 'GA403UI-G14.R94070', '16-u1023dx', '17-da0013dx', '82T6000EUS', 'G6 KF-H3US864KH', 'CB315-4H-P8FZ', '82N4004NUS', '83ED0001US', '15-dy5113dx', '14-fe1003dx', 'X1704ZA-I38512', '15-fc0025dx', 'i7440-5311BLU-PUS', '83JC0000US', '82VG00QFUS', 'XPS9345-SX12807BLK-PUS', '82V60065US', 'Q543B-U94060', '17Z90R-H.AAY8U1', 'GSRF MVVK2LL/A', '83DF00A8US', '14-es1013dx', 'UM5606WA-PB99T', 'NP960QGK-KG1US', 'i7445-7326BLU-PUS', 'M3704YA-IS74', '83FD004GUS', 'THIN15131451', '83DM0004US', 'ANV15-51-789J', 'Q415MA-U5512', 'GA403UV-G14.R94060', 'MXCV3LL/A', 'CB515-2H-31NY', 'PHN16-72-99PA', 'MTL83LL/A', '83EK0000UX', '16-wd0073dx', 'GU603VI-G16.I74070', 'GU605MZ-G16.U94080', 'MRW13LL/A', 'MRYT3LL/A', '82XH0001US', 'CX3402CVA-I5128', 'GU605MI-G16.U94070', 'MRX43LL/A', '82QS001HUS', 'Thin GF63 12UCX-898US', 'AWm16R-9487BLK-PUS', '14-fc0023dx', 'i7441-SX10838BLU-PUS', 'UX5406SA-S14.U71TB', 'ZGM-00026', 'Q543MJ-U93050', 'G5530-7388GRY-PUS', 'MRX53LL/A', 'Q533MJ-U73050', 'CP714-2W-56B2', 'XPS9350-7715BLK-PUS', 'ANV15-41-R2Y3', '83HM0000US', 'PH18-72-93VM', 'ZGP-00062', 'A315-24PT-R90Z', '83HH0002US', '83DK000DUS', '16-ad0013dx', 'i7640-5359BLU-PUS', 'AWM18R-9494BLK-PUS', '83FF0000US', 'MRW23LL/A', 'CBG516-2H-59S4', 'XPS9440-7134SLV-PUS', 'MLY43LL/A', 'CROSSHAIR1614057', 'MQKX3LL/A', 'GSRF MWTJ2LL/A', 'CP714-1H-54UB', 'HN7306WU-PX13.R3704050', '14c-cd0053dx', 'STEALTHA16A3X002', 'GA605WI-G16.R94070', 'CB315-3H-C69K', 'UX8406MA-PS99T', 'HP.745G6.R5P.3500U.16.256.W10P', '47X83UA#ABA', 'ZGQ-00001', '17-CW1010NR', 'MQTM3LL/A', 'M1502QA-BH74', '15-fa1163dx', 'GSRF MXK32LL/A', 'ZHI-00001', '17Z90R-K.ADS9U1', 'GSRF MVFM2LL/A', 'PH18-72-924C', 'MQTK3LL/A', 'GSRF MGN93LL/A', 'PHN16-72-91P6', 'XPS9640-9158SLV-PUS', 'UM5606WA-S16.R3651TB', 'AWM16-7025BLK-PUS', 'GU604VY-XS97', 'AWM16-9272BLK-PUS', '83EX0007US', 'NP960QHA-KG1US', 'GSRF MRE82LL/A', 'XPS9340-7319BLK-PUS', 'GSRF MVH22LL/A', 'GSRF MYD82LL/A', 'STEALTH16A1091', '14-eu0013dx', 'XE550XGA-KC1US', 'GSRF MUHN2LL/A', 'CX5601FBA-I3128', 'NP960XGL-XG1US', 'GSRF MPXW2LL/A', 'KATANAA15B8423', 'AW16R2-9517SLV-PUS', 'GSRF MKGP3LL/A', 'GU605MY-G16.U94090', 'UX5406SA-PH79T', 'AWM16-A138BLK-PUS', '21HM000RUS', 'A1708', 'G6X 9KG-43US864SH', 'GSRF MLY13LL/A', 'BRAVO15C7084', 'GSRF MV912LL/A', 'GSRF MRX33LL/A', 'HN7306WV-PB99T', '830 G7', '840G3.8.256.Pro', 'FX707ZC-ES53', '840G6.i5.16.256', 'AWm16-9364BLK-PUS', 'F1605VAP-DS74', 'GA605WI-XB96', '21MC000KUS', 'GSRF QZI-00001', '21JK0053US', 'K3704VA-DH96-S', 'GSRF Z16S0LL/A', 'RZ09-0510TEN3-R3U1', 'G7630-9302GRY-PUS', 'UX3404VC-BB99T', '9R0P4UA#ABA', 'HT5306QA-PZ13.X1P1TB', 'BBY-D99CMFX', 'GSRF MNEJ3LL/A', 'GSRF MPTT2LL/A', 'AV16-51P-58KU', 'TP3604VA-EB94T', 'H7606WI-P16.R3704070', '16-wf0083dx', 'Cyborg 15 A13VE-218US', 'AORUS 16X ASG-53USC64SH', 'KP57V', '5480', '21H3001FUS', '82LX0050US', '7CCG9', 'GSRF HMW-00001', '15-FA1010NR', 'XPS9640-9196SLV-PUS', 'GSRF 1ZO-00001', 'GSRF MQKU3LL/A', 'RAIDER18HX14268', 'A1466', 'FA608WI-AB96', 'Q420VA-EVO.I7512', 'GSRF MNYG2LL/A', '21JR001SUS', 'GSRF MNW83LL/A', '15-FD0005DX', 'MPXU2LL/A', '5540.i9.64.1TB', 'FA401UV-DB74', 'THINA15B7257', 'VECTOR16HX13478', '6CT3N', 'X360.1030.G3.Pro', 'CProM1614412', 'DL.5310.I7.10610U.16.256.W10P', 'GSRF MR942LL/A', 'G6 MF-H2US854KH', '840 G8', 'SFX16-61G-R9VD', 'E410KA-PM464', 'HP.X3601040G6.I58365.8.256.10P', 'Precision 5540', '840 G3-31676', '21MV0009US', 'NX.VUTAA.002', 'NP960XMB-KB1US', '830 G6', 'GSRF MLXX3LL/A', 'T480.8.256.Pro', 'A1YM8UA#ABA', 'GSRF MK1E3LL/A', 'GSRF MTL73LL/A', '82N4002HUS', '21M3000QUS', 'MV912LL/A', 'AORUS 17X AZG-65US665SH', '21ML0056US', 'X8G6W', 'LN.T14G3.I5.1250P.16.256.W11P', 'XPS9440-7892SLV-PUS', '21M5000HUS', '8S0F1UA#ABA', 'GSRF THH-00035', 'F1704VAP-AS56', 'GZ301VU-DS94', 'Q423SA-U5512', 'MOD15121000', '8Y7U1UA#ABA', 'GSRF V9R-00022', '21KC00A7US', 'HP.X360830G8.I51145.16.256.10P', 'GSRF-Z0RJ0LL/A', 'T470S', '21KE005UUS', '9E918ATABA', '5590-32764', 'M5606UA-DS96', '15-FD0185NR', '21HQ000BUS', '16-U0010NR', 'GA605WV-G16.R94060', 'G614JVR-ES94', 'Vector GP68HX 13VH-256US', '745G6.8.256.Pro', 'ZBook Firefly 15 G7', '21MN005LUS', 'PRE13EVO12070', 'GSRF V4C-00022', 'CP514-3HH-R6VK', '15U.G5.i7.16.256', 'A1RM4UT#ABA', 'GSRF RBY-00001', 'T56PM', '850 G7', 'TM420UADS52T', '7400', 'UX8406MA-DS76T', 'SF314-44-R3ZM', 'Precision 3541', 'Z1S-00001', 'RAIDERGE7612201', '091RP', 'A2141', 'GSRF MWP72LL/A', '840G5.16.256.Pro', 'PROC640', 'BBY-0NCW5FX', 'WWZ313Q8504T64', '650 G2', 'VFR3R', 'CYBORG1413018', '7430', '15D24', 'XE520QEA-KB1US', 'MQD32LL/A Silver', 'AV15-53P-71Z7', 'GSRF MRW23LL/A', 'AWX14R2-7746SLV-PUS', 'CX5403CMA-DB588', '17-cp2033dx', '850 G6', 'HVMV3', 'NP754QGK-KS2US', 'PRE14H12629', 'VECTOR17A1649', '850 G5', '840 G9', '9X8B2UA#ABA', 'GCW0D', 'A1ND8UT#ABA', 'LN.X13YG2.I5.1145G7.16.256.10P', 'PRECISION 7710-32304', 'GSRF 8QF-00048', 'GSRF Z18U2LL/A', '21MX000BUS', '830 G8', 'TI-GSRF MPXV2LL/A', 'GSRF VGY-00001', '8R874UA#ABA', 'P5405CSA-DH76', '5410', 'HP.FF15G7.I7.10610U.16.256.10P', 'COM14V13009', 'HP.FF14G8.I5.1145G7.16.256.10P', 'CPRO1614090', 'PRE16EVO14048', 'GSRF VEF-00022', 'VECTOR16HX14254', 'NP964XGL-XG3US', 'HP.15G6.I7.9850H.32.256.W10P', 'AERO 16 YE5-94US948HP', 'F1504VAP-ES51', 'T480.i5.16.256', 'DL.7420.I5.1145G7.16.256.W10P', 'ZBook 15U G5', 'PRE14H12603', '5300 2-in-1', 'Elite Dragonfly', 'HP.15UG6.I7.8665U.32.512.W10P', 'P5405CSA-DH54', 'GSRF DAJ-00001', 'GSRF 5W6-00024', 'CT1GY', '29JKP', '440 G8', 'TI-GSRF MD761LL/A', '1TD24', 'MRE82LL/A', 'MREC2LL/A', 'HP.15TEG300.I71355U.16.512.11P', 'GSRF Z0UU1LL/A', 'VECTOR17A1219', 'CREATOR1711471', '0D3RM', 'GSRF R1S-00062', 'LN.T14G1.I5.10310U.16.256.W10P', '21HQ001NUS', '840 G5', '21EX0003US', 'GV302XI-CS96', 'PRE13EVO14027', 'BB5-32732', 'TN3604YA-DS51T', '21JN0040US', 'A0MJ6UA#ABA', 'PRE14STU14029', 'MVFK2LL/A', 'SUME1314038', '21M70007US', '830 G5', 'GSRF MPHJ3LL/A', '21FJ002CUS', 'AN16-41-R148', '5401', 'PNPGM', '21F2000HUS', 'HP.FF15G8.I7.1185G7.16.256.10P', 'C1614074', 'X360.1040.G6.Pro', 'RZ09-0509TEK3-R3U1', 'CPRO1614076', 'PT14-51-7979', 'P50S', 'MK183LL/A', 'HP.FF14G7.I5.10310U.16.256.10P', 'MXK32LL/A', 'A1LC4UT#ABA', '7H3P1UA#ABA', 'SUM16STU14036', 'E7470.i5.8.256.Pro', 'GSRF DAG-00114', '9W6F6', '21HF000CUS', '5520', 'MK1H3LL/A', 'DV9KG', 'FA608WV-DB94', '21MR005QUS', 'STEALTH1513038', 'MPXT2LL/A GRAY CRB', '5320', '6223J', '21HK0006US', 'SBR1F', 'MLH12LL/AR', 'MV902LL/A-32GB', 'A514-56GM-5932', '21LS004BUS', '7KVJY', 'YFK76', 'YJPN6', 'RZ09-0510TEM4-R3U1', '2CVY8', 'MR962LL/A', 'AORUS 17 BSG-13US654SH', 'PH315-55-79KT', '7P3C3UT#ABA', 'GSRF DAG-00003', 'EliteBook 850 G6', 'UM3504DA-DS76', 'MNEW3LL/A', 'ZBook 15 G6', 'PRE16STU14091', 'TI-GSRF ME864LL/A', '4H3CC', '82R80022US', 'MLUQ2LL/A', 'MOD1413261', '21MS0067US', 'BB5-32866', 'GU605MZ-XS96', 'PULSE15132047', 'VECTOR68HX13054', 'SFX14-71G-76LC', 'GSRF NP340XLA-KA1US', 'E1504FA-AS52', 'A41F1UA#ABA', 'VPC7T', 'SUME14EVO12026', '90H35UAABA', 'JJC7N', 'CYBORG15131095', '82XX003YUS', '6F5CN', '6CVC6', 'KFNFN', 'PRE16EVO14013', 'BB5-31852', '8KY5K', 'P89N4', 'LN.T14G2.I5.1145G7.16.256.W10P', 'GSRF KSR-00001', '7M9WG', 'CP514-1H-R0VX', 'JCJH4', 'WWZ313Q8508T256', 'MOD1513886', 'AERO 14 OLED BMF-72USBB4SH', 'PH18-71-94F1', 'C1614072', '640 G4', 'GSRF MR7K3LL/A', 'DL.5410.I5.10310U.16.256.W10P', 'CBV514-1H-38VS', 'STEALTH7712083', 'MXK62LL/A', '2P5HR', 'TI-GSRF MRYM3LL/A', 'STEALTH14A1068', '5PMVX', '82XM0032US', 'CProM1614289', 'A1LD9UT#ABA', 'COM1413002', 'VPWD0', 'RAIDERGE6813202', '83CY2', 'T7NMH', 'NXKRNAA001', '7T7WH', 'BB5-32872', '21ES001YUS', 'ZBook Studio G7', 'MK1F3LL/A', '7410', '82LV003WUS', 'SFX16-61G-R4J6', '21J8002RUS', 'F1605VAP-DS52', 'X1 Carbon', 'VECTOR16HX14479', 'UX3405MA-PH77', 'TP3604VA-DS74T', 'M1605YA-ES52', 'NXKE4AA002', 'F47JT', '7X988', 'MKGT3LL/A', '82XJ002DUS', '16Z90R-H.AAY7U1', 'X360.1030.G2.RB', 'HK9VF', '82C10009US', 'TI-GSRF MNEW3LL/A', '82SG00BLUS', '9Q037UA#ABA', 'MPXR2LL/A', 'MQD42LL/A', 'STEALTH18A1008', 'RFB-00001', 'C1614073', 'P1FNF', 'i3520-5810BLK-PUS', 'TI-GSRF MRXN3LL/A', 'M1603QA-R712512', 'GSRF MQD42LL/A', 'Crosshair 16 A13VGK-815US', 'R1S-00062', 'NP730QFG-KA1US', 'MGN93LL/A', 'i7430-7374SLV-PUS', 'RIP-00026', '82XV002LUS', 'i3420-S476SLV-PUS', 'CX1700CK-CL464', 'GSRF RKL-00001', 'XPS9530-9565SLV-PUS', '83B1001WUS', 'i7635-A497BLU-PUS', '3PL GSRF MMGF2LL/A', '83B2001TUS', 'GSRF 282-00001', 'GSRF 8PV-00017', 'GSRF XE530QDA-KA1US', 'STEALTH1713008', 'MNEP3LL/A', '15Z90S-H.ADB8U1', 'GSRF QWT-00001', 'MPTR2LL/A', 'MR942LL/A', '82Y30004US', 'GSRF 13687677', 'GSRF RZ09-03272E82-R3U1', 'TI-GSRF MQTK3LL/A', 'GSRF VFP-00001', 'GSRF R1S-00051', 'GSPR MV962LL/A', 'GSRF SMV-00001', '7490.i5.16.256', 'GSRF WWNEO10A4BK64', 'GSRF 7IP-00051/7IP-00124', 'GSRF Z0UK9LL/A', 'TI GSRF Z0Y0005J1', 'GSRF NP730QDA-KA1US', '82VG00R2US', 'GSRF RZ09-01964E32-R3U1', '21DC003BUS', '3PL GSRF MNQG2LL/A', 'GSRF ME865LL/A', 'GSRF MD102LL/A', 'PRECISION 7520', 'GSRF THR-00001', 'GSRF 81D1003TUS', '3PL GSRF MF839LL/A', 'GSRF A1Y-00001', 'GSRF Q546FD-BI7T14', 'GSRF MD231LL/A', 'GSRF VEF-00064', 'AN517-55-5354', 'E5450-1557', 'GSRF MD760LL/B', '82Y9000PUS', '83GH000MUS', 'GSRF ME662LL/A', 'GSRF 13860093', 'XPS9315-7725SKY-PUS', 'GSRF 5M8-00001/5M8-00022', 'A515-58GM-76KW', 'GSRF 5AI-00047', 'GSRF MQ012LL/A', '83HM002WUS', 'TI-GSRF MXCR3LL/A', '3PL GSRF MLL42LL/A', 'GSRF GS63 STEALTH-010', '3PL GSRF MF840LL/A', '3PL GSRF MLH82LL/A', 'E5570', 'TI-GSRF MC969LL/A', 'GSRF VGS-00022', 'GSRF PG1-00001', 'GSRF MJVP2LL/A', 'GSRF RZ09-03571EM2-R3U1', 'RKL-00001', '3PL GSRF MJVE2LL/A', 'GSRF RBG-00051', 'GSRF I7573-5104GRY-PUS', 'GSRF 13M-BD0063DX', 'GSRF E7F-00001', 'GSRF WWNEO10A4WH64', 'TI-GSRF MC975LL/A', 'GV601VV-BH96', 'GSRF Z0YJ00029', '83ED004WUS', 'TI-GSRF MD212LL/A', 'GA402XZ-CS94', 'GSRF V1P80UT', 'GSRF RIP-00026', '83DR000SUS', 'GSRF I7586-7205BLK-PUS', 'GSRF 81JS005CUS', 'GSRF MD711LL/A', 'GSRF AW17R4-7001SLV-PUS', 'GSRF RZ09-03006EQ2-R3U1', 'TI-GSRF MREE2LL/A', 'RBG-00062', 'GSRF 7IP-00062/7IP-00135', 'MNEQ3LL/A', 'GSRF 13U70P-G.ARW5U1', 'GSRF 7IP-00026/7IP-00099', 'GSRF VGS-00054', 'WWMYN', 'GSRF RIP-00001', 'PRE13EVO13050', 'GSRF AI2-00001', 'GSRF 14-EB0010NR', 'GSRF RZ09-03135EM3-R3U1', 'GSRF 9WI-00001', 'GSRF RBG-00026', 'GSRF MC118LL/A', 'NP950QED-KB1US', 'GCRF MC721LL/A', 'GSRF WWNEO14C4BK64', 'GSRF WWX14C4T64', 'TI-GSRF MWP42LL/A', 'GSRF 82BH0006US', 'GSRF 13687690', 'CM3001DM2A-M8186', '15-fb2063dx', 'STEALTH1413041', 'SUME1312026', '14-EP0010NR', '14b-cb0033dx', 'MMGF2LL/A', '3V2Y2UT#ABA', 'PHN16-71-50JG', 'MRE92LL/A', 'UX3405MA-PH99T', 'J56T1', '17Z90S-H.ADB7U1', '5510', 'HP.840G8.I5.1145G7.16.256.W10P', '5UHQ2LL/A', 'GSRF SLK-00001', 'GSRF V4C-00043', 'T490', '82V6001DUS', 'PRE16STU14020', 'Y8NNP', 'GSRF 5IM-00001', 'AN16-41-R5KC', 'PTX17-71-98JY', 'HWFV4', '840G5.i5.8.256.Pro', 'AORUS 17 BSF-73US654SH', 'TI-GSRF ME293LL/A', 'MWTJ2LL/A Gray', 'SUM16EVO14019', '15-fd0107dx', 'PH18-71-756U', 'MXD43LL/A', 'ZHH-00026', 'ZXX-00026', 'GX650PZ-XS96', 'HP.845G7.R7P.16.512.W10P', 'A2337', '17-CN3033CL', '7MFW6', '21FJS05V00', 'GSRF 16Z90P-K.AAB8U1', '630 G10']\n"
     ]
    }
   ],
   "source": [
    "import re\n",
    "from difflib import SequenceMatcher\n",
    "\n",
    "# Normalize Model Numbers\n",
    "def normalize_model_number(model):\n",
    "    model = str(model)\n",
    "    model = model.lower()  # Convert to lowercase\n",
    "    model = re.sub(r'\\s+', '', model)  # Remove spaces\n",
    "    model = re.sub(r'[^a-z0-9]', '', model)  # Remove non-alphanumeric characters\n",
    "    return model\n",
    "\n",
    "df['normalized_model'] = df['Laptop_Model_Number'].apply(normalize_model_number)\n",
    "\n",
    "# Find unique models using fuzzy matching\n",
    "unique_models = []\n",
    "\n",
    "for _, row in df.iterrows():\n",
    "    normalized = row['normalized_model']\n",
    "    match_found = False\n",
    "    \n",
    "    for unique in unique_models:\n",
    "        # Use difflib's SequenceMatcher for similarity check\n",
    "        if SequenceMatcher(None, normalized, unique['normalized_model']).ratio() >= 0.9:  # 90% similarity threshold\n",
    "            match_found = True\n",
    "            break\n",
    "    \n",
    "    if not match_found:\n",
    "        # Add both original and normalized forms to unique_models\n",
    "        unique_models.append({'original_model': row['Laptop_Model_Number'], 'normalized_model': normalized})\n",
    "# Extract only the original model numbers (optional, for final output)\n",
    "unique_model_numbers = [entry['original_model'] for entry in unique_models]\n",
    "\n",
    "print(unique_model_numbers)"
   ]
  },
  {
   "cell_type": "code",
   "execution_count": 34,
   "id": "fa55a20b-b1d6-4b40-b96f-9a2812fa057e",
   "metadata": {},
   "outputs": [
    {
     "data": {
      "text/plain": [
       "2041"
      ]
     },
     "execution_count": 34,
     "metadata": {},
     "output_type": "execute_result"
    }
   ],
   "source": [
    "len(unique_model_numbers)"
   ]
  },
  {
   "cell_type": "code",
   "execution_count": 38,
   "id": "e26983b2-7a45-41bf-b2d2-e83d520a7bb7",
   "metadata": {},
   "outputs": [
    {
     "name": "stdout",
     "output_type": "stream",
     "text": [
      "('Dell', 'Latitude 3540 Laptop', None, 'Intel', '1355U', 'SSD', 'Windows 11 Professional', '1920x1080 MP', None, None, 1772.95, 1, '2024-11-04 18:23:39', 'https://www.amazon.com/sspa/click?ie=UTF8&spc=MTo4NDkxNTk5NDMzNDA3NDI6MTczMDY3NjY2NTpzcF9hdGZfYnJvd3NlOjMwMDUwMTQ3MTcwNDIwMjo6MDo6&url=%2FDell-Latitude-3540-Laptop-1920x1080%2Fdp%2FB0D7BNFZV3%2Fref%3Dsr_1_625_sspa%3Fdib%3DeyJ2IjoiMSJ9.V_7cZqgbAZmLoo0gHJVQ9q3_UsTKPr45oTho_8mXksP_yyWU3-PYIaezdIXerWZH5jjwBh7Vn7y5HdGQxR401VieExF4yOdAzHLbAsEadwYfL35A1yhgJ6Wrud9CGiWyOC30B6XLLnP4bp-89DKNdIPOcUHQt65FKFPlPifqxxBq6Ic4Zgwq9FBiXJP5_vBqeFnmpwE5yKy_hq3DTyHfU2TNz13yStMZuLX5PU79YIgJOa2F3UVpj-I10dt5Uon18QzJCPPszkSlGYMNvPSQT6zyEty4j_uOFrTKROsGXkI.B9qdh59aAPi7HsIj_Z9lgV7UqyC6heNiv1ICehBb4Vw%26dib_tag%3Dse%26qid%3D1730676665%26s%3Dpc%26sr%3D1-625-spons%26sp_csd%3Dd2lkZ2V0TmFtZT1zcF9hdGZfYnJvd3Nl%26psc%3D1', 'Amazon', 4000, 15.6, 64, 0, '0.71 x 14.13 x 9.44 inches', 4.0)\n",
      "('HP', '17t-cn3004', '17t-cn3004208', 'Intel', 'Intel Core i5', 'SSD', 'Windows 11 Pro', '1600x900 Pixels', 5.0, None, 788.0, 1, '2024-11-04 18:23:42', 'https://www.amazon.com/sspa/click?ie=UTF8&spc=MTo4NDkxNTk5NDMzNDA3NDI6MTczMDY3NjY2NTpzcF9hdGZfYnJvd3NlOjMwMDQxMDU1NTY5MzMwMjo6MDo6&url=%2FHP-Business-Student-i5-1334U-Lifetime%2Fdp%2FB0D8V4X2NK%2Fref%3Dsr_1_626_sspa%3Fdib%3DeyJ2IjoiMSJ9.V_7cZqgbAZmLoo0gHJVQ9q3_UsTKPr45oTho_8mXksP_yyWU3-PYIaezdIXerWZH5jjwBh7Vn7y5HdGQxR401VieExF4yOdAzHLbAsEadwYfL35A1yhgJ6Wrud9CGiWyOC30B6XLLnP4bp-89DKNdIPOcUHQt65FKFPlPifqxxBq6Ic4Zgwq9FBiXJP5_vBqeFnmpwE5yKy_hq3DTyHfU2TNz13yStMZuLX5PU79YIgJOa2F3UVpj-I10dt5Uon18QzJCPPszkSlGYMNvPSQT6zyEty4j_uOFrTKROsGXkI.B9qdh59aAPi7HsIj_Z9lgV7UqyC6heNiv1ICehBb4Vw%26dib_tag%3Dse%26qid%3D1730676665%26s%3Dpc%26sr%3D1-626-spons%26sp_csd%3Dd2lkZ2V0TmFtZT1zcF9hdGZfYnJvd3Nl%26psc%3D1', 'Amazon', 4096, 17.3, 64, 0, '0.81 x 10.15 x 15.78 inches', 5.0)\n",
      "('Dell', 'Dell Inspiron 15.6\" Touchscreen Laptop', None, 'Intel', '1355U', 'SSD', 'Windows 11 Pro', '1920x1080 Pixels', None, None, 1099.99, 1, '2024-11-04 18:23:45', 'https://www.amazon.com/sspa/click?ie=UTF8&spc=MTo4NDkxNTk5NDMzNDA3NDI6MTczMDY3NjY2NTpzcF9hdGZfYnJvd3NlOjMwMDQ0NjYyNTU4OTMwMjo6MDo6&url=%2FDell-Inspiron-Touchscreen-Laptop-Microsoft%2Fdp%2FB0C6PTN9GH%2Fref%3Dsr_1_627_sspa%3Fdib%3DeyJ2IjoiMSJ9.V_7cZqgbAZmLoo0gHJVQ9q3_UsTKPr45oTho_8mXksP_yyWU3-PYIaezdIXerWZH5jjwBh7Vn7y5HdGQxR401VieExF4yOdAzHLbAsEadwYfL35A1yhgJ6Wrud9CGiWyOC30B6XLLnP4bp-89DKNdIPOcUHQt65FKFPlPifqxxBq6Ic4Zgwq9FBiXJP5_vBqeFnmpwE5yKy_hq3DTyHfU2TNz13yStMZuLX5PU79YIgJOa2F3UVpj-I10dt5Uon18QzJCPPszkSlGYMNvPSQT6zyEty4j_uOFrTKROsGXkI.B9qdh59aAPi7HsIj_Z9lgV7UqyC6heNiv1ICehBb4Vw%26dib_tag%3Dse%26qid%3D1730676665%26s%3Dpc%26sr%3D1-627-spons%26sp_csd%3Dd2lkZ2V0TmFtZT1zcF9hdGZfYnJvd3Nl%26psc%3D1', 'Amazon', 4096, 15.6, 32, 0, '9.25 x 0.75 x 14.11 inches', 3.6)\n",
      "('Apple', 'MacBook Pro', 'Mvvm2ll/a', 'Intel', 'Core i9', 'SSD', 'Mac OS X 10.0 Cheetah', '2560 x 1600 Pixels', 4.0, 11.0, 571.99, 1, '2024-11-04 18:23:54', 'https://www.amazon.com/2019-Apple-MacBook-16-inch-1TB-SSD-Storage/dp/B08DDB4R6T/ref=sr_1_629?dib=eyJ2IjoiMSJ9.V_7cZqgbAZmLoo0gHJVQ9q3_UsTKPr45oTho_8mXksP_yyWU3-PYIaezdIXerWZH5jjwBh7Vn7y5HdGQxR401VieExF4yOdAzHLbAsEadwYfL35A1yhgJ6Wrud9CGiWyOC30B6XLLnP4bp-89DKNdIPOcUHQt65FKFPlPifqxxBq6Ic4Zgwq9FBiXJP5_vBqeFnmpwE5yKy_hq3DTyHfU2TNz13yStMZuLX5PU79YIgJOa2F3UVpj-I10dt5Uon18QzJCPPszkSlGYMNvPSQT6zyEty4j_uOFrTKROsGXkI.B9qdh59aAPi7HsIj_Z9lgV7UqyC6heNiv1ICehBb4Vw&dib_tag=se&qid=1730676665&s=pc&sr=1-629', 'Amazon', 2048, 16.0, 16, 0, '15.63 x 2.40 x 11.14 inches', 5.68)\n",
      "('HP', 'TPN-Q279', 'TPN-Q279', 'AMD', 'Ryzen 5', 'SSD', 'Windows 11 Home', '1920 x 1080 Pixels', 3.8, None, 755.98, 1, '2024-11-04 18:23:57', 'https://www.amazon.com/HP-i7-1355U-i5-14400F-GeForce-Backlit/dp/B0D9KHZ12S/ref=sr_1_630?dib=eyJ2IjoiMSJ9.V_7cZqgbAZmLoo0gHJVQ9q3_UsTKPr45oTho_8mXksP_yyWU3-PYIaezdIXerWZH5jjwBh7Vn7y5HdGQxR401VieExF4yOdAzHLbAsEadwYfL35A1yhgJ6Wrud9CGiWyOC30B6XLLnP4bp-89DKNdIPOcUHQt65FKFPlPifqxxBq6Ic4Zgwq9FBiXJP5_vBqeFnmpwE5yKy_hq3DTyHfU2TNz13yStMZuLX5PU79YIgJOa2F3UVpj-I10dt5Uon18QzJCPPszkSlGYMNvPSQT6zyEty4j_uOFrTKROsGXkI.B9qdh59aAPi7HsIj_Z9lgV7UqyC6heNiv1ICehBb4Vw&dib_tag=se&qid=1730676665&s=pc&sr=1-630', 'Amazon', 2048, 15.6, 16, 0, '0.93 x 10.04 x 14.09 inches', 7.39)\n",
      "('HP', 'HP', '14-fq1003cl', 'AMD', 'Ryzen 3', 'SSD', 'Windows 11', '1366 x 768 Pixels', None, None, 704.99, 1, '2024-11-04 18:24:00', 'https://www.amazon.com/HP-Computer-Touchscreen-Business-Portable/dp/B0DKNM32PQ/ref=sr_1_631?dib=eyJ2IjoiMSJ9.V_7cZqgbAZmLoo0gHJVQ9q3_UsTKPr45oTho_8mXksP_yyWU3-PYIaezdIXerWZH5jjwBh7Vn7y5HdGQxR401VieExF4yOdAzHLbAsEadwYfL35A1yhgJ6Wrud9CGiWyOC30B6XLLnP4bp-89DKNdIPOcUHQt65FKFPlPifqxxBq6Ic4Zgwq9FBiXJP5_vBqeFnmpwE5yKy_hq3DTyHfU2TNz13yStMZuLX5PU79YIgJOa2F3UVpj-I10dt5Uon18QzJCPPszkSlGYMNvPSQT6zyEty4j_uOFrTKROsGXkI.B9qdh59aAPi7HsIj_Z9lgV7UqyC6heNiv1ICehBb4Vw&dib_tag=se&qid=1730676665&s=pc&sr=1-631', 'Amazon', 2000, 14.0, 64, 0, '0.70 x 8.86 x 12.76 inches', 3.11)\n",
      "('ist computers', 'Lenovo ThinkPad P15v Gen 3', 'Lenovo ThinkPad P15v Gen 3', 'Intel', 'Core i7 Family', 'SSD', 'Windows 11 Pro', '1920 x 1080 Pixels', 4.0, None, 1299.99, 1, '2024-11-04 18:24:05', 'https://www.amazon.com/ThinkPad-P15v-Gen-Workstation-Fingerprint/dp/B0CJV4KKJX/ref=sr_1_632?dib=eyJ2IjoiMSJ9.V_7cZqgbAZmLoo0gHJVQ9q3_UsTKPr45oTho_8mXksP_yyWU3-PYIaezdIXerWZH5jjwBh7Vn7y5HdGQxR401VieExF4yOdAzHLbAsEadwYfL35A1yhgJ6Wrud9CGiWyOC30B6XLLnP4bp-89DKNdIPOcUHQt65FKFPlPifqxxBq6Ic4Zgwq9FBiXJP5_vBqeFnmpwE5yKy_hq3DTyHfU2TNz13yStMZuLX5PU79YIgJOa2F3UVpj-I10dt5Uon18QzJCPPszkSlGYMNvPSQT6zyEty4j_uOFrTKROsGXkI.B9qdh59aAPi7HsIj_Z9lgV7UqyC6heNiv1ICehBb4Vw&dib_tag=se&qid=1730676665&s=pc&sr=1-632', 'Amazon', 4096, 15.6, 64, 0, '0.95 x 9.84 x 14.43 inches', 6.0)\n",
      "('Dell', 'Dell Inspiron Laptop', 'Dell Inspiron Laptop', 'Intel', 'Intel Celeron D', 'SSD', 'Windows 11', '1366 x 768 Pixels', 4.6, None, 469.0, 1, '2024-11-04 18:24:09', 'https://www.amazon.com/Dell-Inspiron-Laptop-Dual-Core-Anti-Glare/dp/B0D7F7QXQM/ref=sr_1_633?dib=eyJ2IjoiMSJ9.V_7cZqgbAZmLoo0gHJVQ9q3_UsTKPr45oTho_8mXksP_yyWU3-PYIaezdIXerWZH5jjwBh7Vn7y5HdGQxR401VieExF4yOdAzHLbAsEadwYfL35A1yhgJ6Wrud9CGiWyOC30B6XLLnP4bp-89DKNdIPOcUHQt65FKFPlPifqxxBq6Ic4Zgwq9FBiXJP5_vBqeFnmpwE5yKy_hq3DTyHfU2TNz13yStMZuLX5PU79YIgJOa2F3UVpj-I10dt5Uon18QzJCPPszkSlGYMNvPSQT6zyEty4j_uOFrTKROsGXkI.B9qdh59aAPi7HsIj_Z9lgV7UqyC6heNiv1ICehBb4Vw&dib_tag=se&qid=1730676665&s=pc&sr=1-633', 'Amazon', 2048, 15.6, 32, 0, '9.80 x 0.78 x 14.33 inches', 3.96)\n",
      "('HP', 'Newest HP 14 Inch Laptop', 'Newest HP 14 Inch Laptop', 'Intel', 'Celeron N', 'SSD', 'Windows 11 Home', '1366 x 768 Pixels', 4.2, 11.0, 289.0, 1, '2024-11-04 18:24:14', 'https://www.amazon.com/HP-Newest-14-Laptop-HubxcelAccessory/dp/B0CVVJSBKD/ref=sr_1_634?dib=eyJ2IjoiMSJ9.V_7cZqgbAZmLoo0gHJVQ9q3_UsTKPr45oTho_8mXksP_yyWU3-PYIaezdIXerWZH5jjwBh7Vn7y5HdGQxR401VieExF4yOdAzHLbAsEadwYfL35A1yhgJ6Wrud9CGiWyOC30B6XLLnP4bp-89DKNdIPOcUHQt65FKFPlPifqxxBq6Ic4Zgwq9FBiXJP5_vBqeFnmpwE5yKy_hq3DTyHfU2TNz13yStMZuLX5PU79YIgJOa2F3UVpj-I10dt5Uon18QzJCPPszkSlGYMNvPSQT6zyEty4j_uOFrTKROsGXkI.B9qdh59aAPi7HsIj_Z9lgV7UqyC6heNiv1ICehBb4Vw&dib_tag=se&qid=1730676665&s=pc&sr=1-634', 'Amazon', 64, 14.0, 16, 0, '0.71 x 8.86 x 12.76 inches', 3.24)\n",
      "('ASUS', 'Business Laptop', 'Business Laptop', 'Intel', 'Intel Core i3', 'SSD', 'Windows 11 Pro', '1920 x 1080 Pixels', 3.9, None, 359.0, 1, '2024-11-04 18:24:19', 'https://www.amazon.com/ASUS-VivoBook-Laptop-Processor-Bluetooth/dp/B0DB2LR7LM/ref=sr_1_635?dib=eyJ2IjoiMSJ9.V_7cZqgbAZmLoo0gHJVQ9q3_UsTKPr45oTho_8mXksP_yyWU3-PYIaezdIXerWZH5jjwBh7Vn7y5HdGQxR401VieExF4yOdAzHLbAsEadwYfL35A1yhgJ6Wrud9CGiWyOC30B6XLLnP4bp-89DKNdIPOcUHQt65FKFPlPifqxxBq6Ic4Zgwq9FBiXJP5_vBqeFnmpwE5yKy_hq3DTyHfU2TNz13yStMZuLX5PU79YIgJOa2F3UVpj-I10dt5Uon18QzJCPPszkSlGYMNvPSQT6zyEty4j_uOFrTKROsGXkI.B9qdh59aAPi7HsIj_Z9lgV7UqyC6heNiv1ICehBb4Vw&dib_tag=se&qid=1730676665&s=pc&sr=1-635', 'Amazon', 2048, 14.0, 24, 0, '0.70 x 8.42 x 12.79 inches', 5.5)\n"
     ]
    }
   ],
   "source": [
    "import sqlite3\n",
    "# Dump data in SQLLite\n",
    "# Connect to SQLite database\n",
    "conn = sqlite3.connect(r'../../database/laptrack.db')\n",
    "\n",
    "# Dumping data to SQLite table by creating it and replacing if it exists\n",
    "laptop_df_cleaned.to_sql('Laptop_Phase_2_2', conn, if_exists='replace', index=False)\n",
    "\n",
    "# Verify data insertion\n",
    "cursor = conn.cursor()\n",
    "cursor.execute(\"SELECT * FROM Laptop_Phase_2_2\")\n",
    "rows = cursor.fetchall()\n",
    "\n",
    "# Printing rows for verification\n",
    "for ix,row in enumerate(rows):\n",
    "    if ix < 10:\n",
    "        print(row)\n",
    "\n",
    "# Commit the Changes and Close the connection\n",
    "conn.commit()\n",
    "conn.close()"
   ]
  },
  {
   "cell_type": "code",
   "execution_count": 40,
   "id": "64eb8516-a7aa-4792-824e-e195e223ce44",
   "metadata": {},
   "outputs": [],
   "source": [
    "# Export DataFrame to CSV\n",
    "laptop_df_cleaned.to_csv('LaptrackPhase2.csv', index=False)"
   ]
  },
  {
   "cell_type": "code",
   "execution_count": null,
   "id": "7eaf2b51-0268-4fc7-8736-90c10e01bf1b",
   "metadata": {},
   "outputs": [],
   "source": []
  },
  {
   "cell_type": "code",
   "execution_count": null,
   "id": "3fe50f74-c891-49b7-b59f-4bb300d42069",
   "metadata": {},
   "outputs": [],
   "source": []
  }
 ],
 "metadata": {
  "kernelspec": {
   "display_name": "Python 3 (ipykernel)",
   "language": "python",
   "name": "python3"
  },
  "language_info": {
   "codemirror_mode": {
    "name": "ipython",
    "version": 3
   },
   "file_extension": ".py",
   "mimetype": "text/x-python",
   "name": "python",
   "nbconvert_exporter": "python",
   "pygments_lexer": "ipython3",
   "version": "3.12.5"
  }
 },
 "nbformat": 4,
 "nbformat_minor": 5
}
