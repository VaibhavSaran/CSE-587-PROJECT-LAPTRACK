{
 "cells": [
  {
   "cell_type": "code",
   "execution_count": 1,
   "id": "71b81668-2a04-47ea-85f2-1b249195ad09",
   "metadata": {},
   "outputs": [
    {
     "name": "stderr",
     "output_type": "stream",
     "text": [
      "/var/folders/5p/h0g4nrnj5fq_k9bbfh1drssh0000gn/T/ipykernel_19859/1925641067.py:5: DtypeWarning: Columns (1,4,7,8,9,10,12,13,14,15,16,17,18,19,20,21,22,23,24,25,40,41,45,46,64,69,80,81,92,107,108,114,120,124,125,126,133,138,145,148,153,159,164,165,166,167,171,176,185,186,191,199,200,203,210,211,212,213,215,218,221,223,227,230,233,234,236,237,238,241,243,244,249,251,252,253,254,256,258,259,262,263,267,268,269,272,273,274,275,277,287,288,289,290,291,293,294,295) have mixed types. Specify dtype option on import or set low_memory=False.\n",
      "  df_raw1 = pd.read_csv(rawfile_path1)\n"
     ]
    },
    {
     "data": {
      "text/plain": [
       "(3622, 296)"
      ]
     },
     "execution_count": 1,
     "metadata": {},
     "output_type": "execute_result"
    }
   ],
   "source": [
    "import pandas as pd\n",
    "\n",
    "\n",
    "rawfile_path1 = './amazon_laptop_data7.csv'\n",
    "rawfile_path2 = './amazon_laptop_data8.csv'\n",
    "df_raw1 = pd.read_csv(rawfile_path1)\n",
    "df_raw2 = pd.read_csv(rawfile_path2)\n",
    "\n",
    "df_raw = pd.concat([df_raw1,df_raw2], ignore_index=True, sort=False)\n",
    "df_raw.shape"
   ]
  },
  {
   "cell_type": "code",
   "execution_count": 16,
   "id": "09fd40ea-9da7-4786-8935-a4b39f3802af",
   "metadata": {},
   "outputs": [
    {
     "name": "stdout",
     "output_type": "stream",
     "text": [
      "(2138, 296)\n",
      "(1484, 296)\n"
     ]
    }
   ],
   "source": [
    "print(df_raw1.shape)\n",
    "print(df_raw2.shape)"
   ]
  },
  {
   "cell_type": "code",
   "execution_count": 3,
   "id": "d64f149d-094a-44fd-86bc-b7816e9d0797",
   "metadata": {},
   "outputs": [
    {
     "data": {
      "text/plain": [
       "0       Mini Android 12 Laptop Computer, Portable Smal...\n",
       "1       TPV 15.6\" Laptop Computer (Intel Core i5 / 16G...\n",
       "2       HP Elitebook 660 G11 16\" FHD+ Business AI Lapt...\n",
       "3       Apple 2024 MacBook Air 13-inch Laptop with M3 ...\n",
       "4       Apple 2024 MacBook Air 15-inch Laptop with M3 ...\n",
       "                              ...                        \n",
       "3617    Dell 11\" HD Convertible Touchscreen Chromebook...\n",
       "3618    ASUS Zenbook 14 Flip OLED Laptop, 14â€ OLED To...\n",
       "3619    2024 Newest 14\" Laptop Windows 11, 8GB RAM 512...\n",
       "3620    Dell Latitude 5540 15.6\" Notebook - Full HD - ...\n",
       "3621    HP Stream 14-inch Laptop for Student and Busin...\n",
       "Name: Title, Length: 3622, dtype: object"
      ]
     },
     "execution_count": 3,
     "metadata": {},
     "output_type": "execute_result"
    }
   ],
   "source": [
    "df_raw['Title']"
   ]
  },
  {
   "cell_type": "code",
   "execution_count": 6,
   "id": "35be228b-25bb-4ec2-8022-d6c15abab646",
   "metadata": {},
   "outputs": [],
   "source": [
    "df = df_raw.copy()"
   ]
  },
  {
   "cell_type": "code",
   "execution_count": 9,
   "id": "71cd3f13-d5b3-434d-a216-544836f2d1df",
   "metadata": {},
   "outputs": [],
   "source": [
    "import re\n",
    "# For Brand Name\n",
    "brandColumns = ['Other Technical Details_Brand','Product Details_Brand','New Product Details_Brand Name','New Product Details_Brand','Additional Details_Manufacturer']\n",
    "# Creating the new column with any non-naN value found from the chosen columns associated to Brand.\n",
    "df = df.copy()\n",
    "df['Brand'] = df[brandColumns].bfill(axis=1).iloc[:,0]\n",
    "\n",
    "df.loc[df['Brand'] == 'Harry Potter',['Brand']] = 'HP'\n",
    "df.loc[df['Brand'] == 'HEWLETT PACKARD',['Brand']] = 'HP'\n",
    "df.loc[df['Brand'] == 'hp',['Brand']] = 'HP'\n",
    "df.loc[df['Brand'].str.contains('lenovo', case=False, na=False), 'Brand'] = 'Lenovo'\n",
    "df.loc[df['Brand'].str.contains('acer', case=False, na=False), 'Brand'] = 'Acer'\n",
    "df.loc[df['Brand'].str.contains('dell', case=False, na=False), 'Brand'] = 'Dell'\n",
    "\n",
    "#Try to get Brands from Title\n",
    "potential_brands = ['HP','ASUS','Lenovo','DELL','MSI','Avita','Acer','Infinix','Apple','SAMSUNG','MICROSOFT','Ultimus''GIGABYTE','Colorful','ZEBRONICS','CHUWI','Thomson','realme','WINGS','AXL','ALIENWARE','Vaio','Primebook','walker']\n",
    "# Create a regex pattern that matches any of the brands\n",
    "pattern = r'\\b(' + '|'.join(re.escape(brand) for brand in potential_brands) + r')\\b'\n",
    "df = df.copy()\n",
    "# Use regex to find and set the brand name if it exists in the 'product_title'\n",
    "\n",
    "df['Brand'] = df.apply(\n",
    "    lambda row: re.search(pattern, str(row['Title'])).group(0) if isinstance(row['Title'], str) and re.search(pattern, row['Title']) else row['Brand'],\n",
    "    axis=1\n",
    ")"
   ]
  },
  {
   "cell_type": "code",
   "execution_count": 12,
   "id": "a6f332c1-43c8-4a5f-9bdc-335e93eb13da",
   "metadata": {},
   "outputs": [
    {
     "data": {
      "text/plain": [
       "array(['ZHAOHUIXIN', 'TPV', 'HP', 'Apple', 'Lenovo', 'ASUS', 'Acer',\n",
       "       'Dell', 'MSI', 'Zuleisy', 'Molegar', 'Microsoft', 'Alienware',\n",
       "       'ACEMAGIC', 'SGIN', 'SAIWAN', 'jumper', 'SAMSUNG', 'ApoloSign',\n",
       "       'Naclud', 'FUNYET', 'BiTECOOL', 'NIAKUN', 'ist computers',\n",
       "       'GIGABYTE', 'WIPEMIK', 'Oemgenuine', 'DELL', 'Lapbook', 'AimCare',\n",
       "       'KOOFORWAY', nan, 'Razer', 'LG', 'Panasonic', 'ZENAERO',\n",
       "       'INHONLAP', 'Maxsignage', 'CHUWI', 'ApoloMedia', 'LETSUNG',\n",
       "       'SAINTDISE', 'KOOSMILE', 'VGKE', 'ANPCOWER', 'Nmybwo', 'Coolby',\n",
       "       'THKGRCE', 'HP INC.', 'IJKKJI', 'Getac', 'ECOHERO',\n",
       "       'Gina Joyfurno', 'Gateway', 'KAIGERR', 'Akocrsiy', '8 GB', '6 MB',\n",
       "       '16 GB', '1 TB', '256', '512 GB', '256 GB', '64 KB', '64 GB',\n",
       "       '32 GB', 'Tiger Lake', '192 KB', '4 GB', '1024 GB', '128 KB', '64',\n",
       "       '15.99 GB', '128 GB', 'Bluetooth, Wi-Fi, USB, HDMI', 'Apollo Lake',\n",
       "       'USB, Ethernet, HDMI', '2 TB', 'Phoenix', '2.5 TB', 'sun4i-a13',\n",
       "       'Y-series', '4', 'A13', '128', '2 GB', '512', '40 GB', '36 GB',\n",
       "       '192 GB', '16', '4 MB', '128 MB', 'Alder Lake-U', 'i5', '640 GB',\n",
       "       '96 GB', 'USB, HDMI', 'Bluetooth, USB, HDMI', 'Wi-Fi, USB',\n",
       "       'Bluetooth, Wi-Fi, USB', 'Alder Lake', '516 GB', '18 GB'],\n",
       "      dtype=object)"
      ]
     },
     "execution_count": 12,
     "metadata": {},
     "output_type": "execute_result"
    }
   ],
   "source": [
    "df['Brand'].unique()"
   ]
  },
  {
   "cell_type": "code",
   "execution_count": 15,
   "id": "4985a1b3-f4bd-4d30-aaeb-59d0a360031d",
   "metadata": {},
   "outputs": [
    {
     "data": {
      "text/plain": [
       "(3622, 297)"
      ]
     },
     "execution_count": 15,
     "metadata": {},
     "output_type": "execute_result"
    }
   ],
   "source": [
    "df.shape"
   ]
  },
  {
   "cell_type": "code",
   "execution_count": 14,
   "id": "ec9b127f-7a4c-4ce2-8cb1-658b17321f22",
   "metadata": {},
   "outputs": [
    {
     "data": {
      "text/plain": [
       "['New Product Details_Operating System',\n",
       " 'Other Technical Details_Operating System',\n",
       " 'Product Details_Battery Cell Composition',\n",
       " 'Product Details_Operating System']"
      ]
     },
     "execution_count": 14,
     "metadata": {},
     "output_type": "execute_result"
    }
   ],
   "source": [
    "# For OS\n",
    "columns = df.columns\n",
    "osColumnsFiltered = [os for os in columns if 'operating'.lower() in os.lower() or 'os' in os.lower()]\n",
    "osColumnsFiltered"
   ]
  },
  {
   "cell_type": "code",
   "execution_count": 13,
   "id": "a8944ec3-6d62-4ef4-85d6-b45282cd822a",
   "metadata": {},
   "outputs": [
    {
     "ename": "KeyError",
     "evalue": "\"['Additional Details_OS', 'New Product Details_OS'] not in index\"",
     "output_type": "error",
     "traceback": [
      "\u001b[0;31m---------------------------------------------------------------------------\u001b[0m",
      "\u001b[0;31mKeyError\u001b[0m                                  Traceback (most recent call last)",
      "Cell \u001b[0;32mIn[13], line 3\u001b[0m\n\u001b[1;32m      1\u001b[0m osColumns \u001b[38;5;241m=\u001b[39m [\u001b[38;5;124m'\u001b[39m\u001b[38;5;124mProduct Details_Operating System\u001b[39m\u001b[38;5;124m'\u001b[39m,\u001b[38;5;124m'\u001b[39m\u001b[38;5;124mAdditional Details_OS\u001b[39m\u001b[38;5;124m'\u001b[39m,\u001b[38;5;124m'\u001b[39m\u001b[38;5;124mNew Product Details_OS\u001b[39m\u001b[38;5;124m'\u001b[39m,\u001b[38;5;124m'\u001b[39m\u001b[38;5;124mNew Product Details_Operating System\u001b[39m\u001b[38;5;124m'\u001b[39m,\u001b[38;5;124m'\u001b[39m\u001b[38;5;124mOther Technical Details_Operating System\u001b[39m\u001b[38;5;124m'\u001b[39m]\n\u001b[1;32m      2\u001b[0m df \u001b[38;5;241m=\u001b[39m df\u001b[38;5;241m.\u001b[39mcopy()\n\u001b[0;32m----> 3\u001b[0m df[\u001b[38;5;124m'\u001b[39m\u001b[38;5;124mOperating_System\u001b[39m\u001b[38;5;124m'\u001b[39m] \u001b[38;5;241m=\u001b[39m \u001b[43mdf\u001b[49m\u001b[43m[\u001b[49m\u001b[43mosColumns\u001b[49m\u001b[43m]\u001b[49m\u001b[38;5;241m.\u001b[39mbfill(axis\u001b[38;5;241m=\u001b[39m\u001b[38;5;241m1\u001b[39m)\u001b[38;5;241m.\u001b[39miloc[:,\u001b[38;5;241m0\u001b[39m]\n",
      "File \u001b[0;32m/opt/homebrew/lib/python3.11/site-packages/pandas/core/frame.py:4108\u001b[0m, in \u001b[0;36mDataFrame.__getitem__\u001b[0;34m(self, key)\u001b[0m\n\u001b[1;32m   4106\u001b[0m     \u001b[38;5;28;01mif\u001b[39;00m is_iterator(key):\n\u001b[1;32m   4107\u001b[0m         key \u001b[38;5;241m=\u001b[39m \u001b[38;5;28mlist\u001b[39m(key)\n\u001b[0;32m-> 4108\u001b[0m     indexer \u001b[38;5;241m=\u001b[39m \u001b[38;5;28;43mself\u001b[39;49m\u001b[38;5;241;43m.\u001b[39;49m\u001b[43mcolumns\u001b[49m\u001b[38;5;241;43m.\u001b[39;49m\u001b[43m_get_indexer_strict\u001b[49m\u001b[43m(\u001b[49m\u001b[43mkey\u001b[49m\u001b[43m,\u001b[49m\u001b[43m \u001b[49m\u001b[38;5;124;43m\"\u001b[39;49m\u001b[38;5;124;43mcolumns\u001b[39;49m\u001b[38;5;124;43m\"\u001b[39;49m\u001b[43m)\u001b[49m[\u001b[38;5;241m1\u001b[39m]\n\u001b[1;32m   4110\u001b[0m \u001b[38;5;66;03m# take() does not accept boolean indexers\u001b[39;00m\n\u001b[1;32m   4111\u001b[0m \u001b[38;5;28;01mif\u001b[39;00m \u001b[38;5;28mgetattr\u001b[39m(indexer, \u001b[38;5;124m\"\u001b[39m\u001b[38;5;124mdtype\u001b[39m\u001b[38;5;124m\"\u001b[39m, \u001b[38;5;28;01mNone\u001b[39;00m) \u001b[38;5;241m==\u001b[39m \u001b[38;5;28mbool\u001b[39m:\n",
      "File \u001b[0;32m/opt/homebrew/lib/python3.11/site-packages/pandas/core/indexes/base.py:6200\u001b[0m, in \u001b[0;36mIndex._get_indexer_strict\u001b[0;34m(self, key, axis_name)\u001b[0m\n\u001b[1;32m   6197\u001b[0m \u001b[38;5;28;01melse\u001b[39;00m:\n\u001b[1;32m   6198\u001b[0m     keyarr, indexer, new_indexer \u001b[38;5;241m=\u001b[39m \u001b[38;5;28mself\u001b[39m\u001b[38;5;241m.\u001b[39m_reindex_non_unique(keyarr)\n\u001b[0;32m-> 6200\u001b[0m \u001b[38;5;28;43mself\u001b[39;49m\u001b[38;5;241;43m.\u001b[39;49m\u001b[43m_raise_if_missing\u001b[49m\u001b[43m(\u001b[49m\u001b[43mkeyarr\u001b[49m\u001b[43m,\u001b[49m\u001b[43m \u001b[49m\u001b[43mindexer\u001b[49m\u001b[43m,\u001b[49m\u001b[43m \u001b[49m\u001b[43maxis_name\u001b[49m\u001b[43m)\u001b[49m\n\u001b[1;32m   6202\u001b[0m keyarr \u001b[38;5;241m=\u001b[39m \u001b[38;5;28mself\u001b[39m\u001b[38;5;241m.\u001b[39mtake(indexer)\n\u001b[1;32m   6203\u001b[0m \u001b[38;5;28;01mif\u001b[39;00m \u001b[38;5;28misinstance\u001b[39m(key, Index):\n\u001b[1;32m   6204\u001b[0m     \u001b[38;5;66;03m# GH 42790 - Preserve name from an Index\u001b[39;00m\n",
      "File \u001b[0;32m/opt/homebrew/lib/python3.11/site-packages/pandas/core/indexes/base.py:6252\u001b[0m, in \u001b[0;36mIndex._raise_if_missing\u001b[0;34m(self, key, indexer, axis_name)\u001b[0m\n\u001b[1;32m   6249\u001b[0m     \u001b[38;5;28;01mraise\u001b[39;00m \u001b[38;5;167;01mKeyError\u001b[39;00m(\u001b[38;5;124mf\u001b[39m\u001b[38;5;124m\"\u001b[39m\u001b[38;5;124mNone of [\u001b[39m\u001b[38;5;132;01m{\u001b[39;00mkey\u001b[38;5;132;01m}\u001b[39;00m\u001b[38;5;124m] are in the [\u001b[39m\u001b[38;5;132;01m{\u001b[39;00maxis_name\u001b[38;5;132;01m}\u001b[39;00m\u001b[38;5;124m]\u001b[39m\u001b[38;5;124m\"\u001b[39m)\n\u001b[1;32m   6251\u001b[0m not_found \u001b[38;5;241m=\u001b[39m \u001b[38;5;28mlist\u001b[39m(ensure_index(key)[missing_mask\u001b[38;5;241m.\u001b[39mnonzero()[\u001b[38;5;241m0\u001b[39m]]\u001b[38;5;241m.\u001b[39munique())\n\u001b[0;32m-> 6252\u001b[0m \u001b[38;5;28;01mraise\u001b[39;00m \u001b[38;5;167;01mKeyError\u001b[39;00m(\u001b[38;5;124mf\u001b[39m\u001b[38;5;124m\"\u001b[39m\u001b[38;5;132;01m{\u001b[39;00mnot_found\u001b[38;5;132;01m}\u001b[39;00m\u001b[38;5;124m not in index\u001b[39m\u001b[38;5;124m\"\u001b[39m)\n",
      "\u001b[0;31mKeyError\u001b[0m: \"['Additional Details_OS', 'New Product Details_OS'] not in index\""
     ]
    }
   ],
   "source": [
    "osColumns = ['Product Details_Operating System','Additional Details_OS','New Product Details_OS','New Product Details_Operating System','Other Technical Details_Operating System']\n",
    "df = df.copy()\n",
    "df['Operating_System'] = df[osColumns].bfill(axis=1).iloc[:,0]"
   ]
  },
  {
   "cell_type": "code",
   "execution_count": 2,
   "id": "4ad7275e-54cf-48cd-9de7-dadc432b3c79",
   "metadata": {},
   "outputs": [],
   "source": [
    "# Export DataFrame to CSV\n",
    "df_raw.to_csv('amazon_scraped_data_1.csv', index=False)"
   ]
  },
  {
   "cell_type": "code",
   "execution_count": null,
   "id": "3a04df05-5ab2-4cd4-a936-5f9821ce363e",
   "metadata": {},
   "outputs": [],
   "source": []
  }
 ],
 "metadata": {
  "kernelspec": {
   "display_name": "Python 3 (ipykernel)",
   "language": "python",
   "name": "python3"
  },
  "language_info": {
   "codemirror_mode": {
    "name": "ipython",
    "version": 3
   },
   "file_extension": ".py",
   "mimetype": "text/x-python",
   "name": "python",
   "nbconvert_exporter": "python",
   "pygments_lexer": "ipython3",
   "version": "3.11.10"
  }
 },
 "nbformat": 4,
 "nbformat_minor": 5
}
