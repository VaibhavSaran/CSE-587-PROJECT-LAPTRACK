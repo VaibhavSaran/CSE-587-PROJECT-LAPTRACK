{
 "cells": [
  {
   "cell_type": "markdown",
   "id": "f38b0f7c-bde3-44a6-9bd3-8d773744da46",
   "metadata": {},
   "source": [
    "# 1. Importing Modules"
   ]
  },
  {
   "cell_type": "code",
   "execution_count": 1,
   "id": "531360f3-1931-4f74-bf46-30bb29b31805",
   "metadata": {},
   "outputs": [],
   "source": [
    "import numpy as np\n",
    "import pandas as pd\n",
    "import sqlite3\n",
    "import matplotlib.pyplot as plt\n",
    "import seaborn as sns\n",
    "import warnings\n",
    "warnings.filterwarnings(\"ignore\")"
   ]
  },
  {
   "cell_type": "markdown",
   "id": "ea78cb09-7909-41a0-8b68-c7fb21f192a9",
   "metadata": {},
   "source": [
    "# 2. Loading The Dataset"
   ]
  },
  {
   "cell_type": "code",
   "execution_count": 2,
   "id": "c256b268-9ca4-40f7-abef-574fc1b243bd",
   "metadata": {},
   "outputs": [
    {
     "data": {
      "text/html": [
       "<div>\n",
       "<style scoped>\n",
       "    .dataframe tbody tr th:only-of-type {\n",
       "        vertical-align: middle;\n",
       "    }\n",
       "\n",
       "    .dataframe tbody tr th {\n",
       "        vertical-align: top;\n",
       "    }\n",
       "\n",
       "    .dataframe thead th {\n",
       "        text-align: right;\n",
       "    }\n",
       "</style>\n",
       "<table border=\"1\" class=\"dataframe\">\n",
       "  <thead>\n",
       "    <tr style=\"text-align: right;\">\n",
       "      <th></th>\n",
       "      <th>Laptop_Brand</th>\n",
       "      <th>Laptop_Name</th>\n",
       "      <th>Processor_Company</th>\n",
       "      <th>Operating_System</th>\n",
       "      <th>Processor</th>\n",
       "      <th>Number_of_Reviews</th>\n",
       "      <th>Price</th>\n",
       "      <th>Storage_Type</th>\n",
       "      <th>Storage</th>\n",
       "      <th>Rating</th>\n",
       "      <th>Screen_Size</th>\n",
       "      <th>RAM</th>\n",
       "      <th>Source</th>\n",
       "    </tr>\n",
       "  </thead>\n",
       "  <tbody>\n",
       "    <tr>\n",
       "      <th>0</th>\n",
       "      <td>ZHAOHUIXIN</td>\n",
       "      <td>PC1068</td>\n",
       "      <td>Alwinner</td>\n",
       "      <td>Android</td>\n",
       "      <td>1.8 GHz a13</td>\n",
       "      <td>1</td>\n",
       "      <td>119.99</td>\n",
       "      <td>EMMC</td>\n",
       "      <td>64</td>\n",
       "      <td>4.5</td>\n",
       "      <td>10.1</td>\n",
       "      <td>2</td>\n",
       "      <td>Amazon</td>\n",
       "    </tr>\n",
       "    <tr>\n",
       "      <th>1</th>\n",
       "      <td>TPV</td>\n",
       "      <td>AceBook</td>\n",
       "      <td>Intel</td>\n",
       "      <td>Windows 11 Pro</td>\n",
       "      <td>Core i5</td>\n",
       "      <td>13</td>\n",
       "      <td>309.99</td>\n",
       "      <td>SSD</td>\n",
       "      <td>512</td>\n",
       "      <td>4.5</td>\n",
       "      <td>15.6</td>\n",
       "      <td>16</td>\n",
       "      <td>Amazon</td>\n",
       "    </tr>\n",
       "    <tr>\n",
       "      <th>2</th>\n",
       "      <td>HP</td>\n",
       "      <td>Elitebook</td>\n",
       "      <td>Intel</td>\n",
       "      <td>Windows 11 Pro</td>\n",
       "      <td>Intel Core i7</td>\n",
       "      <td>5</td>\n",
       "      <td>1079</td>\n",
       "      <td>SSD</td>\n",
       "      <td>2048</td>\n",
       "      <td>4</td>\n",
       "      <td>16.0</td>\n",
       "      <td>32</td>\n",
       "      <td>Amazon</td>\n",
       "    </tr>\n",
       "    <tr>\n",
       "      <th>3</th>\n",
       "      <td>Apple</td>\n",
       "      <td>MacBook Air</td>\n",
       "      <td>Apple</td>\n",
       "      <td>Mac OS</td>\n",
       "      <td>Apple M3</td>\n",
       "      <td>0</td>\n",
       "      <td>929</td>\n",
       "      <td>SSD</td>\n",
       "      <td>256</td>\n",
       "      <td>4</td>\n",
       "      <td>13.6</td>\n",
       "      <td>8</td>\n",
       "      <td>Amazon</td>\n",
       "    </tr>\n",
       "    <tr>\n",
       "      <th>4</th>\n",
       "      <td>Apple</td>\n",
       "      <td>MacBook Air</td>\n",
       "      <td>Apple</td>\n",
       "      <td>Mac OS</td>\n",
       "      <td>Apple M3</td>\n",
       "      <td>0</td>\n",
       "      <td>1449</td>\n",
       "      <td>SSD</td>\n",
       "      <td>512</td>\n",
       "      <td>4</td>\n",
       "      <td>15.3</td>\n",
       "      <td>16</td>\n",
       "      <td>Amazon</td>\n",
       "    </tr>\n",
       "  </tbody>\n",
       "</table>\n",
       "</div>"
      ],
      "text/plain": [
       "  Laptop_Brand  Laptop_Name Processor_Company Operating_System      Processor  \\\n",
       "0   ZHAOHUIXIN       PC1068          Alwinner          Android    1.8 GHz a13   \n",
       "1          TPV      AceBook             Intel   Windows 11 Pro        Core i5   \n",
       "2           HP    Elitebook             Intel   Windows 11 Pro  Intel Core i7   \n",
       "3        Apple  MacBook Air             Apple           Mac OS       Apple M3   \n",
       "4        Apple  MacBook Air             Apple           Mac OS       Apple M3   \n",
       "\n",
       "   Number_of_Reviews   Price Storage_Type Storage Rating  Screen_Size  RAM  \\\n",
       "0                  1  119.99         EMMC      64    4.5         10.1    2   \n",
       "1                 13  309.99          SSD     512    4.5         15.6   16   \n",
       "2                  5    1079          SSD    2048      4         16.0   32   \n",
       "3                  0     929          SSD     256      4         13.6    8   \n",
       "4                  0    1449          SSD     512      4         15.3   16   \n",
       "\n",
       "   Source  \n",
       "0  Amazon  \n",
       "1  Amazon  \n",
       "2  Amazon  \n",
       "3  Amazon  \n",
       "4  Amazon  "
      ]
     },
     "execution_count": 2,
     "metadata": {},
     "output_type": "execute_result"
    }
   ],
   "source": [
    "# Establishing the connection to sqlite3 database\n",
    "cursor = sqlite3.connect(r'database\\laptrack.db')\n",
    "\n",
    "# Read the data fetched from SQL query on the database\n",
    "laptop_df = pd.read_sql_query(\"SELECT * FROM Laptop_Ver_1\", cursor)\n",
    "\n",
    "# Closing the Database cursor\n",
    "cursor.close()\n",
    "\n",
    "laptop_df.head()"
   ]
  },
  {
   "cell_type": "markdown",
   "id": "ed80b1d8-89da-4e10-9893-c92ebe6a2575",
   "metadata": {},
   "source": [
    "# 3. Preparing the dataset for Model Building"
   ]
  },
  {
   "cell_type": "code",
   "execution_count": null,
   "id": "0dd1f49a-3db8-450a-9ed3-5f66f7e60c09",
   "metadata": {},
   "outputs": [],
   "source": [
    "# Splitting the data into train test split\n",
    "from sklearn.model_selection import train_test_split\n",
    "\n",
    "# Segregating Input and Output Variables\n",
    "# TODO: Optional If feature selection is done\n",
    "X = laptop_df.drop(columns = ['Price'])\n",
    "y = laptop_df['Price']\n",
    "\n",
    "# Splitting the data into train and test using 80 20  stratified split to \n",
    "# preserve the ratios pf various categories present in the dataset\n",
    "X_train, X_test, y_train, y_test = train_test_split(X, y, test_size=0.2, random_state=42, stratify=y)\n",
    "\n",
    "# Convert to DataFrames with original column names\n",
    "# TODO : add proper column names\n",
    "X_train = pd.DataFrame(X_train, columns=highly_correlated_features)\n",
    "X_test = pd.DataFrame(X_test, columns=highly_correlated_features)\n",
    "y_train = pd.DataFrame(y_train, columns=['Price'])\n",
    "y_test = pd.DataFrame(y_test, columns=['Price'])\n",
    "\n",
    "print(\"Training set shape:\", X_train.shape)\n",
    "print(\"Training labels shape:\", y_train.shape)\n",
    "print(\"Test set shape:\", X_test.shape)\n",
    "print(\"Test labels shape:\", y_test.shape)"
   ]
  },
  {
   "cell_type": "code",
   "execution_count": null,
   "id": "ec4a6f47-d3dd-48cb-aea3-e7fb9a096d5d",
   "metadata": {},
   "outputs": [],
   "source": [
    "# Perform Robust Scaling on Numerical Data\n",
    "from sklearn.preprocessing import RobustScaler\n",
    "\n",
    "scaler = RobustScaler()\n",
    "\n",
    "# TODO: The following code might need a slight modification depending upon the features\n",
    "X_train_scaled = pd.DataFrame(scaler.fit_transform(X_train), columns=X_train.columns, index=X_train.index)\n",
    "X_test_scaled = pd.DataFrame(scaler.transform(X_test), columns=X_test.columns, index=X_test.index)\n",
    "\n",
    "print(\"Scaled Training set shape:\", X_train_scaled.shape)\n",
    "print(\"Scaled Test set shape:\", X_test_scaled.shape)"
   ]
  },
  {
   "cell_type": "markdown",
   "id": "b4abbcf4-62fd-481f-9722-66726fe067c7",
   "metadata": {},
   "source": [
    "# 4. Model Building"
   ]
  },
  {
   "cell_type": "code",
   "execution_count": null,
   "id": "521b55c4-718f-40ed-9770-e4c12840714b",
   "metadata": {},
   "outputs": [],
   "source": [
    "# Lists to store prediction of each model and the trained model object\n",
    "y_pred_reg_models = []\n",
    "reg_model = []"
   ]
  },
  {
   "cell_type": "markdown",
   "id": "6897878b-d04e-40ff-854a-87a423ba0a0f",
   "metadata": {},
   "source": [
    "## 4.1 KNN Regressor"
   ]
  },
  {
   "cell_type": "code",
   "execution_count": null,
   "id": "77410030-d898-4022-89b4-ed4dcd4e4c61",
   "metadata": {},
   "outputs": [],
   "source": [
    "# KNN Regressor\n",
    "from sklearn.neighbors import KNeighborsRegressor\n",
    "\n",
    "knn_regressor = KNeighborsRegressor(n_neighbors=5)\n",
    "knn_regressor.fit(X_train_scaled, y_train)\n",
    "\n",
    "y_pred_knn_regressor = knn_regressor.predict(X_test_scaled)"
   ]
  },
  {
   "cell_type": "code",
   "execution_count": null,
   "id": "1498f05b-22ae-48e1-b124-e15fdb0c6eec",
   "metadata": {},
   "outputs": [],
   "source": [
    "y_pred_reg_models.append(y_pred_knn_regressor)"
   ]
  },
  {
   "cell_type": "code",
   "execution_count": null,
   "id": "28399e9c-e1e1-4b74-a13a-ef6ce51b0ea0",
   "metadata": {},
   "outputs": [],
   "source": [
    "reg_model.append(knn_regressor)"
   ]
  },
  {
   "cell_type": "markdown",
   "id": "819b3ea4-35f2-4e62-99ae-f39811a8c200",
   "metadata": {},
   "source": [
    "## 4.2 Decision Tree Regressor"
   ]
  },
  {
   "cell_type": "code",
   "execution_count": null,
   "id": "7197811e-acda-4aa4-b371-de92cd0b0661",
   "metadata": {},
   "outputs": [],
   "source": [
    "# Decision Tree Regressor\n",
    "from sklearn.tree import DecisionTreeRegressor\n",
    "\n",
    "decision_tree_regressor = DecisionTreeRegressor(random_state=42)\n",
    "decision_tree_regressor.fit(X_train_scaled, y_train)\n",
    "\n",
    "y_pred_decision_tree = decision_tree_regressor.predict(X_test_scaled)"
   ]
  },
  {
   "cell_type": "code",
   "execution_count": null,
   "id": "a179c211-971c-41bd-a705-e1acd88a35bf",
   "metadata": {},
   "outputs": [],
   "source": [
    "y_pred_reg_models.append(y_pred_decision_tree)"
   ]
  },
  {
   "cell_type": "code",
   "execution_count": null,
   "id": "6a5c1b71-1a21-4f07-894e-ebdaa26e541f",
   "metadata": {},
   "outputs": [],
   "source": [
    "reg_model.append(decision_tree_regressor)"
   ]
  },
  {
   "cell_type": "markdown",
   "id": "a03a336b-add8-4ecd-9e25-2b38c81a8c41",
   "metadata": {},
   "source": [
    "## 4.3 Linear Regression"
   ]
  },
  {
   "cell_type": "code",
   "execution_count": null,
   "id": "eebea1dc-fc7c-4c13-85bf-c342d08f6a3c",
   "metadata": {},
   "outputs": [],
   "source": [
    "# Linear Regression\n",
    "from sklearn.linear_model import LinearRegression\n",
    "\n",
    "linear_regressor = LinearRegression()\n",
    "linear_regressor.fit(X_train_scaled, y_train)\n",
    "\n",
    "y_pred_linear = linear_regressor.predict(X_test_scaled)"
   ]
  },
  {
   "cell_type": "code",
   "execution_count": null,
   "id": "326b64f9-c2ce-4a65-8fa9-f503d92010e8",
   "metadata": {},
   "outputs": [],
   "source": [
    "y_pred_reg_models.append(y_pred_linear)"
   ]
  },
  {
   "cell_type": "code",
   "execution_count": null,
   "id": "f770eec0-2cd8-40cb-b50e-bbfb33328fe7",
   "metadata": {},
   "outputs": [],
   "source": [
    "reg_model.append(linear_regressor)"
   ]
  },
  {
   "cell_type": "markdown",
   "id": "2945e639-d268-4407-a6d2-5dee2dcc046d",
   "metadata": {},
   "source": [
    "## 4.4 Ridge Regression"
   ]
  },
  {
   "cell_type": "code",
   "execution_count": null,
   "id": "337cf837-56e5-4e91-ad51-709ff64f7b47",
   "metadata": {},
   "outputs": [],
   "source": [
    "# Ridge Regression\n",
    "from sklearn.linear_model import Ridge\n",
    "\n",
    "ridge_regressor = Ridge(alpha=1.0)\n",
    "ridge_regressor.fit(X_train_scaled, y_train)\n",
    "\n",
    "y_pred_ridge = ridge_regressor.predict(X_test_scaled)"
   ]
  },
  {
   "cell_type": "code",
   "execution_count": null,
   "id": "333770dd-2ef9-4889-ac6d-32d531182d6b",
   "metadata": {},
   "outputs": [],
   "source": [
    "y_pred_reg_models.append(y_pred_ridge)"
   ]
  },
  {
   "cell_type": "code",
   "execution_count": null,
   "id": "6e2f23ee-9d77-427c-a6b9-b8f316da904f",
   "metadata": {},
   "outputs": [],
   "source": [
    "reg_model.append(ridge_regressor)"
   ]
  },
  {
   "cell_type": "markdown",
   "id": "7eb545bf-b651-4357-8f81-be677d5d3427",
   "metadata": {},
   "source": [
    "## 4.5 Lasso Regression"
   ]
  },
  {
   "cell_type": "code",
   "execution_count": null,
   "id": "e3d4b495-7b3c-4590-8194-fd681fe56c6f",
   "metadata": {},
   "outputs": [],
   "source": [
    "# Lasso Regression\n",
    "from sklearn.linear_model import Lasso\n",
    "\n",
    "lasso_regressor = Lasso(alpha=0.1)\n",
    "lasso_regressor.fit(X_train_scaled, y_train)\n",
    "\n",
    "y_pred_lasso = lasso_regressor.predict(X_test_scaled)"
   ]
  },
  {
   "cell_type": "code",
   "execution_count": null,
   "id": "c7429be3-4ce0-4b64-a177-ee676b50a861",
   "metadata": {},
   "outputs": [],
   "source": [
    "y_pred_reg_models.append(y_pred_lasso)"
   ]
  },
  {
   "cell_type": "code",
   "execution_count": null,
   "id": "d0d8f517-c0ea-4cfc-a7db-cde4efff1ecf",
   "metadata": {},
   "outputs": [],
   "source": [
    "reg_model.append(lasso_regressor)"
   ]
  },
  {
   "cell_type": "markdown",
   "id": "5c3a37d1-7dfb-4914-b575-df47d10fd3ca",
   "metadata": {},
   "source": [
    "## 4.6 RANSAC Regression"
   ]
  },
  {
   "cell_type": "code",
   "execution_count": null,
   "id": "f875ac36-4341-4303-9c4f-958ee703e9b7",
   "metadata": {},
   "outputs": [],
   "source": [
    "# RANSAC Regression\n",
    "from sklearn.linear_model import RANSACRegressor\n",
    "from sklearn.linear_model import LinearRegression\n",
    "\n",
    "ransac_regressor = RANSACRegressor(estimator=LinearRegression(), random_state=42)\n",
    "ransac_regressor.fit(X_train_scaled, y_train)\n",
    "\n",
    "y_pred_ransac = ransac_regressor.predict(X_test_scaled)"
   ]
  },
  {
   "cell_type": "code",
   "execution_count": null,
   "id": "21fd09e4-d5d0-47b1-acef-00736fa92c7b",
   "metadata": {},
   "outputs": [],
   "source": [
    "y_pred_reg_models.append(y_pred_ransac)"
   ]
  },
  {
   "cell_type": "code",
   "execution_count": null,
   "id": "0a6963c8-561b-4d22-83ba-4e807bc1ae7b",
   "metadata": {},
   "outputs": [],
   "source": [
    "reg_model.append(ransac_regressor)"
   ]
  },
  {
   "cell_type": "markdown",
   "id": "9b7a514e-0de6-4158-a295-cd703d53789f",
   "metadata": {},
   "source": [
    "## 4.7 Theil-Sen Regression"
   ]
  },
  {
   "cell_type": "code",
   "execution_count": null,
   "id": "c5f759a0-f0fa-46c7-9397-017e5d3dc0fa",
   "metadata": {},
   "outputs": [],
   "source": [
    "# Theil-Sen Regression\n",
    "from sklearn.linear_model import TheilSenRegressor\n",
    "\n",
    "theil_sen_regressor = TheilSenRegressor(random_state=42)\n",
    "theil_sen_regressor.fit(X_train_scaled, y_train)\n",
    "\n",
    "y_pred_theil_sen = theil_sen_regressor.predict(X_test_scaled)"
   ]
  },
  {
   "cell_type": "code",
   "execution_count": null,
   "id": "983e23c5-46f5-47fb-af38-eb300278af05",
   "metadata": {},
   "outputs": [],
   "source": [
    "y_pred_reg_models.append(y_pred_theil_sen)"
   ]
  },
  {
   "cell_type": "code",
   "execution_count": null,
   "id": "1c50e2d5-13bb-4fee-a5df-b6ac7226bcbf",
   "metadata": {},
   "outputs": [],
   "source": [
    "reg_model.append(theil_sen_regressor)"
   ]
  },
  {
   "cell_type": "markdown",
   "id": "d751c735-9acd-4e66-81f9-75ebffcc7a61",
   "metadata": {},
   "source": [
    "## 4.8 SVM Regression"
   ]
  },
  {
   "cell_type": "code",
   "execution_count": null,
   "id": "8e218e29-5049-4e37-bec9-a39eac7fd49a",
   "metadata": {},
   "outputs": [],
   "source": [
    "# SVM Regression\n",
    "from sklearn.svm import SVR\n",
    "\n",
    "svm_regressor = SVR(kernel='rbf')\n",
    "svm_regressor.fit(X_train_scaled, y_train)\n",
    "\n",
    "y_pred_svm = svm_regressor.predict(X_test_scaled)"
   ]
  },
  {
   "cell_type": "code",
   "execution_count": null,
   "id": "1d92a797-17a1-44b9-a59a-486081132cf9",
   "metadata": {},
   "outputs": [],
   "source": [
    "y_pred_reg_models.append(y_pred_svm)"
   ]
  },
  {
   "cell_type": "code",
   "execution_count": null,
   "id": "1190c254-1d34-4e10-b0e2-ca409677501d",
   "metadata": {},
   "outputs": [],
   "source": [
    "reg_model.append(svm_regressor)"
   ]
  },
  {
   "cell_type": "markdown",
   "id": "3f12507f-e243-4a38-abeb-4efdd62d667e",
   "metadata": {},
   "source": [
    "## 4.9 Random Forest Regression"
   ]
  },
  {
   "cell_type": "code",
   "execution_count": null,
   "id": "ba9a6ef2-4ca2-4c1c-98a5-b1cede324eb9",
   "metadata": {},
   "outputs": [],
   "source": [
    "# Random Forest Regression\n",
    "from sklearn.ensemble import RandomForestRegressor\n",
    "\n",
    "random_forest_regressor = RandomForestRegressor(random_state=42)\n",
    "random_forest_regressor.fit(X_train_scaled, y_train)\n",
    "\n",
    "y_pred_random_forest = random_forest_regressor.predict(X_test_scaled)"
   ]
  },
  {
   "cell_type": "code",
   "execution_count": null,
   "id": "345d1901-3c63-47fb-9d2a-c9b50c0e1478",
   "metadata": {},
   "outputs": [],
   "source": [
    "y_pred_reg_models.append(y_pred_random_forest)"
   ]
  },
  {
   "cell_type": "code",
   "execution_count": null,
   "id": "bd5a0875-b4ce-478e-be83-22fc71cdb0fc",
   "metadata": {},
   "outputs": [],
   "source": [
    "reg_model.append(random_forest_regressor)"
   ]
  },
  {
   "cell_type": "markdown",
   "id": "c831dc56-16de-4c88-8b2c-901834df6f5f",
   "metadata": {},
   "source": [
    "## 4.10 GBDT Regression"
   ]
  },
  {
   "cell_type": "code",
   "execution_count": null,
   "id": "610012ad-4b65-4739-b457-815cd6027abf",
   "metadata": {},
   "outputs": [],
   "source": [
    "# GBDT Regression\n",
    "from sklearn.ensemble import GradientBoostingRegressor\n",
    "\n",
    "gbdt_regressor = GradientBoostingRegressor(random_state=42)\n",
    "gbdt_regressor.fit(X_train_scaled, y_train)\n",
    "\n",
    "y_pred_gbdt = gbdt_regressor.predict(X_test_scaled)"
   ]
  },
  {
   "cell_type": "code",
   "execution_count": null,
   "id": "c0fa9cb7-0934-4c37-b07e-18c9d20551d5",
   "metadata": {},
   "outputs": [],
   "source": [
    "y_pred_reg_models.append(y_pred_gbdt)"
   ]
  },
  {
   "cell_type": "code",
   "execution_count": null,
   "id": "e33ff736-d1c7-4350-b76b-f68e0a9ad60e",
   "metadata": {},
   "outputs": [],
   "source": [
    "reg_model.append(gbdt_regressor)"
   ]
  },
  {
   "cell_type": "markdown",
   "id": "dddfdae2-3694-49b5-a38d-f4bfc7171588",
   "metadata": {},
   "source": [
    "## 4.11 XGBoost Regression"
   ]
  },
  {
   "cell_type": "code",
   "execution_count": null,
   "id": "4551b452-61b6-468c-9197-e423b2d8deb3",
   "metadata": {},
   "outputs": [],
   "source": [
    "# XGBoost Regression\n",
    "from xgboost import XGBRegressor\n",
    "\n",
    "xgb_regressor = XGBRegressor(random_state=42)\n",
    "xgb_regressor.fit(X_train_scaled, y_train)\n",
    "\n",
    "y_pred_xgb = xgb_regressor.predict(X_test_scaled)"
   ]
  },
  {
   "cell_type": "code",
   "execution_count": null,
   "id": "d7c56192-1fb8-4be0-a1d1-20ad72ff1ab9",
   "metadata": {},
   "outputs": [],
   "source": [
    "y_pred_reg_models.append(y_pred_xgb)"
   ]
  },
  {
   "cell_type": "code",
   "execution_count": null,
   "id": "f4f75676-6952-40d4-9579-31a096efeafc",
   "metadata": {},
   "outputs": [],
   "source": [
    "reg_model.append(xgb_regressor)"
   ]
  },
  {
   "cell_type": "markdown",
   "id": "83f44059-6a79-4bb5-80f9-93d44232ee37",
   "metadata": {},
   "source": [
    "# 5. Model Evaluation"
   ]
  },
  {
   "cell_type": "code",
   "execution_count": null,
   "id": "42ba54fb-152b-4241-9bab-82be15ab9779",
   "metadata": {},
   "outputs": [],
   "source": [
    "# First evaluating with MSE in order to identify the best models\n",
    "from sklearn.metrics import mean_squared_error\n",
    "\n",
    "mse_values = []\n",
    "\n",
    "\n",
    "# for each model computing the MSE\n",
    "for y_pred in y_pred_reg_models:\n",
    "    mse = mean_squared_error(y_test, y_pred)\n",
    "    mse_values.append(mse)\n",
    "\n",
    "mse_df = pd.DataFrame({'Model': reg_model,'MSE': mse_values})\n",
    "\n",
    "mse_df = mse_df.sort_values(by='MSE')\n",
    "\n",
    "mse_df"
   ]
  },
  {
   "cell_type": "code",
   "execution_count": null,
   "id": "85b3a1c8-e0c3-454d-b165-535bbaa8bce8",
   "metadata": {},
   "outputs": [],
   "source": [
    "import re\n",
    "\n",
    "# Function to extract model name from the 'Model' column\n",
    "def extract_model_name(model):\n",
    "    \n",
    "    # Extracts the model name before the first '(' if present\n",
    "    return re.split(r'\\(', str(model))[0]\n",
    "\n",
    "mse_df['Model Name'] = mse_df['Model'].apply(extract_model_name)\n",
    "\n",
    "# Reorder the columns to have 'Model Name' as the first column\n",
    "mse_df = mse_df[['Model Name', 'Model', 'MSE']]\n",
    "\n",
    "mse_df"
   ]
  },
  {
   "cell_type": "code",
   "execution_count": null,
   "id": "247f62f8-cdba-42c0-b02a-e93aba4c6d49",
   "metadata": {},
   "outputs": [],
   "source": [
    "plt.figure(figsize=(10, 6))\n",
    "sns.barplot(x='MSE', y='Model Name', data=mse_df, hue=\"Model Name\", palette='viridis')\n",
    "plt.title('Mean Squared Error for Regression Models')\n",
    "plt.xlabel('Mean Squared Error')\n",
    "plt.ylabel('Model')\n",
    "plt.show()"
   ]
  },
  {
   "cell_type": "code",
   "execution_count": null,
   "id": "10ad7b97-2059-4533-ad04-758a6ab54de8",
   "metadata": {},
   "outputs": [],
   "source": [
    "# Computing R2 Scores and Adjusted R2 Scores to check how good the model is in reality\n",
    "from sklearn.metrics import r2_score\n",
    "\n",
    "top_models_df = mse_df.head(3)\n",
    "\n",
    "r2_scores = []\n",
    "adj_r2_scores = []\n",
    "\n",
    "n = len(y_test)  \n",
    "\n",
    "for i, row in top_models_df.iterrows():\n",
    "\n",
    "    model_name = row['Model']\n",
    "    \n",
    "    # Get the index of the model based on its name\n",
    "    model_index = reg_model.index(model_name)  \n",
    "    y_pred = y_pred_models[model_index]  # Retrieve the predictions for the model\n",
    "    \n",
    "    # Calculate R² Score\n",
    "    r2 = r2_score(y_test, y_pred)\n",
    "    r2_scores.append(r2)\n",
    "    \n",
    "    # Calculate Adjusted R² Score\n",
    "    p = X.shape[1]  # number of features\n",
    "    adj_r2 = 1 - ((1 - r2) * (n - 1)) / (n - p - 1)\n",
    "    adj_r2_scores.append(adj_r2)\n",
    "\n",
    "\n",
    "top_reg_model = pd.DataFrame({\n",
    "    'Model_Name': top_models_df['Model'],\n",
    "    'MSE_Value': top_models_df['MSE'],\n",
    "    'R2_Score': r2_scores,\n",
    "    'adjR2_Score': adj_r2_scores\n",
    "})\n",
    "\n",
    "top_reg_model"
   ]
  },
  {
   "cell_type": "code",
   "execution_count": null,
   "id": "fc18c995-d1d3-402b-b8e2-48cd44fecebc",
   "metadata": {},
   "outputs": [],
   "source": [
    "top_3_models = [] # TODO: Add the top 3 Models\n",
    "\n",
    "# Prepare figure\n",
    "plt.figure(figsize=(12, 8))\n",
    "\n",
    "# Plot KDE for each model\n",
    "for i, model_name in enumerate(top_3_models):\n",
    "    plt.subplot(3, 1, i + 1)\n",
    "    \n",
    "    # Get the actual and predicted values for each model\n",
    "    y_pred = y_pred_reg_models[i]  # Adjust index based on how you store the predictions\n",
    "    \n",
    "    # KDE plot of actual vs predicted values\n",
    "    sns.kdeplot(y_test, label='Actual', color='blue', fill=True)\n",
    "    sns.kdeplot(y_pred, label=f'Predicted by {model_name}', color='orange', fill=True)\n",
    "    \n",
    "    # Plot settings\n",
    "    plt.title(f'Actual vs Predicted Distribution: {model_name}', fontsize=14)\n",
    "    plt.xlabel('Area Worst')\n",
    "    plt.ylabel('Density')\n",
    "    plt.legend()\n",
    "\n",
    "# Display the plots\n",
    "plt.tight_layout()\n",
    "plt.show()"
   ]
  },
  {
   "cell_type": "markdown",
   "id": "d8394da3-3ba4-4ccb-aae7-bb196d9a4bde",
   "metadata": {},
   "source": [
    "# 6. Hyperparameter Tuning Top 3 Performing Models"
   ]
  },
  {
   "cell_type": "code",
   "execution_count": null,
   "id": "254ac5b2-e8df-4197-aafa-52640846193c",
   "metadata": {},
   "outputs": [],
   "source": [
    "# TODO: Skeleton Code to be Added post Model Training"
   ]
  },
  {
   "cell_type": "code",
   "execution_count": null,
   "id": "089bc334-e9f1-4412-b636-02f8ac2960cb",
   "metadata": {},
   "outputs": [],
   "source": []
  },
  {
   "cell_type": "code",
   "execution_count": null,
   "id": "8da4f8cf-0d39-4456-b6e3-40a99d0ec5a8",
   "metadata": {},
   "outputs": [],
   "source": []
  },
  {
   "cell_type": "code",
   "execution_count": null,
   "id": "5901e950-0ab3-4b24-8056-b60206ead1d4",
   "metadata": {},
   "outputs": [],
   "source": []
  },
  {
   "cell_type": "code",
   "execution_count": null,
   "id": "d2c385cb-29d7-431e-8cbf-82c9efd8a152",
   "metadata": {},
   "outputs": [],
   "source": []
  },
  {
   "cell_type": "code",
   "execution_count": null,
   "id": "e525a482-a662-4842-8877-9f13b49a622c",
   "metadata": {},
   "outputs": [],
   "source": []
  },
  {
   "cell_type": "code",
   "execution_count": null,
   "id": "7086538d-1a9c-486c-ad38-73839d39202a",
   "metadata": {},
   "outputs": [],
   "source": []
  },
  {
   "cell_type": "code",
   "execution_count": null,
   "id": "b69b3b61-4aff-47d6-81d0-10290f7b9aff",
   "metadata": {},
   "outputs": [],
   "source": []
  },
  {
   "cell_type": "code",
   "execution_count": null,
   "id": "5cfcff00-d381-4af2-b0e2-721856f8e6e3",
   "metadata": {},
   "outputs": [],
   "source": []
  },
  {
   "cell_type": "code",
   "execution_count": null,
   "id": "66f31ec8-56d4-4e50-b1c9-04c3dd510cd4",
   "metadata": {},
   "outputs": [],
   "source": []
  },
  {
   "cell_type": "code",
   "execution_count": null,
   "id": "a1c470f4-c67c-4246-8d9d-2326ecae94b8",
   "metadata": {},
   "outputs": [],
   "source": []
  },
  {
   "cell_type": "markdown",
   "id": "239331bb-f30c-446c-a673-4773b8b66aaa",
   "metadata": {},
   "source": [
    "# 7. (Optional) Recommendation System"
   ]
  },
  {
   "cell_type": "code",
   "execution_count": null,
   "id": "2b9ae485-55e5-4eea-8ffe-505f047b7663",
   "metadata": {},
   "outputs": [],
   "source": []
  },
  {
   "cell_type": "code",
   "execution_count": null,
   "id": "d44b3366-8c36-4491-b701-2462b4114d0e",
   "metadata": {},
   "outputs": [],
   "source": []
  },
  {
   "cell_type": "code",
   "execution_count": null,
   "id": "849f684f-d683-4220-8d7a-4c949f517230",
   "metadata": {},
   "outputs": [],
   "source": []
  },
  {
   "cell_type": "code",
   "execution_count": null,
   "id": "1fde5dca-eb2b-42fd-988d-01cfb4237181",
   "metadata": {},
   "outputs": [],
   "source": []
  },
  {
   "cell_type": "code",
   "execution_count": null,
   "id": "dbd9383c-1dc2-47e3-b4ff-b00acf7394d6",
   "metadata": {},
   "outputs": [],
   "source": []
  },
  {
   "cell_type": "code",
   "execution_count": null,
   "id": "4e3ee417-cfd5-4bff-86e9-1b370dadc34f",
   "metadata": {},
   "outputs": [],
   "source": []
  },
  {
   "cell_type": "code",
   "execution_count": null,
   "id": "ad7699de-41b4-4b63-87a0-10a2d5f43bad",
   "metadata": {},
   "outputs": [],
   "source": []
  },
  {
   "cell_type": "code",
   "execution_count": null,
   "id": "8f808bec-1e47-4f48-bdb5-5188f6c2b246",
   "metadata": {},
   "outputs": [],
   "source": []
  },
  {
   "cell_type": "code",
   "execution_count": null,
   "id": "20392bd3-18a2-4bd5-934f-09e30528e671",
   "metadata": {},
   "outputs": [],
   "source": []
  },
  {
   "cell_type": "code",
   "execution_count": null,
   "id": "64244871-918d-4499-96cf-e2d10c621b4b",
   "metadata": {},
   "outputs": [],
   "source": []
  },
  {
   "cell_type": "code",
   "execution_count": null,
   "id": "db0642fd-8220-4191-87a9-71fbcb2ea049",
   "metadata": {},
   "outputs": [],
   "source": []
  },
  {
   "cell_type": "code",
   "execution_count": null,
   "id": "df220be7-60b3-4e8a-be8e-980fd8b6e298",
   "metadata": {},
   "outputs": [],
   "source": []
  },
  {
   "cell_type": "code",
   "execution_count": null,
   "id": "9e03eb19-07b8-48d1-a290-d410e65f7ac4",
   "metadata": {},
   "outputs": [],
   "source": []
  },
  {
   "cell_type": "code",
   "execution_count": null,
   "id": "bbe2e9c7-8798-40fe-bc28-ec3173a2512f",
   "metadata": {},
   "outputs": [],
   "source": []
  },
  {
   "cell_type": "code",
   "execution_count": null,
   "id": "bd0d589b-97fb-4a77-b179-a9fd569bf395",
   "metadata": {},
   "outputs": [],
   "source": []
  },
  {
   "cell_type": "code",
   "execution_count": null,
   "id": "96b4543c-68c0-4a45-8faf-19ae6b9836ea",
   "metadata": {},
   "outputs": [],
   "source": []
  },
  {
   "cell_type": "code",
   "execution_count": null,
   "id": "c3518d51-e2a4-4612-bda8-6fcc1aaf5c7f",
   "metadata": {},
   "outputs": [],
   "source": []
  },
  {
   "cell_type": "code",
   "execution_count": null,
   "id": "eaea64bc-ebe2-4786-9cc7-3a93bf015449",
   "metadata": {},
   "outputs": [],
   "source": []
  },
  {
   "cell_type": "code",
   "execution_count": null,
   "id": "11a01caa-3399-4796-be17-c6282b4b2650",
   "metadata": {},
   "outputs": [],
   "source": []
  },
  {
   "cell_type": "code",
   "execution_count": null,
   "id": "a4c9895f-2493-4787-ba0d-4f57153726b9",
   "metadata": {},
   "outputs": [],
   "source": []
  },
  {
   "cell_type": "code",
   "execution_count": null,
   "id": "2d35217d-4246-4716-8ab4-d671fd251931",
   "metadata": {},
   "outputs": [],
   "source": []
  },
  {
   "cell_type": "code",
   "execution_count": null,
   "id": "10291275-2d2b-4aaf-8409-89f355c5166b",
   "metadata": {},
   "outputs": [],
   "source": []
  },
  {
   "cell_type": "code",
   "execution_count": null,
   "id": "38a06265-de15-41a9-a1ca-03e975403f0d",
   "metadata": {},
   "outputs": [],
   "source": []
  },
  {
   "cell_type": "code",
   "execution_count": null,
   "id": "8e4d45ec-7f2d-4cc9-a9c2-bba1ae04f24b",
   "metadata": {},
   "outputs": [],
   "source": []
  }
 ],
 "metadata": {
  "kernelspec": {
   "display_name": "ubEnv",
   "language": "python",
   "name": "ubenv"
  },
  "language_info": {
   "codemirror_mode": {
    "name": "ipython",
    "version": 3
   },
   "file_extension": ".py",
   "mimetype": "text/x-python",
   "name": "python",
   "nbconvert_exporter": "python",
   "pygments_lexer": "ipython3",
   "version": "3.10.0"
  }
 },
 "nbformat": 4,
 "nbformat_minor": 5
}
