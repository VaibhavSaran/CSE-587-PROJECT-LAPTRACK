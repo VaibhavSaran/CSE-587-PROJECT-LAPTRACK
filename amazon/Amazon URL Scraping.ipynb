{
 "cells": [
  {
   "cell_type": "code",
   "execution_count": null,
   "id": "e92900f5-ffa8-4533-88a7-f0945c39cfb0",
   "metadata": {},
   "outputs": [],
   "source": [
    "import requests\n",
    "from bs4 import BeautifulSoup\n",
    "import time\n",
    "import random"
   ]
  },
  {
   "cell_type": "code",
   "execution_count": null,
   "id": "51e17988-58c8-459e-a246-7635f7d66008",
   "metadata": {},
   "outputs": [],
   "source": [
    "headers = {\n",
    "    'User-Agent': 'Mozilla/5.0 (Windows NT 10.0; Win64; x64) AppleWebKit/537.36 (KHTML, like Gecko) Chrome/91.0.4472.124 Safari/537.36',\n",
    "    'Accept': 'text/html,application/xhtml+xml,application/xml;q=0.9,image/webp,*/*;q=0.8',\n",
    "    'Accept-Language': 'en-US,en;q=0.5',\n",
    "    'Accept-Encoding': 'gzip, deflate, br',\n",
    "    'Connection': 'keep-alive',\n",
    "    'Upgrade-Insecure-Requests': '1',\n",
    "    'Cache-Control': 'max-age=0'\n",
    "}\n",
    "all_laptop_urls = set()"
   ]
  },
  {
   "cell_type": "code",
   "execution_count": null,
   "id": "528eb330-89fd-4d0a-85a1-d6513acd89b4",
   "metadata": {},
   "outputs": [],
   "source": [
    "# Function to scrape a single page\n",
    "def scrape_page(url, existing_urls):\n",
    "    \n",
    "    response = requests.get(url, headers=headers)\n",
    "    \n",
    "    if response.status_code == 200:\n",
    "        soup = BeautifulSoup(response.content, 'html.parser')\n",
    "        product_links = soup.find_all('a', class_='a-link-normal s-underline-text s-underline-link-text s-link-style a-text-normal')\n",
    "        laptop_urls = [link.get('href') for link in product_links if link.get('href')]\n",
    "        laptop_urls = ['https://www.amazon.com' + url if url.startswith('/') else url for url in laptop_urls]\n",
    "        # Filter out URLs that are already in existing_urls\n",
    "        new_laptop_urls = [url for url in laptop_urls if url not in existing_urls]\n",
    "        \n",
    "        return new_laptop_urls\n",
    "    else:\n",
    "        print(f\"Failed to download page {page_number}. Status code: {response.status_code}\")\n",
    "        return []"
   ]
  },
  {
   "cell_type": "code",
   "execution_count": null,
   "id": "465c5a69-8936-4eca-b9c0-259f4ed1ce0b",
   "metadata": {},
   "outputs": [],
   "source": [
    "# Loop through 69 pages\n",
    "for page_number in range(70):\n",
    "    print(f\"Scraping page {page_number}...\")\n",
    "    url = f'https://www.amazon.com/s?i=computers&rh=n%3A565108&fs=true&page={page_number}&qid=1726990472'\n",
    "    page_urls = scrape_page(url, all_laptop_urls)\n",
    "    \n",
    "    # Check if the page has less than 20 URLs.\n",
    "    # Sometimes due to ads and different product categories - AMmazon displays products in the range of 20-24 URLs\n",
    "    # This check is added to ensure we scrape more than 20 URLs per pagination\n",
    "    if len(page_urls) < 20:\n",
    "        print(f\"Warning: Page {page_number} has less than 20 URLs.\")\n",
    "        print(f\"URL: {url}\")\n",
    "        # Added to manually check what went wrong with the URL, why it has less than required URLs\n",
    "        input(\"Press Enter to continue...\")\n",
    "    \n",
    "    # Add URLs to the set\n",
    "    all_laptop_urls.update(page_urls)\n",
    "    \n",
    "    # Append URLs to a file - we will iterate and scrape these again to fetch product specific details.\n",
    "    with open('laptop_urls.txt', 'a') as file:\n",
    "        for url in page_urls:\n",
    "            file.write(url + '\\n')\n",
    "    \n",
    "    # Add a delay between requests to avoid overwhelming the server and getting blocked\n",
    "    time.sleep(random.uniform(1, 5))\n",
    "\n",
    "print(f\"Scraped a total of {len(all_laptop_urls)} unique laptop URLs.\")\n",
    "print(f\"All URLs have been appended to laptop_urls.txt\")"
   ]
  }
 ],
 "metadata": {
  "kernelspec": {
   "display_name": "Python 3 (ipykernel)",
   "language": "python",
   "name": "python3"
  },
  "language_info": {
   "codemirror_mode": {
    "name": "ipython",
    "version": 3
   },
   "file_extension": ".py",
   "mimetype": "text/x-python",
   "name": "python",
   "nbconvert_exporter": "python",
   "pygments_lexer": "ipython3",
   "version": "3.12.5"
  }
 },
 "nbformat": 4,
 "nbformat_minor": 5
}
