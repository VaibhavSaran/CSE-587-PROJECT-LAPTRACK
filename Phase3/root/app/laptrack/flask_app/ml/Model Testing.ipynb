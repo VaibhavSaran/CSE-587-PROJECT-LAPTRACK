{
 "cells": [
  {
   "cell_type": "code",
   "execution_count": 10,
   "id": "f4d449a0-6c4e-41f4-ac41-5962bf512767",
   "metadata": {},
   "outputs": [],
   "source": [
    "import pickle\n",
    "import numpy as np\n",
    "import pandas as pd"
   ]
  },
  {
   "cell_type": "code",
   "execution_count": 13,
   "id": "c4fc705e-3ef7-416d-94f9-2ecccf18b3d9",
   "metadata": {},
   "outputs": [
    {
     "name": "stderr",
     "output_type": "stream",
     "text": [
      "/opt/homebrew/lib/python3.11/site-packages/sklearn/base.py:376: InconsistentVersionWarning: Trying to unpickle estimator DecisionTreeRegressor from version 1.5.1 when using version 1.5.2. This might lead to breaking code or invalid results. Use at your own risk. For more info please refer to:\n",
      "https://scikit-learn.org/stable/model_persistence.html#security-maintainability-limitations\n",
      "  warnings.warn(\n"
     ]
    },
    {
     "name": "stdout",
     "output_type": "stream",
     "text": [
      "{'Processor_Model': LabelEncoder(), 'Brand': LabelEncoder(), 'Storage_Type': LabelEncoder(), 'Operating_System': LabelEncoder()}\n"
     ]
    },
    {
     "name": "stderr",
     "output_type": "stream",
     "text": [
      "/opt/homebrew/lib/python3.11/site-packages/sklearn/base.py:376: InconsistentVersionWarning: Trying to unpickle estimator RandomForestRegressor from version 1.5.1 when using version 1.5.2. This might lead to breaking code or invalid results. Use at your own risk. For more info please refer to:\n",
      "https://scikit-learn.org/stable/model_persistence.html#security-maintainability-limitations\n",
      "  warnings.warn(\n",
      "/opt/homebrew/lib/python3.11/site-packages/sklearn/base.py:376: InconsistentVersionWarning: Trying to unpickle estimator RobustScaler from version 1.5.1 when using version 1.5.2. This might lead to breaking code or invalid results. Use at your own risk. For more info please refer to:\n",
      "https://scikit-learn.org/stable/model_persistence.html#security-maintainability-limitations\n",
      "  warnings.warn(\n",
      "/opt/homebrew/lib/python3.11/site-packages/sklearn/base.py:376: InconsistentVersionWarning: Trying to unpickle estimator LabelEncoder from version 1.5.1 when using version 1.5.2. This might lead to breaking code or invalid results. Use at your own risk. For more info please refer to:\n",
      "https://scikit-learn.org/stable/model_persistence.html#security-maintainability-limitations\n",
      "  warnings.warn(\n"
     ]
    }
   ],
   "source": [
    "# Step 1: Load the pickled model and scaler\n",
    "with open('XGBoost_model.pkl', 'rb') as model_file:\n",
    "    xgBoostModel = pickle.load(model_file)\n",
    "\n",
    "with open('RandomForest_model.pkl', 'rb') as model_file:\n",
    "    randomForestModel = pickle.load(model_file)\n",
    "\n",
    "with open('scaler.pkl', 'rb') as scaler_file:\n",
    "    scaler = pickle.load(scaler_file)\n",
    "\n",
    "with open('label_encoders.pkl', 'rb') as label_encoders_file:\n",
    "    label_encoder = pickle.load(label_encoders_file)\n",
    "    print(label_encoder)\n"
   ]
  },
  {
   "cell_type": "code",
   "execution_count": 26,
   "id": "df97ceff-fee9-465a-91a8-affcd85f3e4e",
   "metadata": {},
   "outputs": [
    {
     "name": "stdout",
     "output_type": "stream",
     "text": [
      "Input DataFrame columns: Index(['Display_Resolution_Height', 'Display_Resolution_Width',\n",
      "       'Storage_Capacity(GB)', 'RAM(GB)', 'Display_Size(Inches)',\n",
      "       'Extracted_Rating', 'Battery_Life(Hours_Upto)', 'No_Of_Reviews',\n",
      "       'Laptop_Weight(Pounds)', 'Processor_Model', 'Brand', 'Storage_Type',\n",
      "       'Operating_System'],\n",
      "      dtype='object')\n",
      "Encoded DataFrame: [[1200.         1920.         2048.           16.           16.\n",
      "     4.3           5.          474.            5.54585683]]\n",
      "Encoded DataFrame:    Display_Resolution_Height  Display_Resolution_Width  Storage_Capacity(GB)  \\\n",
      "0                     1200.0                    1920.0                2048.0   \n",
      "\n",
      "   RAM(GB)  Display_Size(Inches)  Extracted_Rating  Battery_Life(Hours_Upto)  \\\n",
      "0     16.0                  16.0               4.3                       5.0   \n",
      "\n",
      "   No_Of_Reviews  Laptop_Weight(Pounds)  Processor_Model  Brand  Storage_Type  \\\n",
      "0          474.0               5.545857              126      3             3   \n",
      "\n",
      "   Operating_System  \n",
      "0                39  \n",
      "XGBoost Model Prediction: [2115.6487]\n",
      "Random Forest Model Prediction: [3559.56049714]\n"
     ]
    }
   ],
   "source": [
    "# Data for prediction\n",
    "data = {\n",
    "    'Display_Resolution_Height': [1200],\n",
    "    'Display_Resolution_Width': [1920],\n",
    "    'Storage_Capacity(GB)': [2048],\n",
    "    'RAM(GB)': [16],\n",
    "    'Display_Size(Inches)': [16],\n",
    "    'Extracted_Rating': [4.3],\n",
    "    'Battery_Life(Hours_Upto)': [5],\n",
    "    'No_Of_Reviews': [474],\n",
    "    'Laptop_Weight(Pounds)': [5.51],\n",
    "    'Processor_Model': ['Core i7'],\n",
    "    'Brand': ['ASUS'],\n",
    "    'Storage_Type': ['SSD'],\n",
    "    'Operating_System': ['Windows 11']\n",
    "}\n",
    "\n",
    "# Create a DataFrame\n",
    "input_df = pd.DataFrame(data)\n",
    "\n",
    "# Check columns in the DataFrame\n",
    "print(\"Input DataFrame columns:\", input_df.columns)\n",
    "\n",
    "\n",
    "# Separate numerical and categorical features\n",
    "numerical_features = [\n",
    "    'Display_Resolution_Height', 'Display_Resolution_Width',\n",
    "    'Storage_Capacity(GB)', 'RAM(GB)', 'Display_Size(Inches)',\n",
    "    'Extracted_Rating', 'Battery_Life(Hours_Upto)', 'No_Of_Reviews',\n",
    "    'Laptop_Weight(Pounds)'\n",
    "]\n",
    "\n",
    "categorical_features = [\n",
    "    'Processor_Model', 'Brand', 'Storage_Type', 'Operating_System'\n",
    "]\n",
    "\n",
    "# Step 4: Scale the features using the scaler\n",
    "scaled_input = scaler.transform(input_df[numerical_features])\n",
    "\n",
    "X = pd.DataFrame(scaled_input, columns=numerical_features)\n",
    "\n",
    "# Check the encoded data\n",
    "print(\"Encoded DataFrame:\", scaled_input)\n",
    "\n",
    "# Step 3: Preprocess the input data\n",
    "# Apply label encoding to categorical features if necessary (like 'Processor_Model', 'Brand', 'Storage_Type', 'Operating_System')\n",
    "X['Processor_Model'] = label_encoder['Processor_Model'].transform(input_df['Processor_Model'])\n",
    "X['Brand'] = label_encoder['Brand'].transform(input_df['Brand'])\n",
    "X['Storage_Type'] = label_encoder['Storage_Type'].transform(input_df['Storage_Type'])\n",
    "X['Operating_System'] = label_encoder['Operating_System'].transform(input_df['Operating_System'])\n",
    "\n",
    "# Check the encoded data\n",
    "print(\"Encoded DataFrame:\", X)\n",
    "\n",
    "# Step 5: Predict using both models\n",
    "xgboost_prediction = xgBoostModel.predict(X)\n",
    "random_forest_prediction = randomForestModel.predict(X)\n",
    "\n",
    "# Step 6: Display the results\n",
    "print(\"XGBoost Model Prediction:\", xgboost_prediction)\n",
    "print(\"Random Forest Model Prediction:\", random_forest_prediction)"
   ]
  },
  {
   "cell_type": "code",
   "execution_count": null,
   "id": "fcf6f2ee-a9be-45cb-ae1b-c610f49cd90e",
   "metadata": {},
   "outputs": [],
   "source": []
  }
 ],
 "metadata": {
  "kernelspec": {
   "display_name": "Python 3 (ipykernel)",
   "language": "python",
   "name": "python3"
  },
  "language_info": {
   "codemirror_mode": {
    "name": "ipython",
    "version": 3
   },
   "file_extension": ".py",
   "mimetype": "text/x-python",
   "name": "python",
   "nbconvert_exporter": "python",
   "pygments_lexer": "ipython3",
   "version": "3.11.10"
  }
 },
 "nbformat": 4,
 "nbformat_minor": 5
}
