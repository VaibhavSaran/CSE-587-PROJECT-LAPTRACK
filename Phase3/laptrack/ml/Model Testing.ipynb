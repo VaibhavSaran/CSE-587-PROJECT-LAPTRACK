{
 "cells": [
  {
   "cell_type": "code",
   "execution_count": 6,
   "id": "f4d449a0-6c4e-41f4-ac41-5962bf512767",
   "metadata": {},
   "outputs": [],
   "source": [
    "import pickle\n",
    "import numpy as np\n",
    "import pandas as pd"
   ]
  },
  {
   "cell_type": "code",
   "execution_count": 4,
   "id": "c4fc705e-3ef7-416d-94f9-2ecccf18b3d9",
   "metadata": {},
   "outputs": [
    {
     "name": "stderr",
     "output_type": "stream",
     "text": [
      "/opt/homebrew/lib/python3.11/site-packages/sklearn/base.py:376: InconsistentVersionWarning: Trying to unpickle estimator DecisionTreeRegressor from version 1.5.1 when using version 1.5.2. This might lead to breaking code or invalid results. Use at your own risk. For more info please refer to:\n",
      "https://scikit-learn.org/stable/model_persistence.html#security-maintainability-limitations\n",
      "  warnings.warn(\n",
      "/opt/homebrew/lib/python3.11/site-packages/sklearn/base.py:376: InconsistentVersionWarning: Trying to unpickle estimator RandomForestRegressor from version 1.5.1 when using version 1.5.2. This might lead to breaking code or invalid results. Use at your own risk. For more info please refer to:\n",
      "https://scikit-learn.org/stable/model_persistence.html#security-maintainability-limitations\n",
      "  warnings.warn(\n",
      "/opt/homebrew/lib/python3.11/site-packages/sklearn/base.py:376: InconsistentVersionWarning: Trying to unpickle estimator RobustScaler from version 1.5.1 when using version 1.5.2. This might lead to breaking code or invalid results. Use at your own risk. For more info please refer to:\n",
      "https://scikit-learn.org/stable/model_persistence.html#security-maintainability-limitations\n",
      "  warnings.warn(\n"
     ]
    }
   ],
   "source": [
    "# Step 1: Load the pickled model and scaler\n",
    "with open('XGBoost_model.pkl', 'rb') as model_file:\n",
    "    xgBoostModel = pickle.load(model_file)\n",
    "\n",
    "with open('RandomForest_model.pkl', 'rb') as model_file:\n",
    "    randomForestModel = pickle.load(model_file)\n",
    "\n",
    "with open('scaler.pkl', 'rb') as scaler_file:\n",
    "    scaler = pickle.load(scaler_file)\n"
   ]
  },
  {
   "cell_type": "code",
   "execution_count": 9,
   "id": "df97ceff-fee9-465a-91a8-affcd85f3e4e",
   "metadata": {},
   "outputs": [
    {
     "ename": "KeyError",
     "evalue": "\"None of [Index(['Display_Resolution_Height', 'Display_Resolution_Width',\\n       'Storage_Capacity(GB)', 'RAM(GB)', 'Display_Size(Inches)',\\n       'Extracted_Rating', 'Battery_Life(Hours_Upto)', 'No_Of_Reviews',\\n       'Laptop_Weight(Pounds)', 'Processor_Model', 'Brand', 'Storage_Type',\\n       'Operating_System'],\\n      dtype='object')] are in the [columns]\"",
     "output_type": "error",
     "traceback": [
      "\u001b[0;31m---------------------------------------------------------------------------\u001b[0m",
      "\u001b[0;31mKeyError\u001b[0m                                  Traceback (most recent call last)",
      "Cell \u001b[0;32mIn[9], line 47\u001b[0m\n\u001b[1;32m     39\u001b[0m encoded_categorical \u001b[38;5;241m=\u001b[39m pd\u001b[38;5;241m.\u001b[39mget_dummies(input_df[categorical_features])\n\u001b[1;32m     41\u001b[0m \u001b[38;5;66;03m# Ensure the column order matches the training data\u001b[39;00m\n\u001b[1;32m     42\u001b[0m \u001b[38;5;66;03m# Add missing columns with 0 values (if applicable)\u001b[39;00m\n\u001b[1;32m     43\u001b[0m \u001b[38;5;66;03m# for col in expected_columns:  # `expected_columns` is the column order during training\u001b[39;00m\n\u001b[1;32m     44\u001b[0m \u001b[38;5;66;03m#     if col not in encoded_categorical:\u001b[39;00m\n\u001b[1;32m     45\u001b[0m \u001b[38;5;66;03m#         encoded_categorical[col] = 0\u001b[39;00m\n\u001b[0;32m---> 47\u001b[0m encoded_categorical \u001b[38;5;241m=\u001b[39m \u001b[43mencoded_categorical\u001b[49m\u001b[43m[\u001b[49m\u001b[43mexpected_columns\u001b[49m\u001b[43m]\u001b[49m\n\u001b[1;32m     49\u001b[0m \u001b[38;5;66;03m# Combine scaled numerical and encoded categorical features\u001b[39;00m\n\u001b[1;32m     50\u001b[0m final_input \u001b[38;5;241m=\u001b[39m np\u001b[38;5;241m.\u001b[39mhstack([scaled_numerical, encoded_categorical])\n",
      "File \u001b[0;32m/opt/homebrew/lib/python3.11/site-packages/pandas/core/frame.py:4108\u001b[0m, in \u001b[0;36mDataFrame.__getitem__\u001b[0;34m(self, key)\u001b[0m\n\u001b[1;32m   4106\u001b[0m     \u001b[38;5;28;01mif\u001b[39;00m is_iterator(key):\n\u001b[1;32m   4107\u001b[0m         key \u001b[38;5;241m=\u001b[39m \u001b[38;5;28mlist\u001b[39m(key)\n\u001b[0;32m-> 4108\u001b[0m     indexer \u001b[38;5;241m=\u001b[39m \u001b[38;5;28;43mself\u001b[39;49m\u001b[38;5;241;43m.\u001b[39;49m\u001b[43mcolumns\u001b[49m\u001b[38;5;241;43m.\u001b[39;49m\u001b[43m_get_indexer_strict\u001b[49m\u001b[43m(\u001b[49m\u001b[43mkey\u001b[49m\u001b[43m,\u001b[49m\u001b[43m \u001b[49m\u001b[38;5;124;43m\"\u001b[39;49m\u001b[38;5;124;43mcolumns\u001b[39;49m\u001b[38;5;124;43m\"\u001b[39;49m\u001b[43m)\u001b[49m[\u001b[38;5;241m1\u001b[39m]\n\u001b[1;32m   4110\u001b[0m \u001b[38;5;66;03m# take() does not accept boolean indexers\u001b[39;00m\n\u001b[1;32m   4111\u001b[0m \u001b[38;5;28;01mif\u001b[39;00m \u001b[38;5;28mgetattr\u001b[39m(indexer, \u001b[38;5;124m\"\u001b[39m\u001b[38;5;124mdtype\u001b[39m\u001b[38;5;124m\"\u001b[39m, \u001b[38;5;28;01mNone\u001b[39;00m) \u001b[38;5;241m==\u001b[39m \u001b[38;5;28mbool\u001b[39m:\n",
      "File \u001b[0;32m/opt/homebrew/lib/python3.11/site-packages/pandas/core/indexes/base.py:6200\u001b[0m, in \u001b[0;36mIndex._get_indexer_strict\u001b[0;34m(self, key, axis_name)\u001b[0m\n\u001b[1;32m   6197\u001b[0m \u001b[38;5;28;01melse\u001b[39;00m:\n\u001b[1;32m   6198\u001b[0m     keyarr, indexer, new_indexer \u001b[38;5;241m=\u001b[39m \u001b[38;5;28mself\u001b[39m\u001b[38;5;241m.\u001b[39m_reindex_non_unique(keyarr)\n\u001b[0;32m-> 6200\u001b[0m \u001b[38;5;28;43mself\u001b[39;49m\u001b[38;5;241;43m.\u001b[39;49m\u001b[43m_raise_if_missing\u001b[49m\u001b[43m(\u001b[49m\u001b[43mkeyarr\u001b[49m\u001b[43m,\u001b[49m\u001b[43m \u001b[49m\u001b[43mindexer\u001b[49m\u001b[43m,\u001b[49m\u001b[43m \u001b[49m\u001b[43maxis_name\u001b[49m\u001b[43m)\u001b[49m\n\u001b[1;32m   6202\u001b[0m keyarr \u001b[38;5;241m=\u001b[39m \u001b[38;5;28mself\u001b[39m\u001b[38;5;241m.\u001b[39mtake(indexer)\n\u001b[1;32m   6203\u001b[0m \u001b[38;5;28;01mif\u001b[39;00m \u001b[38;5;28misinstance\u001b[39m(key, Index):\n\u001b[1;32m   6204\u001b[0m     \u001b[38;5;66;03m# GH 42790 - Preserve name from an Index\u001b[39;00m\n",
      "File \u001b[0;32m/opt/homebrew/lib/python3.11/site-packages/pandas/core/indexes/base.py:6249\u001b[0m, in \u001b[0;36mIndex._raise_if_missing\u001b[0;34m(self, key, indexer, axis_name)\u001b[0m\n\u001b[1;32m   6247\u001b[0m \u001b[38;5;28;01mif\u001b[39;00m nmissing:\n\u001b[1;32m   6248\u001b[0m     \u001b[38;5;28;01mif\u001b[39;00m nmissing \u001b[38;5;241m==\u001b[39m \u001b[38;5;28mlen\u001b[39m(indexer):\n\u001b[0;32m-> 6249\u001b[0m         \u001b[38;5;28;01mraise\u001b[39;00m \u001b[38;5;167;01mKeyError\u001b[39;00m(\u001b[38;5;124mf\u001b[39m\u001b[38;5;124m\"\u001b[39m\u001b[38;5;124mNone of [\u001b[39m\u001b[38;5;132;01m{\u001b[39;00mkey\u001b[38;5;132;01m}\u001b[39;00m\u001b[38;5;124m] are in the [\u001b[39m\u001b[38;5;132;01m{\u001b[39;00maxis_name\u001b[38;5;132;01m}\u001b[39;00m\u001b[38;5;124m]\u001b[39m\u001b[38;5;124m\"\u001b[39m)\n\u001b[1;32m   6251\u001b[0m     not_found \u001b[38;5;241m=\u001b[39m \u001b[38;5;28mlist\u001b[39m(ensure_index(key)[missing_mask\u001b[38;5;241m.\u001b[39mnonzero()[\u001b[38;5;241m0\u001b[39m]]\u001b[38;5;241m.\u001b[39munique())\n\u001b[1;32m   6252\u001b[0m     \u001b[38;5;28;01mraise\u001b[39;00m \u001b[38;5;167;01mKeyError\u001b[39;00m(\u001b[38;5;124mf\u001b[39m\u001b[38;5;124m\"\u001b[39m\u001b[38;5;132;01m{\u001b[39;00mnot_found\u001b[38;5;132;01m}\u001b[39;00m\u001b[38;5;124m not in index\u001b[39m\u001b[38;5;124m\"\u001b[39m)\n",
      "\u001b[0;31mKeyError\u001b[0m: \"None of [Index(['Display_Resolution_Height', 'Display_Resolution_Width',\\n       'Storage_Capacity(GB)', 'RAM(GB)', 'Display_Size(Inches)',\\n       'Extracted_Rating', 'Battery_Life(Hours_Upto)', 'No_Of_Reviews',\\n       'Laptop_Weight(Pounds)', 'Processor_Model', 'Brand', 'Storage_Type',\\n       'Operating_System'],\\n      dtype='object')] are in the [columns]\""
     ]
    }
   ],
   "source": [
    "# Data for prediction\n",
    "data = {\n",
    "    'Display_Resolution_Height': [1080],\n",
    "    'Display_Resolution_Width': [1920],\n",
    "    'Storage_Capacity(GB)': [512],\n",
    "    'RAM(GB)': [16],\n",
    "    'Display_Size(Inches)': [15.6],\n",
    "    'Extracted_Rating': [4.5],\n",
    "    'Battery_Life(Hours_Upto)': [8],\n",
    "    'No_Of_Reviews': [1200],\n",
    "    'Laptop_Weight(Pounds)': [4.5],\n",
    "    'Processor_Model': ['Intel Core i7'],\n",
    "    'Brand': ['Dell'],\n",
    "    'Storage_Type': ['SSD'],\n",
    "    'Operating_System': ['Windows']\n",
    "}\n",
    "\n",
    "# Create a DataFrame\n",
    "input_df = pd.DataFrame(data)\n",
    "\n",
    "# Separate numerical and categorical features\n",
    "numerical_features = [\n",
    "    'Display_Resolution_Height', 'Display_Resolution_Width',\n",
    "    'Storage_Capacity(GB)', 'RAM(GB)', 'Display_Size(Inches)',\n",
    "    'Extracted_Rating', 'Battery_Life(Hours_Upto)', 'No_Of_Reviews',\n",
    "    'Laptop_Weight(Pounds)'\n",
    "]\n",
    "\n",
    "categorical_features = [\n",
    "    'Processor_Model', 'Brand', 'Storage_Type', 'Operating_System'\n",
    "]\n",
    "\n",
    "expected_columns = numerical_features + categorical_features\n",
    "\n",
    "# Scale numerical features\n",
    "scaled_numerical = scaler.transform(input_df[numerical_features])\n",
    "\n",
    "# Encode categorical features (example: using one-hot encoding)\n",
    "encoded_categorical = pd.get_dummies(input_df[categorical_features])\n",
    "\n",
    "# Ensure the column order matches the training data\n",
    "# Add missing columns with 0 values (if applicable)\n",
    "# for col in expected_columns:  # `expected_columns` is the column order during training\n",
    "#     if col not in encoded_categorical:\n",
    "#         encoded_categorical[col] = 0\n",
    "\n",
    "encoded_categorical = encoded_categorical[expected_columns]\n",
    "\n",
    "# Combine scaled numerical and encoded categorical features\n",
    "final_input = np.hstack([scaled_numerical, encoded_categorical])\n",
    "\n",
    "# Make predictions\n",
    "xgboost_pred = xgBoostModel.predict(final_input)\n",
    "random_forest_pred = randomForestModel.predict(final_input)\n",
    "\n",
    "print(\"XGBoost Prediction:\", xgboost_pred)\n",
    "print(\"Random Forest Prediction:\", random_forest_pred)"
   ]
  },
  {
   "cell_type": "code",
   "execution_count": null,
   "id": "fcf6f2ee-a9be-45cb-ae1b-c610f49cd90e",
   "metadata": {},
   "outputs": [],
   "source": []
  }
 ],
 "metadata": {
  "kernelspec": {
   "display_name": "Python 3 (ipykernel)",
   "language": "python",
   "name": "python3"
  },
  "language_info": {
   "codemirror_mode": {
    "name": "ipython",
    "version": 3
   },
   "file_extension": ".py",
   "mimetype": "text/x-python",
   "name": "python",
   "nbconvert_exporter": "python",
   "pygments_lexer": "ipython3",
   "version": "3.11.10"
  }
 },
 "nbformat": 4,
 "nbformat_minor": 5
}
