{
 "cells": [
  {
   "cell_type": "markdown",
   "id": "cfdfabe5-23d4-429f-ab1a-0e962dedb0e0",
   "metadata": {},
   "source": [
    "# 1. Importing Modules"
   ]
  },
  {
   "cell_type": "code",
   "execution_count": 1,
   "id": "5048f327-271e-40a9-9fd7-a34501f7b527",
   "metadata": {},
   "outputs": [],
   "source": [
    "import requests\n",
    "from bs4 import BeautifulSoup\n",
    "import re\n",
    "import numpy as np\n",
    "import pandas as pd\n",
    "import time\n",
    "import random"
   ]
  },
  {
   "cell_type": "markdown",
   "id": "8921e0c1-8401-42e6-9d67-d3323b6936b1",
   "metadata": {},
   "source": [
    "## Explanation for Modules\n",
    "- `requests` module is to send a request to the URL to fetch the data.\n",
    "- `BeautifulSoup` is a class using the object of which we will deal with the scraped HTML data.\n",
    "- `re` is for using regex patterns to filter out data and create our dataframe in an organized format."
   ]
  },
  {
   "cell_type": "code",
   "execution_count": null,
   "id": "37c99dcd-37ca-4b82-9a21-1fe66b7a5530",
   "metadata": {},
   "outputs": [],
   "source": [
    "# 92 pages available for scraping\n",
    "URL = \"https://www.flipkart.com/search?q=laptop&otracker=search&otracker1=search&marketplace=FLIPKART&as-show=on&as=off&page=1\"\n",
    "request_header = {\n",
    "    'Content-Type': 'text/html; charset=UTF-8',\n",
    "    'User-Agent': 'Mozilla/5.0 (Windows NT 10.0; Win64; x64; rv:109.0) Gecko/20100101 Firefox/119.0',\n",
    "    'Accept-Encoding': 'gzip, deflate, br',\n",
    "    'Referer': 'https://www.flipkart.com/',\n",
    "    'Origin': 'https://www.flipkart.com',\n",
    "    'Accept-Language': 'en-US,en;q=0.9'\n",
    "}\n",
    "\n",
    "response = requests.get(URL, headers=request_header)\n",
    "\n",
    "print(response)"
   ]
  },
  {
   "cell_type": "code",
   "execution_count": null,
   "id": "81653e29-0ee4-4593-a141-3a33aa63379a",
   "metadata": {},
   "outputs": [],
   "source": [
    "response.text"
   ]
  },
  {
   "cell_type": "code",
   "execution_count": null,
   "id": "970b062a-9ae7-4971-9ef6-74392c114659",
   "metadata": {},
   "outputs": [],
   "source": [
    "html_scrape = BeautifulSoup(response.text)"
   ]
  },
  {
   "cell_type": "code",
   "execution_count": null,
   "id": "67129c0c-9f7e-47d9-9266-27a1a1a2072c",
   "metadata": {},
   "outputs": [],
   "source": [
    "html_scrape"
   ]
  },
  {
   "cell_type": "code",
   "execution_count": null,
   "id": "af003ba4-e771-4872-af43-cac53abad649",
   "metadata": {},
   "outputs": [],
   "source": []
  },
  {
   "cell_type": "markdown",
   "id": "390ae5d1-85d1-4dc1-bd35-142aecb9cdf7",
   "metadata": {},
   "source": [
    "# 2. Scraping All The Webpages Of Flipkart For Laptop Data"
   ]
  },
  {
   "cell_type": "markdown",
   "id": "c4927b94-29f4-46a7-be97-86c13319413b",
   "metadata": {},
   "source": [
    "<h2><a href=\"https://www.flipkart.com/search?q=laptop&otracker=search&otracker1=search&marketplace=FLIPKART&as-show=on&as=off&page=1\">Click here for the Initial Site</a></h2>\n",
    "<br>\n",
    "<img src = \"images\\total pages.jpg\">\n",
    "<br>\n",
    "- As highlighted in the red box of the above image we have access to <b><u>68 pages</u></b> of flipkart to scrape the data from.\n",
    "- So based on that we will write the code to scrape the data"
   ]
  },
  {
   "cell_type": "code",
   "execution_count": 2,
   "id": "be564835-e650-42a8-877d-b26cf1d17326",
   "metadata": {},
   "outputs": [],
   "source": [
    "# Defining Request Headers to scrape the data\n",
    "request_header = {\n",
    "    'Content-Type': 'text/html; charset=UTF-8',\n",
    "    'User-Agent': 'Mozilla/5.0 (Windows NT 10.0; Win64; x64; rv:109.0) Gecko/20100101 Firefox/119.0',\n",
    "    'Accept-Encoding': 'gzip, deflate, br',\n",
    "    'Referer': 'https://www.flipkart.com/',\n",
    "    'Origin': 'https://www.flipkart.com',\n",
    "    'Accept-Language': 'en-US,en;q=0.9'\n",
    "}"
   ]
  },
  {
   "cell_type": "markdown",
   "id": "50b29885-7ca1-487d-99e8-8528cc0f5d13",
   "metadata": {},
   "source": [
    "### Understanding The Reqauest Headers\n",
    "\n",
    "- **Content-Type**: This tells the server what kind of data you’re sending. In this case, it’s HTML text with a specific character set (UTF-8).\n",
    "- **User-Agent**: This identifies the browser and operating system making the request. It helps the server understand how to format the response. For example, we are using Firefox on a Windows 10 machine.\n",
    "- **Accept-Encoding**: This tells the server which compression methods your client can handle. Here, it indicates that the client can accept responses compressed with gzip, deflate, or br (Brotli).\n",
    "- **Referer**: This indicates the URL from which the request originated. It helps the server understand the context of the request. In this scenario, it shows that the request is coming from Flipkart’s website.\n",
    "- **Origin**: Similar to Referer, this specifies the origin of the request, which is also Flipkart in this case. It’s used for security purposes, particularly with cross-origin requests.\n",
    "- **Accept-Language**: This tells the server which languages your client prefers. Here, it indicates a preference for US English, but can also accept other forms of English."
   ]
  },
  {
   "cell_type": "code",
   "execution_count": 4,
   "id": "e75b9c5f-6e33-42b7-9e19-93b1e4075b5a",
   "metadata": {},
   "outputs": [],
   "source": [
    "# Storing the URL as a f-string\n",
    "page = 1\n",
    "URL = f\"https://www.flipkart.com/search?q=laptop&otracker=search&otracker1=search&marketplace=FLIPKART&as-show=on&as=off&page={page}\""
   ]
  },
  {
   "cell_type": "markdown",
   "id": "9e3070d5-3167-41bb-8a6c-520d506f64a7",
   "metadata": {},
   "source": [
    "- The URL is stored as f-string becuase, by changing the page number in the URL, we can access the next page data, this can be utilized in conjunction with for loop to scrape all the available data."
   ]
  },
  {
   "cell_type": "code",
   "execution_count": 6,
   "id": "b5c40690-24d5-4f43-b723-0e97e9e56ab8",
   "metadata": {
    "scrolled": true
   },
   "outputs": [
    {
     "name": "stdout",
     "output_type": "stream",
     "text": [
      "5 Page 1  status: <Response [200]>\n",
      "8 Page 2  status: <Response [200]>\n",
      "8 Page 3  status: <Response [200]>\n",
      "8 Page 4  status: <Response [200]>\n",
      "9 Page 5  status: <Response [200]>\n",
      "5 Page 6  status: <Response [200]>\n",
      "9 Page 7  status: <Response [200]>\n",
      "6 Page 8  status: <Response [200]>\n",
      "10 Page 9  status: <Response [200]>\n",
      "8 Page 10  status: <Response [200]>\n",
      "9 Page 11  status: <Response [200]>\n",
      "10 Page 12  status: <Response [200]>\n",
      "9 Page 13  status: <Response [200]>\n",
      "8 Page 14  status: <Response [200]>\n",
      "9 Page 15  status: <Response [200]>\n",
      "7 Page 16  status: <Response [200]>\n",
      "9 Page 17  status: <Response [200]>\n",
      "6 Page 18  status: <Response [200]>\n",
      "6 Page 19  status: <Response [200]>\n",
      "10 Page 20  status: <Response [200]>\n",
      "6 Page 21  status: <Response [200]>\n",
      "5 Page 22  status: <Response [200]>\n",
      "5 Page 23  status: <Response [200]>\n",
      "8 Page 24  status: <Response [200]>\n",
      "8 Page 25  status: <Response [200]>\n",
      "10 Page 26  status: <Response [200]>\n",
      "9 Page 27  status: <Response [200]>\n",
      "9 Page 28  status: <Response [200]>\n",
      "8 Page 29  status: <Response [200]>\n",
      "7 Page 30  status: <Response [200]>\n",
      "5 Page 31  status: <Response [200]>\n",
      "5 Page 32  status: <Response [200]>\n",
      "6 Page 33  status: <Response [200]>\n",
      "10 Page 34  status: <Response [200]>\n",
      "7 Page 35  status: <Response [200]>\n",
      "9 Page 36  status: <Response [200]>\n",
      "10 Page 37  status: <Response [200]>\n",
      "7 Page 38  status: <Response [200]>\n",
      "8 Page 39  status: <Response [200]>\n",
      "9 Page 40  status: <Response [200]>\n",
      "9 Page 41  status: <Response [200]>\n",
      "5 Page 42  status: <Response [200]>\n",
      "10 Page 43  status: <Response [200]>\n",
      "10 Page 44  status: <Response [200]>\n",
      "5 Page 45  status: <Response [200]>\n",
      "8 Page 46  status: <Response [200]>\n",
      "8 Page 47  status: <Response [200]>\n",
      "6 Page 48  status: <Response [200]>\n",
      "6 Page 49  status: <Response [200]>\n",
      "8 Page 50  status: <Response [200]>\n",
      "6 Page 51  status: <Response [200]>\n",
      "9 Page 52  status: <Response [200]>\n",
      "6 Page 53  status: <Response [200]>\n",
      "9 Page 54  status: <Response [200]>\n",
      "6 Page 55  status: <Response [200]>\n",
      "9 Page 56  status: <Response [200]>\n",
      "7 Page 57  status: <Response [200]>\n",
      "6 Page 58  status: <Response [200]>\n",
      "5 Page 59  status: <Response [200]>\n",
      "6 Page 60  status: <Response [200]>\n",
      "6 Page 61  status: <Response [200]>\n",
      "6 Page 62  status: <Response [200]>\n",
      "8 Page 63  status: <Response [200]>\n",
      "6 Page 64  status: <Response [200]>\n",
      "7 Page 65  status: <Response [200]>\n",
      "6 Page 66  status: <Response [200]>\n",
      "6 Page 67  status: <Response [200]>\n",
      "8 Page 68  status: <Response [200]>\n"
     ]
    }
   ],
   "source": [
    "total_pages = 68\n",
    "i = 1\n",
    "raw_text = []\n",
    "for page in range (1, total_pages+1):\n",
    "    response = requests.get(URL, headers=request_header)\n",
    "    delay = random.randint(5,10)\n",
    "    print(delay,end=\" \")\n",
    "    while response.status_code!=200:\n",
    "        time.sleep(delay)\n",
    "        response = requests.get(URL,headers=request_header)\n",
    "    \n",
    "    print(\"Page\",i,\" status:\",response)\n",
    "    i+=1\n",
    "    raw_text.append(response.text)\n",
    "    time.sleep(delay)"
   ]
  },
  {
   "cell_type": "code",
   "execution_count": 9,
   "id": "e490c331-2ddf-4c22-9079-5af29bd27b4a",
   "metadata": {},
   "outputs": [
    {
     "data": {
      "text/html": [
       "<div>\n",
       "<style scoped>\n",
       "    .dataframe tbody tr th:only-of-type {\n",
       "        vertical-align: middle;\n",
       "    }\n",
       "\n",
       "    .dataframe tbody tr th {\n",
       "        vertical-align: top;\n",
       "    }\n",
       "\n",
       "    .dataframe thead th {\n",
       "        text-align: right;\n",
       "    }\n",
       "</style>\n",
       "<table border=\"1\" class=\"dataframe\">\n",
       "  <thead>\n",
       "    <tr style=\"text-align: right;\">\n",
       "      <th></th>\n",
       "      <th>Raw Data</th>\n",
       "    </tr>\n",
       "  </thead>\n",
       "  <tbody>\n",
       "    <tr>\n",
       "      <th>0</th>\n",
       "      <td>&lt;!doctype html&gt;&lt;html lang=\"en\"&gt;&lt;head&gt;&lt;link hre...</td>\n",
       "    </tr>\n",
       "    <tr>\n",
       "      <th>1</th>\n",
       "      <td>&lt;!doctype html&gt;&lt;html lang=\"en\"&gt;&lt;head&gt;&lt;link hre...</td>\n",
       "    </tr>\n",
       "    <tr>\n",
       "      <th>2</th>\n",
       "      <td>&lt;!doctype html&gt;&lt;html lang=\"en\"&gt;&lt;head&gt;&lt;link hre...</td>\n",
       "    </tr>\n",
       "    <tr>\n",
       "      <th>3</th>\n",
       "      <td>&lt;!doctype html&gt;&lt;html lang=\"en\"&gt;&lt;head&gt;&lt;link hre...</td>\n",
       "    </tr>\n",
       "    <tr>\n",
       "      <th>4</th>\n",
       "      <td>&lt;!doctype html&gt;&lt;html lang=\"en\"&gt;&lt;head&gt;&lt;link hre...</td>\n",
       "    </tr>\n",
       "  </tbody>\n",
       "</table>\n",
       "</div>"
      ],
      "text/plain": [
       "                                            Raw Data\n",
       "0  <!doctype html><html lang=\"en\"><head><link hre...\n",
       "1  <!doctype html><html lang=\"en\"><head><link hre...\n",
       "2  <!doctype html><html lang=\"en\"><head><link hre...\n",
       "3  <!doctype html><html lang=\"en\"><head><link hre...\n",
       "4  <!doctype html><html lang=\"en\"><head><link hre..."
      ]
     },
     "execution_count": 9,
     "metadata": {},
     "output_type": "execute_result"
    }
   ],
   "source": [
    "df = pd.DataFrame(raw_text,columns=[\"Raw Data\"])\n",
    "df.head()"
   ]
  },
  {
   "cell_type": "code",
   "execution_count": 11,
   "id": "99eaca52-ee93-4ab2-bdb9-c651f97ad35f",
   "metadata": {},
   "outputs": [],
   "source": [
    "df.to_csv(r\"data\\raw.csv\")"
   ]
  },
  {
   "cell_type": "code",
   "execution_count": 12,
   "id": "d1d6d2dc-90c2-49d1-aa17-fb6b71c038e2",
   "metadata": {},
   "outputs": [
    {
     "data": {
      "text/html": [
       "<div>\n",
       "<style scoped>\n",
       "    .dataframe tbody tr th:only-of-type {\n",
       "        vertical-align: middle;\n",
       "    }\n",
       "\n",
       "    .dataframe tbody tr th {\n",
       "        vertical-align: top;\n",
       "    }\n",
       "\n",
       "    .dataframe thead th {\n",
       "        text-align: right;\n",
       "    }\n",
       "</style>\n",
       "<table border=\"1\" class=\"dataframe\">\n",
       "  <thead>\n",
       "    <tr style=\"text-align: right;\">\n",
       "      <th></th>\n",
       "      <th>Unnamed: 0</th>\n",
       "      <th>Raw Data</th>\n",
       "    </tr>\n",
       "  </thead>\n",
       "  <tbody>\n",
       "    <tr>\n",
       "      <th>0</th>\n",
       "      <td>0</td>\n",
       "      <td>&lt;!doctype html&gt;&lt;html lang=\"en\"&gt;&lt;head&gt;&lt;link hre...</td>\n",
       "    </tr>\n",
       "    <tr>\n",
       "      <th>1</th>\n",
       "      <td>1</td>\n",
       "      <td>&lt;!doctype html&gt;&lt;html lang=\"en\"&gt;&lt;head&gt;&lt;link hre...</td>\n",
       "    </tr>\n",
       "    <tr>\n",
       "      <th>2</th>\n",
       "      <td>2</td>\n",
       "      <td>&lt;!doctype html&gt;&lt;html lang=\"en\"&gt;&lt;head&gt;&lt;link hre...</td>\n",
       "    </tr>\n",
       "    <tr>\n",
       "      <th>3</th>\n",
       "      <td>3</td>\n",
       "      <td>&lt;!doctype html&gt;&lt;html lang=\"en\"&gt;&lt;head&gt;&lt;link hre...</td>\n",
       "    </tr>\n",
       "    <tr>\n",
       "      <th>4</th>\n",
       "      <td>4</td>\n",
       "      <td>&lt;!doctype html&gt;&lt;html lang=\"en\"&gt;&lt;head&gt;&lt;link hre...</td>\n",
       "    </tr>\n",
       "  </tbody>\n",
       "</table>\n",
       "</div>"
      ],
      "text/plain": [
       "   Unnamed: 0                                           Raw Data\n",
       "0           0  <!doctype html><html lang=\"en\"><head><link hre...\n",
       "1           1  <!doctype html><html lang=\"en\"><head><link hre...\n",
       "2           2  <!doctype html><html lang=\"en\"><head><link hre...\n",
       "3           3  <!doctype html><html lang=\"en\"><head><link hre...\n",
       "4           4  <!doctype html><html lang=\"en\"><head><link hre..."
      ]
     },
     "execution_count": 12,
     "metadata": {},
     "output_type": "execute_result"
    }
   ],
   "source": [
    "da = pd.read_csv(r\"data\\raw.csv\")\n",
    "da.head()"
   ]
  },
  {
   "cell_type": "code",
   "execution_count": null,
   "id": "8026567e-2253-47ef-b6bd-f4e05806e5a1",
   "metadata": {},
   "outputs": [],
   "source": [
    "for data in html_scrape.find_all('div', class_=\"tUxRFH\"):\n",
    "    text = data.text\n",
    "    print(text)\n",
    "    print()\n",
    "    # regex_pattern = re.findall(\"\\ Compare\\w+\",text)\n",
    "    # if regex_pattern:\n",
    "    #     print(regex_pattern[0][8:])\n",
    "    # else:\n",
    "    #     continue"
   ]
  },
  {
   "cell_type": "code",
   "execution_count": null,
   "id": "b803c552-30cc-4f0e-936d-c715ff981100",
   "metadata": {},
   "outputs": [],
   "source": [
    "laptop_company = []\n",
    "processor_company = []\n",
    "processor = []\n",
    "operating_system = []\n",
    "RAM = []\n",
    "storage = []\n",
    "storage_type = [] # If not SSD Default will be HDD\n",
    "rating = []\n",
    "screen_size = []\n",
    "price = [] # Target column"
   ]
  },
  {
   "cell_type": "code",
   "execution_count": null,
   "id": "546a8661-0c92-41a5-b9ed-b5e4ad6a030d",
   "metadata": {},
   "outputs": [],
   "source": []
  },
  {
   "cell_type": "code",
   "execution_count": null,
   "id": "26d97e3f-0011-49b2-82de-9a6552ae02ae",
   "metadata": {},
   "outputs": [],
   "source": []
  },
  {
   "cell_type": "code",
   "execution_count": null,
   "id": "e3f7d7b5-54ce-4ce5-b634-5fa2875d4a7f",
   "metadata": {},
   "outputs": [],
   "source": []
  },
  {
   "cell_type": "code",
   "execution_count": null,
   "id": "eb5cfdc7-b862-4f41-9f2e-368f75b576cf",
   "metadata": {},
   "outputs": [],
   "source": []
  },
  {
   "cell_type": "code",
   "execution_count": null,
   "id": "6e96a32e-6f0e-49c8-9b0e-78182632e13a",
   "metadata": {},
   "outputs": [],
   "source": []
  },
  {
   "cell_type": "code",
   "execution_count": null,
   "id": "7a927d3b-c661-45b7-9e92-d14fab9d7ee2",
   "metadata": {},
   "outputs": [],
   "source": []
  },
  {
   "cell_type": "code",
   "execution_count": null,
   "id": "5ae1754a-34e3-4b39-9166-ebd8b0faef15",
   "metadata": {},
   "outputs": [],
   "source": []
  },
  {
   "cell_type": "markdown",
   "id": "ec43efed-e691-45ec-8767-2ead10e0a846",
   "metadata": {},
   "source": [
    "# References\n",
    "\n",
    "1. <a href=\"https://regex101.com/\">Regex 101</a>: Used for regex pattern matching and debugging"
   ]
  }
 ],
 "metadata": {
  "kernelspec": {
   "display_name": "ubEnv",
   "language": "python",
   "name": "ubenv"
  },
  "language_info": {
   "codemirror_mode": {
    "name": "ipython",
    "version": 3
   },
   "file_extension": ".py",
   "mimetype": "text/x-python",
   "name": "python",
   "nbconvert_exporter": "python",
   "pygments_lexer": "ipython3",
   "version": "3.10.0"
  }
 },
 "nbformat": 4,
 "nbformat_minor": 5
}
